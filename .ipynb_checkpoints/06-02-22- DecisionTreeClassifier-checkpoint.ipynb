{
 "cells": [
  {
   "cell_type": "code",
   "execution_count": 1,
   "metadata": {
    "execution": {
     "iopub.execute_input": "2022-04-13T22:10:53.184885Z",
     "iopub.status.busy": "2022-04-13T22:10:53.184535Z",
     "iopub.status.idle": "2022-04-13T22:10:53.209342Z",
     "shell.execute_reply": "2022-04-13T22:10:53.208735Z",
     "shell.execute_reply.started": "2022-04-13T22:10:53.184793Z"
    }
   },
   "outputs": [],
   "source": [
    "import numpy as np\n",
    "import pandas as pd"
   ]
  },
  {
   "cell_type": "code",
   "execution_count": 4,
   "metadata": {
    "execution": {
     "iopub.execute_input": "2022-04-13T22:11:32.922214Z",
     "iopub.status.busy": "2022-04-13T22:11:32.921948Z",
     "iopub.status.idle": "2022-04-13T22:11:32.929105Z",
     "shell.execute_reply": "2022-04-13T22:11:32.928188Z",
     "shell.execute_reply.started": "2022-04-13T22:11:32.922188Z"
    }
   },
   "outputs": [],
   "source": [
    "from sklearn.datasets import load_iris\n",
    "x,y = load_iris(return_X_y= True)"
   ]
  },
  {
   "cell_type": "code",
   "execution_count": 6,
   "metadata": {
    "execution": {
     "iopub.execute_input": "2022-04-13T22:11:39.213049Z",
     "iopub.status.busy": "2022-04-13T22:11:39.212287Z",
     "iopub.status.idle": "2022-04-13T22:11:39.218635Z",
     "shell.execute_reply": "2022-04-13T22:11:39.217664Z",
     "shell.execute_reply.started": "2022-04-13T22:11:39.213007Z"
    }
   },
   "outputs": [],
   "source": [
    "from sklearn.model_selection import train_test_split\n",
    "X_train, X_test, y_train, y_test= train_test_split(x,y,test_size=0.20,random_state=0)"
   ]
  },
  {
   "cell_type": "code",
   "execution_count": 9,
   "metadata": {
    "execution": {
     "iopub.execute_input": "2022-04-13T22:13:02.778178Z",
     "iopub.status.busy": "2022-04-13T22:13:02.777891Z",
     "iopub.status.idle": "2022-04-13T22:13:02.783121Z",
     "shell.execute_reply": "2022-04-13T22:13:02.782509Z",
     "shell.execute_reply.started": "2022-04-13T22:13:02.778146Z"
    }
   },
   "outputs": [],
   "source": [
    "from sklearn.tree import DecisionTreeClassifier\n",
    "model=DecisionTreeClassifier().fit(X_train,y_train)"
   ]
  },
  {
   "cell_type": "code",
   "execution_count": 10,
   "metadata": {
    "execution": {
     "iopub.execute_input": "2022-04-13T22:13:20.048988Z",
     "iopub.status.busy": "2022-04-13T22:13:20.048510Z",
     "iopub.status.idle": "2022-04-13T22:13:20.053490Z",
     "shell.execute_reply": "2022-04-13T22:13:20.052853Z",
     "shell.execute_reply.started": "2022-04-13T22:13:20.048935Z"
    }
   },
   "outputs": [],
   "source": [
    "y_pred=model.predict(X_test)"
   ]
  },
  {
   "cell_type": "code",
   "execution_count": 12,
   "metadata": {
    "execution": {
     "iopub.execute_input": "2022-04-13T22:14:22.062284Z",
     "iopub.status.busy": "2022-04-13T22:14:22.061994Z",
     "iopub.status.idle": "2022-04-13T22:14:22.086197Z",
     "shell.execute_reply": "2022-04-13T22:14:22.085574Z",
     "shell.execute_reply.started": "2022-04-13T22:14:22.062241Z"
    }
   },
   "outputs": [],
   "source": [
    "df=pd.DataFrame({'Real Values':y_test,'Predicted Values':y_pred})\n",
    "df"
   ]
  }
 ],
 "metadata": {
  "kernelspec": {
   "display_name": "Python 3 (ipykernel)",
   "language": "python",
   "name": "python3"
  },
  "language_info": {
   "codemirror_mode": {
    "name": "ipython",
    "version": 3
   },
   "file_extension": ".py",
   "mimetype": "text/x-python",
   "name": "python",
   "nbconvert_exporter": "python",
   "pygments_lexer": "ipython3",
   "version": "3.10.1"
  }
 },
 "nbformat": 4,
 "nbformat_minor": 4
}

{
 "cells": [
  {
   "cell_type": "code",
   "execution_count": 2,
   "metadata": {
    "execution": {
     "iopub.execute_input": "2022-01-06T06:30:09.562237Z",
     "iopub.status.busy": "2022-01-06T06:30:09.561066Z",
     "iopub.status.idle": "2022-01-06T06:30:09.591786Z",
     "shell.execute_reply": "2022-01-06T06:30:09.590931Z",
     "shell.execute_reply.started": "2022-01-06T06:30:09.562054Z"
    }
   },
   "outputs": [],
   "source": [
    "# lab 1 7 02 2022"
   ]
  },
  {
   "cell_type": "code",
   "execution_count": 1,
   "metadata": {
    "execution": {
     "iopub.execute_input": "2022-04-15T01:54:50.488683Z",
     "iopub.status.busy": "2022-04-15T01:54:50.488186Z",
     "iopub.status.idle": "2022-04-15T01:54:50.495475Z",
     "shell.execute_reply": "2022-04-15T01:54:50.494279Z",
     "shell.execute_reply.started": "2022-04-15T01:54:50.488624Z"
    }
   },
   "outputs": [
    {
     "name": "stdout",
     "output_type": "stream",
     "text": [
      "Hello World\n"
     ]
    }
   ],
   "source": [
    "print(\"Hello World\")"
   ]
  },
  {
   "cell_type": "code",
   "execution_count": 3,
   "metadata": {
    "execution": {
     "iopub.execute_input": "2022-04-15T01:56:06.669567Z",
     "iopub.status.busy": "2022-04-15T01:56:06.669278Z",
     "iopub.status.idle": "2022-04-15T01:56:06.677758Z",
     "shell.execute_reply": "2022-04-15T01:56:06.676508Z",
     "shell.execute_reply.started": "2022-04-15T01:56:06.669535Z"
    }
   },
   "outputs": [
    {
     "name": "stdout",
     "output_type": "stream",
     "text": [
      "Hello World\n"
     ]
    },
    {
     "data": {
      "text/plain": [
       "' print(\"Sunshine daisies buttermellow\")\\n  print(\"abcd\")\\n'"
      ]
     },
     "execution_count": 3,
     "metadata": {},
     "output_type": "execute_result"
    }
   ],
   "source": [
    "print(\"Hello World\")\n",
    "\"\"\" print(\"Sunshine daisies buttermellow\")\n",
    "  print(\"abcd\")\n",
    "\"\"\""
   ]
  },
  {
   "cell_type": "code",
   "execution_count": 4,
   "metadata": {
    "execution": {
     "iopub.execute_input": "2022-04-15T16:38:52.607778Z",
     "iopub.status.busy": "2022-04-15T16:38:52.607357Z",
     "iopub.status.idle": "2022-04-15T16:38:52.637301Z",
     "shell.execute_reply": "2022-04-15T16:38:52.636455Z",
     "shell.execute_reply.started": "2022-04-15T16:38:52.607676Z"
    }
   },
   "outputs": [
    {
     "name": "stdout",
     "output_type": "stream",
     "text": [
      "<class 'int'>\n",
      "<class 'float'>\n",
      "<class 'str'>\n"
     ]
    }
   ],
   "source": [
    "a=3\n",
    "b=9.0\n",
    "c='banasthali'\n",
    "print(type(a))\n",
    "print(type(b))\n",
    "print(type(c))"
   ]
  },
  {
   "cell_type": "code",
   "execution_count": 5,
   "metadata": {
    "execution": {
     "iopub.execute_input": "2022-04-15T16:39:10.009361Z",
     "iopub.status.busy": "2022-04-15T16:39:10.008407Z",
     "iopub.status.idle": "2022-04-15T16:39:12.038643Z",
     "shell.execute_reply": "2022-04-15T16:39:12.037698Z",
     "shell.execute_reply.started": "2022-04-15T16:39:10.009315Z"
    }
   },
   "outputs": [],
   "source": [
    "a=input(\"Enter a number\")\n",
    "print(type(a))\n",
    "a=int(a)+2\n",
    "a"
   ]
  },
  {
   "cell_type": "code",
   "execution_count": null,
   "metadata": {},
   "outputs": [],
   "source": [
    "_abc=8\n",
    "ab9=9\n",
    "ab_45=10\n",
    "#4abc=7\n",
    "print(_abc)\n",
    "print(ab9)\n",
    "print(ab_45)\n",
    "#print(4abc)"
   ]
  },
  {
   "cell_type": "code",
   "execution_count": null,
   "metadata": {
    "execution": {
     "iopub.execute_input": "2022-04-15T16:41:04.288734Z",
     "iopub.status.busy": "2022-04-15T16:41:04.288443Z",
     "iopub.status.idle": "2022-04-15T16:41:04.294365Z",
     "shell.execute_reply": "2022-04-15T16:41:04.293578Z",
     "shell.execute_reply.started": "2022-04-15T16:41:04.288700Z"
    }
   },
   "outputs": [],
   "source": [
    "x=11\n",
    "if x>10:\n",
    "    print(x)\n",
    "    print(\"hello\")\n",
    "print(\"Hi\")"
   ]
  },
  {
   "cell_type": "code",
   "execution_count": null,
   "metadata": {
    "execution": {
     "iopub.execute_input": "2022-04-15T16:41:44.376566Z",
     "iopub.status.busy": "2022-04-15T16:41:44.376260Z",
     "iopub.status.idle": "2022-04-15T16:41:44.381815Z",
     "shell.execute_reply": "2022-04-15T16:41:44.380767Z",
     "shell.execute_reply.started": "2022-04-15T16:41:44.376536Z"
    }
   },
   "outputs": [],
   "source": [
    "x=11\n",
    "if x<10:\n",
    "    print(x)\n",
    "    print(\"hello\")\n",
    "print(\"Hi\")"
   ]
  },
  {
   "cell_type": "code",
   "execution_count": null,
   "metadata": {
    "execution": {
     "iopub.execute_input": "2022-04-15T16:42:19.284640Z",
     "iopub.status.busy": "2022-04-15T16:42:19.284326Z",
     "iopub.status.idle": "2022-04-15T16:42:19.292162Z",
     "shell.execute_reply": "2022-04-15T16:42:19.291269Z",
     "shell.execute_reply.started": "2022-04-15T16:42:19.284606Z"
    }
   },
   "outputs": [],
   "source": [
    "for i in range(1,20,1):\n",
    "    print(i)"
   ]
  },
  {
   "cell_type": "code",
   "execution_count": null,
   "metadata": {
    "execution": {
     "iopub.execute_input": "2022-04-15T16:42:29.926647Z",
     "iopub.status.busy": "2022-04-15T16:42:29.925886Z",
     "iopub.status.idle": "2022-04-15T16:42:29.934096Z",
     "shell.execute_reply": "2022-04-15T16:42:29.933311Z",
     "shell.execute_reply.started": "2022-04-15T16:42:29.926606Z"
    }
   },
   "outputs": [],
   "source": [
    "i=20\n",
    "while i>0:\n",
    "    print(i)\n",
    "    i=i-1"
   ]
  },
  {
   "cell_type": "code",
   "execution_count": null,
   "metadata": {
    "execution": {
     "iopub.execute_input": "2022-04-15T16:43:19.078255Z",
     "iopub.status.busy": "2022-04-15T16:43:19.077965Z",
     "iopub.status.idle": "2022-04-15T16:43:19.083543Z",
     "shell.execute_reply": "2022-04-15T16:43:19.082918Z",
     "shell.execute_reply.started": "2022-04-15T16:43:19.078220Z"
    }
   },
   "outputs": [],
   "source": [
    "x=10\n",
    "if x<11:\n",
    "    print(x)\n",
    "else:\n",
    "    print(\"Hi\")"
   ]
  },
  {
   "cell_type": "code",
   "execution_count": null,
   "metadata": {
    "execution": {
     "iopub.execute_input": "2022-04-15T16:44:48.134645Z",
     "iopub.status.busy": "2022-04-15T16:44:48.134339Z",
     "iopub.status.idle": "2022-04-15T16:44:48.140707Z",
     "shell.execute_reply": "2022-04-15T16:44:48.140060Z",
     "shell.execute_reply.started": "2022-04-15T16:44:48.134614Z"
    }
   },
   "outputs": [],
   "source": [
    "x=11\n",
    "if x>11:\n",
    "    print(x)\n",
    "elif x<11:\n",
    "    print(\"hellow\")\n",
    "elif x==11:\n",
    "    print(\"goal\")\n",
    "else:\n",
    "    print(\"Hi\")"
   ]
  },
  {
   "cell_type": "code",
   "execution_count": null,
   "metadata": {
    "execution": {
     "iopub.execute_input": "2022-04-15T16:46:49.505457Z",
     "iopub.status.busy": "2022-04-15T16:46:49.505170Z",
     "iopub.status.idle": "2022-04-15T16:46:49.511429Z",
     "shell.execute_reply": "2022-04-15T16:46:49.510678Z",
     "shell.execute_reply.started": "2022-04-15T16:46:49.505428Z"
    }
   },
   "outputs": [],
   "source": [
    "a=5**2\n",
    "a"
   ]
  },
  {
   "cell_type": "code",
   "execution_count": null,
   "metadata": {
    "execution": {
     "iopub.execute_input": "2022-04-15T16:46:05.861968Z",
     "iopub.status.busy": "2022-04-15T16:46:05.861319Z",
     "iopub.status.idle": "2022-04-15T16:46:05.868619Z",
     "shell.execute_reply": "2022-04-15T16:46:05.867798Z",
     "shell.execute_reply.started": "2022-04-15T16:46:05.861902Z"
    }
   },
   "outputs": [],
   "source": [
    "print(4+5)\n",
    "print(4-5)\n",
    "print(4*5)\n",
    "print(45/5)\n",
    "print(45%5)\n",
    "print(45//5)"
   ]
  },
  {
   "cell_type": "code",
   "execution_count": null,
   "metadata": {
    "execution": {
     "iopub.execute_input": "2022-04-15T16:50:08.244475Z",
     "iopub.status.busy": "2022-04-15T16:50:08.244176Z",
     "iopub.status.idle": "2022-04-15T16:50:08.252017Z",
     "shell.execute_reply": "2022-04-15T16:50:08.251229Z",
     "shell.execute_reply.started": "2022-04-15T16:50:08.244444Z"
    }
   },
   "outputs": [],
   "source": [
    "a='Banasthali Vidyapith'\n",
    "print(a)\n",
    "print(type(a))\n",
    "print(len(a))\n",
    "print(a[-2])\n",
    "print(a[:10])\n",
    "print(a[::-1])"
   ]
  },
  {
   "cell_type": "code",
   "execution_count": null,
   "metadata": {
    "execution": {
     "iopub.execute_input": "2022-04-15T16:50:57.346592Z",
     "iopub.status.busy": "2022-04-15T16:50:57.346281Z",
     "iopub.status.idle": "2022-04-15T16:50:57.352282Z",
     "shell.execute_reply": "2022-04-15T16:50:57.351283Z",
     "shell.execute_reply.started": "2022-04-15T16:50:57.346560Z"
    }
   },
   "outputs": [],
   "source": [
    "age = 10\n",
    "if age >=18:\n",
    "    print(\"Eligible to vote\")\n",
    "else:\n",
    "    print(\"Not eligible to vote\")"
   ]
  }
 ],
 "metadata": {
  "kernelspec": {
   "display_name": "Python 3 (ipykernel)",
   "language": "python",
   "name": "python3"
  },
  "language_info": {
   "codemirror_mode": {
    "name": "ipython",
    "version": 3
   },
   "file_extension": ".py",
   "mimetype": "text/x-python",
   "name": "python",
   "nbconvert_exporter": "python",
   "pygments_lexer": "ipython3",
   "version": "3.10.1"
  }
 },
 "nbformat": 4,
 "nbformat_minor": 4
}

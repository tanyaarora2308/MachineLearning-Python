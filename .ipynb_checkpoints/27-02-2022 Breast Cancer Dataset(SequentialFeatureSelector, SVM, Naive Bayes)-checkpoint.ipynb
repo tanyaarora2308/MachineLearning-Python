{
 "cells": [
  {
   "cell_type": "code",
   "execution_count": 6,
   "metadata": {
    "_cell_guid": "b1076dfc-b9ad-4769-8c92-a6c4dae69d19",
    "_uuid": "8f2839f25d086af736a60e9eeb907d3b93b6e0e5",
    "execution": {
     "iopub.execute_input": "2022-04-14T23:39:45.664191Z",
     "iopub.status.busy": "2022-04-14T23:39:45.663723Z",
     "iopub.status.idle": "2022-04-14T23:39:45.668224Z",
     "shell.execute_reply": "2022-04-14T23:39:45.667263Z",
     "shell.execute_reply.started": "2022-04-14T23:39:45.664160Z"
    }
   },
   "outputs": [],
   "source": [
    "#breast cancer dataset 27 02 2022"
   ]
  },
  {
   "cell_type": "code",
   "execution_count": 7,
   "metadata": {
    "execution": {
     "iopub.execute_input": "2022-04-14T23:39:45.700805Z",
     "iopub.status.busy": "2022-04-14T23:39:45.700292Z",
     "iopub.status.idle": "2022-04-14T23:39:45.794771Z",
     "shell.execute_reply": "2022-04-14T23:39:45.793629Z",
     "shell.execute_reply.started": "2022-04-14T23:39:45.700772Z"
    }
   },
   "outputs": [],
   "source": [
    "from sklearn.datasets import load_breast_cancer"
   ]
  },
  {
   "cell_type": "code",
   "execution_count": 8,
   "metadata": {
    "execution": {
     "iopub.execute_input": "2022-04-14T23:39:45.796888Z",
     "iopub.status.busy": "2022-04-14T23:39:45.796625Z",
     "iopub.status.idle": "2022-04-14T23:39:45.818739Z",
     "shell.execute_reply": "2022-04-14T23:39:45.817910Z",
     "shell.execute_reply.started": "2022-04-14T23:39:45.796850Z"
    }
   },
   "outputs": [],
   "source": [
    "breastCancer = load_breast_cancer()"
   ]
  },
  {
   "cell_type": "code",
   "execution_count": 9,
   "metadata": {
    "execution": {
     "iopub.execute_input": "2022-04-14T23:39:45.820583Z",
     "iopub.status.busy": "2022-04-14T23:39:45.820299Z",
     "iopub.status.idle": "2022-04-14T23:39:45.835644Z",
     "shell.execute_reply": "2022-04-14T23:39:45.834708Z",
     "shell.execute_reply.started": "2022-04-14T23:39:45.820545Z"
    }
   },
   "outputs": [],
   "source": [
    "breastCancer"
   ]
  },
  {
   "cell_type": "code",
   "execution_count": 10,
   "metadata": {
    "execution": {
     "iopub.execute_input": "2022-04-14T23:39:45.837847Z",
     "iopub.status.busy": "2022-04-14T23:39:45.837542Z",
     "iopub.status.idle": "2022-04-14T23:39:45.906051Z",
     "shell.execute_reply": "2022-04-14T23:39:45.905526Z",
     "shell.execute_reply.started": "2022-04-14T23:39:45.837819Z"
    }
   },
   "outputs": [],
   "source": [
    "import pandas as pd\n",
    "feature_names= load_breast_cancer().feature_names\n",
    "X_data = pd.DataFrame(load_breast_cancer().data,columns=feature_names)\n",
    "y_data = load_breast_cancer().target\n",
    "print(X_data)\n",
    "print(y_data)"
   ]
  },
  {
   "cell_type": "code",
   "execution_count": 11,
   "metadata": {
    "execution": {
     "iopub.execute_input": "2022-04-14T23:39:45.907427Z",
     "iopub.status.busy": "2022-04-14T23:39:45.907115Z",
     "iopub.status.idle": "2022-04-14T23:39:45.918252Z",
     "shell.execute_reply": "2022-04-14T23:39:45.916360Z",
     "shell.execute_reply.started": "2022-04-14T23:39:45.907399Z"
    }
   },
   "outputs": [],
   "source": [
    "from sklearn.preprocessing import StandardScaler\n",
    "scaler = StandardScaler()\n",
    "scaler.fit(X_data)\n",
    "X=scaler.transform(X_data)"
   ]
  },
  {
   "cell_type": "code",
   "execution_count": 14,
   "metadata": {
    "execution": {
     "iopub.execute_input": "2022-04-14T23:39:57.148370Z",
     "iopub.status.busy": "2022-04-14T23:39:57.147664Z",
     "iopub.status.idle": "2022-04-14T23:39:57.153640Z",
     "shell.execute_reply": "2022-04-14T23:39:57.153008Z",
     "shell.execute_reply.started": "2022-04-14T23:39:57.148338Z"
    }
   },
   "outputs": [],
   "source": [
    "from sklearn.model_selection import train_test_split\n",
    "X_train, X_test, y_train, y_test = train_test_split(X,y_data,test_size=0.2, random_state=7)"
   ]
  },
  {
   "cell_type": "code",
   "execution_count": 15,
   "metadata": {
    "execution": {
     "iopub.execute_input": "2022-04-14T23:42:07.055932Z",
     "iopub.status.busy": "2022-04-14T23:42:07.055522Z",
     "iopub.status.idle": "2022-04-14T23:42:07.082592Z",
     "shell.execute_reply": "2022-04-14T23:42:07.081654Z",
     "shell.execute_reply.started": "2022-04-14T23:42:07.055891Z"
    }
   },
   "outputs": [],
   "source": [
    "from mlxtend.feature_selection import SequentialFeatureSelector as SFS"
   ]
  },
  {
   "cell_type": "code",
   "execution_count": 23,
   "metadata": {
    "execution": {
     "iopub.execute_input": "2022-04-14T23:46:39.909192Z",
     "iopub.status.busy": "2022-04-14T23:46:39.908894Z",
     "iopub.status.idle": "2022-04-14T23:46:39.998412Z",
     "shell.execute_reply": "2022-04-14T23:46:39.997346Z",
     "shell.execute_reply.started": "2022-04-14T23:46:39.909162Z"
    }
   },
   "outputs": [],
   "source": [
    "from sklearn.tree import DecisionTreeClassifier\n",
    "model_dt=DecisionTreeClassifier()"
   ]
  },
  {
   "cell_type": "code",
   "execution_count": 37,
   "metadata": {
    "execution": {
     "iopub.execute_input": "2022-04-14T23:59:51.117992Z",
     "iopub.status.busy": "2022-04-14T23:59:51.117570Z",
     "iopub.status.idle": "2022-04-14T23:59:51.132065Z",
     "shell.execute_reply": "2022-04-14T23:59:51.131079Z",
     "shell.execute_reply.started": "2022-04-14T23:59:51.117957Z"
    }
   },
   "outputs": [],
   "source": [
    "model_dt.fit(X_train, y_train)"
   ]
  },
  {
   "cell_type": "code",
   "execution_count": 38,
   "metadata": {
    "execution": {
     "iopub.execute_input": "2022-04-15T00:00:12.980181Z",
     "iopub.status.busy": "2022-04-15T00:00:12.979741Z",
     "iopub.status.idle": "2022-04-15T00:00:12.984712Z",
     "shell.execute_reply": "2022-04-15T00:00:12.984029Z",
     "shell.execute_reply.started": "2022-04-15T00:00:12.980144Z"
    }
   },
   "outputs": [],
   "source": [
    "y_pred = model_dt.predict(X_test)"
   ]
  },
  {
   "cell_type": "code",
   "execution_count": 24,
   "metadata": {
    "execution": {
     "iopub.execute_input": "2022-04-14T23:48:31.760682Z",
     "iopub.status.busy": "2022-04-14T23:48:31.759998Z",
     "iopub.status.idle": "2022-04-14T23:48:34.184802Z",
     "shell.execute_reply": "2022-04-14T23:48:34.183426Z",
     "shell.execute_reply.started": "2022-04-14T23:48:31.760655Z"
    }
   },
   "outputs": [],
   "source": [
    "sfs= SFS(estimator=model_dt, k_features=(10,20), forward=True,scoring='accuracy',cv=2)\n",
    "sfs=sfs.fit(X,y_data)"
   ]
  },
  {
   "cell_type": "code",
   "execution_count": 30,
   "metadata": {
    "execution": {
     "iopub.execute_input": "2022-04-14T23:51:53.839638Z",
     "iopub.status.busy": "2022-04-14T23:51:53.838590Z",
     "iopub.status.idle": "2022-04-14T23:51:53.844497Z",
     "shell.execute_reply": "2022-04-14T23:51:53.843149Z",
     "shell.execute_reply.started": "2022-04-14T23:51:53.839586Z"
    }
   },
   "outputs": [],
   "source": [
    "X_sfs=sfs.transform(X)"
   ]
  },
  {
   "cell_type": "code",
   "execution_count": 19,
   "metadata": {
    "execution": {
     "iopub.execute_input": "2022-04-14T23:44:32.142277Z",
     "iopub.status.busy": "2022-04-14T23:44:32.141916Z",
     "iopub.status.idle": "2022-04-14T23:44:32.230980Z",
     "shell.execute_reply": "2022-04-14T23:44:32.230294Z",
     "shell.execute_reply.started": "2022-04-14T23:44:32.142254Z"
    }
   },
   "outputs": [],
   "source": [
    "from sklearn import svm\n",
    "model= svm.SVC()"
   ]
  },
  {
   "cell_type": "code",
   "execution_count": 25,
   "metadata": {
    "execution": {
     "iopub.execute_input": "2022-04-14T23:48:49.236148Z",
     "iopub.status.busy": "2022-04-14T23:48:49.235862Z",
     "iopub.status.idle": "2022-04-14T23:48:49.252630Z",
     "shell.execute_reply": "2022-04-14T23:48:49.250814Z",
     "shell.execute_reply.started": "2022-04-14T23:48:49.236102Z"
    }
   },
   "outputs": [],
   "source": [
    "model.fit(X_train, y_train)"
   ]
  },
  {
   "cell_type": "code",
   "execution_count": 26,
   "metadata": {
    "execution": {
     "iopub.execute_input": "2022-04-14T23:49:00.113906Z",
     "iopub.status.busy": "2022-04-14T23:49:00.112891Z",
     "iopub.status.idle": "2022-04-14T23:49:00.119981Z",
     "shell.execute_reply": "2022-04-14T23:49:00.118817Z",
     "shell.execute_reply.started": "2022-04-14T23:49:00.113876Z"
    }
   },
   "outputs": [],
   "source": [
    "y_pred = model.predict(X_test)"
   ]
  },
  {
   "cell_type": "code",
   "execution_count": 33,
   "metadata": {
    "execution": {
     "iopub.execute_input": "2022-04-14T23:58:43.906075Z",
     "iopub.status.busy": "2022-04-14T23:58:43.905840Z",
     "iopub.status.idle": "2022-04-14T23:58:43.910063Z",
     "shell.execute_reply": "2022-04-14T23:58:43.909392Z",
     "shell.execute_reply.started": "2022-04-14T23:58:43.906052Z"
    }
   },
   "outputs": [],
   "source": [
    "from sklearn.naive_bayes import GaussianNB\n",
    "model_nb= GaussianNB()"
   ]
  },
  {
   "cell_type": "code",
   "execution_count": 34,
   "metadata": {
    "execution": {
     "iopub.execute_input": "2022-04-14T23:58:50.471876Z",
     "iopub.status.busy": "2022-04-14T23:58:50.471352Z",
     "iopub.status.idle": "2022-04-14T23:58:50.478953Z",
     "shell.execute_reply": "2022-04-14T23:58:50.477726Z",
     "shell.execute_reply.started": "2022-04-14T23:58:50.471849Z"
    }
   },
   "outputs": [],
   "source": [
    "model_nb.fit(X_train, y_train)"
   ]
  },
  {
   "cell_type": "code",
   "execution_count": 35,
   "metadata": {
    "execution": {
     "iopub.execute_input": "2022-04-14T23:58:53.127549Z",
     "iopub.status.busy": "2022-04-14T23:58:53.127140Z",
     "iopub.status.idle": "2022-04-14T23:58:53.131595Z",
     "shell.execute_reply": "2022-04-14T23:58:53.130768Z",
     "shell.execute_reply.started": "2022-04-14T23:58:53.127511Z"
    }
   },
   "outputs": [],
   "source": [
    "y_pred = model_nb.predict(X_test)"
   ]
  },
  {
   "cell_type": "code",
   "execution_count": 28,
   "metadata": {
    "execution": {
     "iopub.execute_input": "2022-04-14T23:51:04.916201Z",
     "iopub.status.busy": "2022-04-14T23:51:04.915477Z",
     "iopub.status.idle": "2022-04-14T23:51:04.936673Z",
     "shell.execute_reply": "2022-04-14T23:51:04.936166Z",
     "shell.execute_reply.started": "2022-04-14T23:51:04.916153Z"
    }
   },
   "outputs": [],
   "source": [
    "#svc\n",
    "from sklearn.metrics import classification_report\n",
    "print(classification_report(y_test, y_pred, target_names=load_breast_cancer().target_names))"
   ]
  },
  {
   "cell_type": "code",
   "execution_count": 39,
   "metadata": {
    "execution": {
     "iopub.execute_input": "2022-04-15T00:00:19.196711Z",
     "iopub.status.busy": "2022-04-15T00:00:19.196316Z",
     "iopub.status.idle": "2022-04-15T00:00:19.218958Z",
     "shell.execute_reply": "2022-04-15T00:00:19.217913Z",
     "shell.execute_reply.started": "2022-04-15T00:00:19.196675Z"
    }
   },
   "outputs": [],
   "source": [
    "#decisiontree\n",
    "from sklearn.metrics import classification_report\n",
    "print(classification_report(y_test, y_pred, target_names=load_breast_cancer().target_names))"
   ]
  },
  {
   "cell_type": "code",
   "execution_count": 36,
   "metadata": {
    "execution": {
     "iopub.execute_input": "2022-04-14T23:58:57.768630Z",
     "iopub.status.busy": "2022-04-14T23:58:57.768256Z",
     "iopub.status.idle": "2022-04-14T23:58:57.787944Z",
     "shell.execute_reply": "2022-04-14T23:58:57.787451Z",
     "shell.execute_reply.started": "2022-04-14T23:58:57.768601Z"
    }
   },
   "outputs": [],
   "source": [
    "#gaussianNB\n",
    "from sklearn.metrics import classification_report\n",
    "print(classification_report(y_test, y_pred, target_names=load_breast_cancer().target_names))"
   ]
  }
 ],
 "metadata": {
  "kernelspec": {
   "display_name": "Python 3 (ipykernel)",
   "language": "python",
   "name": "python3"
  },
  "language_info": {
   "codemirror_mode": {
    "name": "ipython",
    "version": 3
   },
   "file_extension": ".py",
   "mimetype": "text/x-python",
   "name": "python",
   "nbconvert_exporter": "python",
   "pygments_lexer": "ipython3",
   "version": "3.10.1"
  }
 },
 "nbformat": 4,
 "nbformat_minor": 4
}

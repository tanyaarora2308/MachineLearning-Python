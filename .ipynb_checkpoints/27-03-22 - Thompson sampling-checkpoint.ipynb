{
 "cells": [
  {
   "cell_type": "code",
   "execution_count": null,
   "metadata": {
    "_cell_guid": "b1076dfc-b9ad-4769-8c92-a6c4dae69d19",
    "_uuid": "8f2839f25d086af736a60e9eeb907d3b93b6e0e5",
    "execution": {
     "iopub.execute_input": "2022-04-14T20:23:36.047961Z",
     "iopub.status.busy": "2022-04-14T20:23:36.047317Z",
     "iopub.status.idle": "2022-04-14T20:23:36.056097Z",
     "shell.execute_reply": "2022-04-14T20:23:36.05512Z",
     "shell.execute_reply.started": "2022-04-14T20:23:36.047921Z"
    }
   },
   "outputs": [],
   "source": [
    "# This Python 3 environment comes with many helpful analytics libraries installed\n",
    "# It is defined by the kaggle/python Docker image: https://github.com/kaggle/docker-python\n",
    "# For example, here's several helpful packages to load\n",
    "\n",
    "import numpy as np # linear algebra\n",
    "import pandas as pd # data processing, CSV file I/O (e.g. pd.read_csv)\n",
    "\n",
    "# Input data files are available in the read-only \"../input/\" directory\n",
    "# For example, running this (by clicking run or pressing Shift+Enter) will list all files under the input directory\n",
    "\n",
    "import os\n",
    "for dirname, _, filenames in os.walk('/kaggle/input'):\n",
    "    for filename in filenames:\n",
    "        print(os.path.join(dirname, filename))\n",
    "\n",
    "# You can write up to 20GB to the current directory (/kaggle/working/) that gets preserved as output when you create a version using \"Save & Run All\" \n",
    "# You can also write temporary files to /kaggle/temp/, but they won't be saved outside of the current session"
   ]
  },
  {
   "cell_type": "code",
   "execution_count": null,
   "metadata": {
    "execution": {
     "iopub.execute_input": "2022-04-14T20:23:36.118078Z",
     "iopub.status.busy": "2022-04-14T20:23:36.117606Z",
     "iopub.status.idle": "2022-04-14T20:23:36.143606Z",
     "shell.execute_reply": "2022-04-14T20:23:36.142932Z",
     "shell.execute_reply.started": "2022-04-14T20:23:36.118031Z"
    }
   },
   "outputs": [],
   "source": [
    "import pandas as pd\n",
    "data = pd.read_csv(\"../input/ads-optimisation/Ads_Optimisation.csv\")\n",
    "data"
   ]
  },
  {
   "cell_type": "code",
   "execution_count": null,
   "metadata": {
    "execution": {
     "iopub.execute_input": "2022-04-14T20:23:36.145129Z",
     "iopub.status.busy": "2022-04-14T20:23:36.144941Z",
     "iopub.status.idle": "2022-04-14T20:23:36.149591Z",
     "shell.execute_reply": "2022-04-14T20:23:36.148777Z",
     "shell.execute_reply.started": "2022-04-14T20:23:36.145106Z"
    }
   },
   "outputs": [],
   "source": [
    "N = 10000\n",
    "d = 10\n",
    "rewards = [0]*d\n",
    "penalties = [0]*d\n",
    "total_reward = 0\n",
    "ads_selected = []"
   ]
  },
  {
   "cell_type": "code",
   "execution_count": null,
   "metadata": {
    "execution": {
     "iopub.execute_input": "2022-04-14T20:23:36.175672Z",
     "iopub.status.busy": "2022-04-14T20:23:36.175097Z",
     "iopub.status.idle": "2022-04-14T20:23:36.463379Z",
     "shell.execute_reply": "2022-04-14T20:23:36.462494Z",
     "shell.execute_reply.started": "2022-04-14T20:23:36.17563Z"
    }
   },
   "outputs": [],
   "source": [
    "import random\n",
    "for n in range(0, N):\n",
    "    ad = 0\n",
    "    beta_max_d = 0\n",
    "    for i in range(0, 10):\n",
    "        beta_d = random.betavariate(rewards[i]+1, penalties[i]+1)\n",
    "        \n",
    "        if beta_d > beta_max_d:\n",
    "            beta_max_d = beta_d\n",
    "            ad = i\n",
    "            \n",
    "    ads_selected.append(ad)\n",
    "    reward = data.values[n, ad]\n",
    "    if reward == 1:\n",
    "        rewards[ad]+=1\n",
    "    else:\n",
    "        penalties[i]+=1\n",
    "    total_reward += reward       \n",
    "    \n",
    "    "
   ]
  },
  {
   "cell_type": "code",
   "execution_count": null,
   "metadata": {
    "execution": {
     "iopub.execute_input": "2022-04-14T20:23:36.465398Z",
     "iopub.status.busy": "2022-04-14T20:23:36.464864Z",
     "iopub.status.idle": "2022-04-14T20:23:36.469553Z",
     "shell.execute_reply": "2022-04-14T20:23:36.469087Z",
     "shell.execute_reply.started": "2022-04-14T20:23:36.465364Z"
    }
   },
   "outputs": [],
   "source": [
    "rewards"
   ]
  },
  {
   "cell_type": "code",
   "execution_count": null,
   "metadata": {
    "execution": {
     "iopub.execute_input": "2022-04-14T20:24:05.61681Z",
     "iopub.status.busy": "2022-04-14T20:24:05.616413Z",
     "iopub.status.idle": "2022-04-14T20:24:05.808052Z",
     "shell.execute_reply": "2022-04-14T20:24:05.807255Z",
     "shell.execute_reply.started": "2022-04-14T20:24:05.616782Z"
    }
   },
   "outputs": [],
   "source": [
    "from matplotlib import pyplot as plt\n",
    "plt.xlabel(\"Ads\")\n",
    "plt.ylabel(\"rewards\")\n",
    "plt.bar([\"Ad1\", \"Ad2\",\"Ad3\", \"Ad4\", \"Ad5\",\"Ad6\",\"Ad7\",\"Ad8\",\"Ad9\",\"Ad10\"], rewards)\n",
    "plt.show()"
   ]
  }
 ],
 "metadata": {
  "kernelspec": {
   "display_name": "Python 3 (ipykernel)",
   "language": "python",
   "name": "python3"
  },
  "language_info": {
   "codemirror_mode": {
    "name": "ipython",
    "version": 3
   },
   "file_extension": ".py",
   "mimetype": "text/x-python",
   "name": "python",
   "nbconvert_exporter": "python",
   "pygments_lexer": "ipython3",
   "version": "3.10.1"
  }
 },
 "nbformat": 4,
 "nbformat_minor": 4
}

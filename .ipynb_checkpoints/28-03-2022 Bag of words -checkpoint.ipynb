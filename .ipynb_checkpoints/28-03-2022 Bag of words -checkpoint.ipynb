{
 "cells": [
  {
   "cell_type": "code",
   "execution_count": null,
   "id": "36f1ac52",
   "metadata": {
    "id": "36f1ac52"
   },
   "outputs": [],
   "source": [
    "# Bag of words 28 03 2022"
   ]
  },
  {
   "cell_type": "code",
   "execution_count": 1,
   "id": "8f1e6a47",
   "metadata": {
    "id": "8f1e6a47"
   },
   "outputs": [],
   "source": [
    "corpus=['The First Black Hole Wasnt Discovered Until X-Ray Astronomy was Used', \n",
    "      'Our Milky Way Probably Has a Black Hole',\n",
    "      'Black holes formed by the collapse of individual stars are relatively small, but incredibly dense', \n",
    "      'A black hole is a region of spacetime where gravity is so strong that nothing can escape from it. ']"
   ]
  },
  {
   "cell_type": "code",
   "execution_count": 2,
   "id": "EieKMYbAWqYm",
   "metadata": {
    "colab": {
     "base_uri": "https://localhost:8080/"
    },
    "id": "EieKMYbAWqYm",
    "outputId": "6edd3d66-681c-4ed3-9c4c-abc4a841b3a3"
   },
   "outputs": [
    {
     "data": {
      "text/plain": [
       "['The First Black Hole Wasnt Discovered Until X-Ray Astronomy was Used',\n",
       " 'Our Milky Way Probably Has a Black Hole',\n",
       " 'Black holes formed by the collapse of individual stars are relatively small, but incredibly dense',\n",
       " 'A black hole is a region of spacetime where gravity is so strong that nothing can escape from it. ']"
      ]
     },
     "execution_count": 2,
     "metadata": {},
     "output_type": "execute_result"
    }
   ],
   "source": [
    "corpus"
   ]
  },
  {
   "cell_type": "code",
   "execution_count": 3,
   "id": "f299393f",
   "metadata": {
    "id": "f299393f"
   },
   "outputs": [],
   "source": [
    "from sklearn.feature_extraction.text import CountVectorizer"
   ]
  },
  {
   "cell_type": "code",
   "execution_count": 14,
   "id": "5167a2d8",
   "metadata": {
    "colab": {
     "base_uri": "https://localhost:8080/"
    },
    "id": "5167a2d8",
    "outputId": "93727e82-028b-4051-a24f-d5c2658affa0"
   },
   "outputs": [
    {
     "data": {
      "text/plain": [
       "array(['are', 'astronomy', 'black', 'but', 'by', 'can', 'collapse',\n",
       "       'dense', 'discovered', 'escape', 'first', 'formed', 'from',\n",
       "       'gravity', 'has', 'hole', 'holes', 'incredibly', 'individual',\n",
       "       'is', 'it', 'milky', 'nothing', 'of', 'our', 'probably', 'ray',\n",
       "       'region', 'relatively', 'small', 'so', 'spacetime', 'stars',\n",
       "       'strong', 'that', 'the', 'until', 'used', 'was', 'wasnt', 'way',\n",
       "       'where'], dtype=object)"
      ]
     },
     "execution_count": 14,
     "metadata": {},
     "output_type": "execute_result"
    }
   ],
   "source": [
    "vc=CountVectorizer()\n",
    "X=vc.fit_transform(corpus)\n",
    "vc.get_feature_names_out()"
   ]
  },
  {
   "cell_type": "code",
   "execution_count": 15,
   "id": "df736384",
   "metadata": {
    "colab": {
     "base_uri": "https://localhost:8080/"
    },
    "id": "df736384",
    "outputId": "1ec60398-0083-4237-e062-b3f08ae08ccc"
   },
   "outputs": [
    {
     "name": "stdout",
     "output_type": "stream",
     "text": [
      "[[0 1 1 0 0 0 0 0 1 0 1 0 0 0 0 1 0 0 0 0 0 0 0 0 0 0 1 0 0 0 0 0 0 0 0 1\n",
      "  1 1 1 1 0 0]\n",
      " [0 0 1 0 0 0 0 0 0 0 0 0 0 0 1 1 0 0 0 0 0 1 0 0 1 1 0 0 0 0 0 0 0 0 0 0\n",
      "  0 0 0 0 1 0]\n",
      " [1 0 1 1 1 0 1 1 0 0 0 1 0 0 0 0 1 1 1 0 0 0 0 1 0 0 0 0 1 1 0 0 1 0 0 1\n",
      "  0 0 0 0 0 0]\n",
      " [0 0 1 0 0 1 0 0 0 1 0 0 1 1 0 1 0 0 0 2 1 0 1 1 0 0 0 1 0 0 1 1 0 1 1 0\n",
      "  0 0 0 0 0 1]]\n"
     ]
    }
   ],
   "source": [
    "print(X.toarray())"
   ]
  },
  {
   "cell_type": "code",
   "execution_count": 7,
   "id": "c2124c82",
   "metadata": {
    "colab": {
     "base_uri": "https://localhost:8080/"
    },
    "id": "c2124c82",
    "outputId": "65668037-0744-4bac-952f-f292d96668c6",
    "scrolled": true
   },
   "outputs": [
    {
     "name": "stdout",
     "output_type": "stream",
     "text": [
      "   are  astronomy  black  but  by  can  collapse  dense  discovered  escape  \\\n",
      "0    0          1      1    0   0    0         0      0           1       0   \n",
      "1    0          0      1    0   0    0         0      0           0       0   \n",
      "2    1          0      1    1   1    0         1      1           0       0   \n",
      "3    0          0      1    0   0    1         0      0           0       1   \n",
      "\n",
      "   ...  stars  strong  that  the  until  used  was  wasnt  way  where  \n",
      "0  ...      0       0     0    1      1     1    1      1    0      0  \n",
      "1  ...      0       0     0    0      0     0    0      0    1      0  \n",
      "2  ...      1       0     0    1      0     0    0      0    0      0  \n",
      "3  ...      0       1     1    0      0     0    0      0    0      1  \n",
      "\n",
      "[4 rows x 42 columns]\n"
     ]
    },
    {
     "name": "stderr",
     "output_type": "stream",
     "text": [
      "/usr/local/lib/python3.7/dist-packages/sklearn/utils/deprecation.py:87: FutureWarning: Function get_feature_names is deprecated; get_feature_names is deprecated in 1.0 and will be removed in 1.2. Please use get_feature_names_out instead.\n",
      "  warnings.warn(msg, category=FutureWarning)\n"
     ]
    }
   ],
   "source": [
    "import pandas as pd\n",
    "count_token=X.toarray()\n",
    "df=pd.DataFrame(data=count_token, columns=vc.get_feature_names())\n",
    "print(df)"
   ]
  },
  {
   "cell_type": "code",
   "execution_count": 8,
   "id": "21c8d695",
   "metadata": {
    "colab": {
     "base_uri": "https://localhost:8080/"
    },
    "id": "21c8d695",
    "outputId": "671d93d1-ca7e-41dc-f45e-b9c8693d07d5"
   },
   "outputs": [
    {
     "data": {
      "text/plain": [
       "array(['are', 'black', 'but', 'by', 'can', 'collapse', 'dense',\n",
       "       'discovered', 'escape', 'first', 'formed', 'from', 'gravity',\n",
       "       'has', 'hole', 'holes', 'incredibly', 'individual', 'is', 'it',\n",
       "       'milky', 'nothing', 'of', 'our', 'probably', 'ray', 'region',\n",
       "       'relatively', 'small', 'so', 'spacetime', 'stars', 'strong',\n",
       "       'that', 'the', 'until', 'used', 'was', 'wasnt', 'way', 'where'],\n",
       "      dtype=object)"
      ]
     },
     "execution_count": 8,
     "metadata": {},
     "output_type": "execute_result"
    }
   ],
   "source": [
    "vc=CountVectorizer(stop_words=['astronomy'])\n",
    "X=vc.fit_transform(corpus)\n",
    "vc.get_feature_names_out()"
   ]
  },
  {
   "cell_type": "code",
   "execution_count": 9,
   "id": "QXnMkxpqYukj",
   "metadata": {
    "colab": {
     "base_uri": "https://localhost:8080/"
    },
    "id": "QXnMkxpqYukj",
    "outputId": "4eba70c0-58a9-4cfe-fa72-091853b04487"
   },
   "outputs": [
    {
     "data": {
      "text/plain": [
       "array(['are', 'astronomy', 'but', 'by', 'can', 'collapse', 'dense',\n",
       "       'discovered', 'escape', 'first', 'formed', 'from', 'gravity',\n",
       "       'has', 'holes', 'incredibly', 'individual', 'is', 'it', 'milky',\n",
       "       'nothing', 'our', 'probably', 'ray', 'region', 'relatively',\n",
       "       'small', 'so', 'spacetime', 'stars', 'strong', 'that', 'until',\n",
       "       'used', 'was', 'wasnt', 'way', 'where'], dtype=object)"
      ]
     },
     "execution_count": 9,
     "metadata": {},
     "output_type": "execute_result"
    }
   ],
   "source": [
    "vc=CountVectorizer(max_df=1)\n",
    "X=vc.fit_transform(corpus)\n",
    "vc.get_feature_names_out()"
   ]
  },
  {
   "cell_type": "code",
   "execution_count": 10,
   "id": "GaEGCnABY4TK",
   "metadata": {
    "colab": {
     "base_uri": "https://localhost:8080/"
    },
    "id": "GaEGCnABY4TK",
    "outputId": "58ab7e87-3568-4b2b-ecec-7c25ed7dbaac"
   },
   "outputs": [
    {
     "data": {
      "text/plain": [
       "array(['are relatively', 'astronomy was', 'black hole', 'black holes',\n",
       "       'but incredibly', 'by the', 'can escape', 'collapse of',\n",
       "       'discovered until', 'escape from', 'first black', 'formed by',\n",
       "       'from it', 'gravity is', 'has black', 'hole is', 'hole wasnt',\n",
       "       'holes formed', 'incredibly dense', 'individual stars',\n",
       "       'is region', 'is so', 'milky way', 'nothing can', 'of individual',\n",
       "       'of spacetime', 'our milky', 'probably has', 'ray astronomy',\n",
       "       'region of', 'relatively small', 'small but', 'so strong',\n",
       "       'spacetime where', 'stars are', 'strong that', 'that nothing',\n",
       "       'the collapse', 'the first', 'until ray', 'was used',\n",
       "       'wasnt discovered', 'way probably', 'where gravity'], dtype=object)"
      ]
     },
     "execution_count": 10,
     "metadata": {},
     "output_type": "execute_result"
    }
   ],
   "source": [
    "vc=CountVectorizer(analyzer='word', ngram_range=(2,2))\n",
    "X=vc.fit_transform(corpus)\n",
    "vc.get_feature_names_out()"
   ]
  },
  {
   "cell_type": "code",
   "execution_count": 16,
   "id": "c9a539c9",
   "metadata": {
    "colab": {
     "base_uri": "https://localhost:8080/"
    },
    "id": "c9a539c9",
    "outputId": "0ed21acb-dfdd-4a3f-c3ec-0cd223a5e349"
   },
   "outputs": [
    {
     "data": {
      "text/plain": [
       "array(['are', 'astronomy', 'black', 'but', 'by', 'can', 'collapse',\n",
       "       'dense', 'discovered', 'escape', 'first', 'formed', 'from',\n",
       "       'gravity', 'has', 'hole', 'holes', 'incredibly', 'individual',\n",
       "       'is', 'it', 'milky', 'nothing', 'of', 'our', 'probably', 'ray',\n",
       "       'region', 'relatively', 'small', 'so', 'spacetime', 'stars',\n",
       "       'strong', 'that', 'the', 'until', 'used', 'was', 'wasnt', 'way',\n",
       "       'where'], dtype=object)"
      ]
     },
     "execution_count": 16,
     "metadata": {},
     "output_type": "execute_result"
    }
   ],
   "source": [
    "from sklearn.feature_extraction.text import TfidfVectorizer\n",
    "vc=TfidfVectorizer()\n",
    "X=vc.fit_transform(corpus)\n",
    "vc.get_feature_names_out()"
   ]
  },
  {
   "cell_type": "code",
   "execution_count": 17,
   "id": "hNLKEAppZfIZ",
   "metadata": {
    "colab": {
     "base_uri": "https://localhost:8080/"
    },
    "id": "hNLKEAppZfIZ",
    "outputId": "5ce76681-52e7-4799-c580-d98e0d2444c6"
   },
   "outputs": [
    {
     "name": "stdout",
     "output_type": "stream",
     "text": [
      "[[0.         0.32788962 0.17110641 0.         0.         0.\n",
      "  0.         0.         0.32788962 0.         0.32788962 0.\n",
      "  0.         0.         0.         0.2092877  0.         0.\n",
      "  0.         0.         0.         0.         0.         0.\n",
      "  0.         0.         0.32788962 0.         0.         0.\n",
      "  0.         0.         0.         0.         0.         0.25851194\n",
      "  0.32788962 0.32788962 0.32788962 0.32788962 0.         0.        ]\n",
      " [0.         0.         0.21896505 0.         0.         0.\n",
      "  0.         0.         0.         0.         0.         0.\n",
      "  0.         0.         0.41960069 0.26782569 0.         0.\n",
      "  0.         0.         0.         0.41960069 0.         0.\n",
      "  0.41960069 0.41960069 0.         0.         0.         0.\n",
      "  0.         0.         0.         0.         0.         0.\n",
      "  0.         0.         0.         0.         0.41960069 0.        ]\n",
      " [0.27200938 0.         0.14194578 0.27200938 0.27200938 0.\n",
      "  0.27200938 0.27200938 0.         0.         0.         0.27200938\n",
      "  0.         0.         0.         0.         0.27200938 0.27200938\n",
      "  0.27200938 0.         0.         0.         0.         0.21445532\n",
      "  0.         0.         0.         0.         0.27200938 0.27200938\n",
      "  0.         0.         0.27200938 0.         0.         0.21445532\n",
      "  0.         0.         0.         0.         0.         0.        ]\n",
      " [0.         0.         0.12545817 0.         0.         0.24041434\n",
      "  0.         0.         0.         0.24041434 0.         0.\n",
      "  0.24041434 0.24041434 0.         0.15345336 0.         0.\n",
      "  0.         0.48082867 0.24041434 0.         0.24041434 0.18954542\n",
      "  0.         0.         0.         0.24041434 0.         0.\n",
      "  0.24041434 0.24041434 0.         0.24041434 0.24041434 0.\n",
      "  0.         0.         0.         0.         0.         0.24041434]]\n"
     ]
    }
   ],
   "source": [
    "print(X.toarray())"
   ]
  }
 ],
 "metadata": {
  "colab": {
   "collapsed_sections": [],
   "name": "Lab19.ipynb",
   "provenance": []
  },
  "kernelspec": {
   "display_name": "Python 3 (ipykernel)",
   "language": "python",
   "name": "python3"
  },
  "language_info": {
   "codemirror_mode": {
    "name": "ipython",
    "version": 3
   },
   "file_extension": ".py",
   "mimetype": "text/x-python",
   "name": "python",
   "nbconvert_exporter": "python",
   "pygments_lexer": "ipython3",
   "version": "3.10.1"
  }
 },
 "nbformat": 4,
 "nbformat_minor": 5
}

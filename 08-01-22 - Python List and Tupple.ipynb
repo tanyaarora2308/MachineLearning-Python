{
 "cells": [
  {
   "cell_type": "code",
   "execution_count": null,
   "metadata": {},
   "outputs": [],
   "source": [
    "#List and Tuples in python "
   ]
  },
  {
   "cell_type": "code",
   "execution_count": 1,
   "metadata": {
    "execution": {
     "iopub.execute_input": "2022-04-15T16:58:35.102390Z",
     "iopub.status.busy": "2022-04-15T16:58:35.101695Z",
     "iopub.status.idle": "2022-04-15T16:58:35.131512Z",
     "shell.execute_reply": "2022-04-15T16:58:35.130918Z",
     "shell.execute_reply.started": "2022-04-15T16:58:35.102277Z"
    }
   },
   "outputs": [],
   "source": [
    "list1=[\"abc\",\"ghj\",\"yui\"]\n",
    "list1"
   ]
  },
  {
   "cell_type": "code",
   "execution_count": 2,
   "metadata": {
    "execution": {
     "iopub.execute_input": "2022-04-15T16:59:08.572985Z",
     "iopub.status.busy": "2022-04-15T16:59:08.572138Z",
     "iopub.status.idle": "2022-04-15T16:59:08.579502Z",
     "shell.execute_reply": "2022-04-15T16:59:08.578903Z",
     "shell.execute_reply.started": "2022-04-15T16:59:08.572940Z"
    }
   },
   "outputs": [],
   "source": [
    "list2=list((6,7,5,3,0,2))\n",
    "list2"
   ]
  },
  {
   "cell_type": "code",
   "execution_count": 3,
   "metadata": {
    "execution": {
     "iopub.execute_input": "2022-04-15T17:00:15.317200Z",
     "iopub.status.busy": "2022-04-15T17:00:15.316918Z",
     "iopub.status.idle": "2022-04-15T17:00:15.322733Z",
     "shell.execute_reply": "2022-04-15T17:00:15.322151Z",
     "shell.execute_reply.started": "2022-04-15T17:00:15.317172Z"
    }
   },
   "outputs": [],
   "source": [
    "list3=[\"dasd\",1,2,3,True,False]\n",
    "list3"
   ]
  },
  {
   "cell_type": "code",
   "execution_count": 4,
   "metadata": {
    "execution": {
     "iopub.execute_input": "2022-04-15T17:00:41.022279Z",
     "iopub.status.busy": "2022-04-15T17:00:41.021819Z",
     "iopub.status.idle": "2022-04-15T17:00:41.027140Z",
     "shell.execute_reply": "2022-04-15T17:00:41.026261Z",
     "shell.execute_reply.started": "2022-04-15T17:00:41.022246Z"
    }
   },
   "outputs": [],
   "source": [
    "print(list1[2])"
   ]
  },
  {
   "cell_type": "code",
   "execution_count": 5,
   "metadata": {
    "execution": {
     "iopub.execute_input": "2022-04-15T17:01:00.940639Z",
     "iopub.status.busy": "2022-04-15T17:01:00.940345Z",
     "iopub.status.idle": "2022-04-15T17:01:00.945571Z",
     "shell.execute_reply": "2022-04-15T17:01:00.944745Z",
     "shell.execute_reply.started": "2022-04-15T17:01:00.940605Z"
    }
   },
   "outputs": [],
   "source": [
    "print(list1[1:3])"
   ]
  },
  {
   "cell_type": "code",
   "execution_count": 6,
   "metadata": {
    "execution": {
     "iopub.execute_input": "2022-04-15T17:01:31.212020Z",
     "iopub.status.busy": "2022-04-15T17:01:31.211429Z",
     "iopub.status.idle": "2022-04-15T17:01:31.217341Z",
     "shell.execute_reply": "2022-04-15T17:01:31.216453Z",
     "shell.execute_reply.started": "2022-04-15T17:01:31.211980Z"
    }
   },
   "outputs": [],
   "source": [
    "print(list2[::-1])"
   ]
  },
  {
   "cell_type": "code",
   "execution_count": 7,
   "metadata": {
    "execution": {
     "iopub.execute_input": "2022-04-15T17:02:30.724385Z",
     "iopub.status.busy": "2022-04-15T17:02:30.723909Z",
     "iopub.status.idle": "2022-04-15T17:02:30.728778Z",
     "shell.execute_reply": "2022-04-15T17:02:30.728216Z",
     "shell.execute_reply.started": "2022-04-15T17:02:30.724331Z"
    }
   },
   "outputs": [],
   "source": [
    "print(list3[1:])\n",
    "print(list3[:5])"
   ]
  },
  {
   "cell_type": "code",
   "execution_count": 8,
   "metadata": {
    "execution": {
     "iopub.execute_input": "2022-04-15T17:03:36.906462Z",
     "iopub.status.busy": "2022-04-15T17:03:36.905900Z",
     "iopub.status.idle": "2022-04-15T17:03:36.913344Z",
     "shell.execute_reply": "2022-04-15T17:03:36.912479Z",
     "shell.execute_reply.started": "2022-04-15T17:03:36.906423Z"
    }
   },
   "outputs": [],
   "source": [
    "print(list1)\n",
    "list1[1]=\"Nefertari\"\n",
    "list1"
   ]
  },
  {
   "cell_type": "code",
   "execution_count": 9,
   "metadata": {
    "execution": {
     "iopub.execute_input": "2022-04-15T17:04:49.572674Z",
     "iopub.status.busy": "2022-04-15T17:04:49.572355Z",
     "iopub.status.idle": "2022-04-15T17:04:49.580274Z",
     "shell.execute_reply": "2022-04-15T17:04:49.579386Z",
     "shell.execute_reply.started": "2022-04-15T17:04:49.572639Z"
    }
   },
   "outputs": [],
   "source": [
    "print(list1)\n",
    "list1[1:3]=[\"Nefertari\" ,\"Cleopatra\"]\n",
    "list1"
   ]
  },
  {
   "cell_type": "code",
   "execution_count": 10,
   "metadata": {
    "execution": {
     "iopub.execute_input": "2022-04-15T17:05:29.997075Z",
     "iopub.status.busy": "2022-04-15T17:05:29.996483Z",
     "iopub.status.idle": "2022-04-15T17:05:30.003440Z",
     "shell.execute_reply": "2022-04-15T17:05:30.002804Z",
     "shell.execute_reply.started": "2022-04-15T17:05:29.997021Z"
    }
   },
   "outputs": [],
   "source": [
    "list1.insert(1,\"Queen\")\n",
    "list1"
   ]
  },
  {
   "cell_type": "code",
   "execution_count": 11,
   "metadata": {
    "execution": {
     "iopub.execute_input": "2022-04-15T17:06:13.807837Z",
     "iopub.status.busy": "2022-04-15T17:06:13.807535Z",
     "iopub.status.idle": "2022-04-15T17:06:13.814465Z",
     "shell.execute_reply": "2022-04-15T17:06:13.813560Z",
     "shell.execute_reply.started": "2022-04-15T17:06:13.807803Z"
    }
   },
   "outputs": [],
   "source": [
    "list1.insert(0,[1,True])\n",
    "list1"
   ]
  },
  {
   "cell_type": "code",
   "execution_count": 12,
   "metadata": {
    "execution": {
     "iopub.execute_input": "2022-04-15T17:06:36.544637Z",
     "iopub.status.busy": "2022-04-15T17:06:36.543790Z",
     "iopub.status.idle": "2022-04-15T17:06:36.549271Z",
     "shell.execute_reply": "2022-04-15T17:06:36.548239Z",
     "shell.execute_reply.started": "2022-04-15T17:06:36.544596Z"
    }
   },
   "outputs": [],
   "source": [
    "print(list1[0])"
   ]
  },
  {
   "cell_type": "code",
   "execution_count": 13,
   "metadata": {
    "execution": {
     "iopub.execute_input": "2022-04-15T17:07:38.838151Z",
     "iopub.status.busy": "2022-04-15T17:07:38.837875Z",
     "iopub.status.idle": "2022-04-15T17:07:38.844117Z",
     "shell.execute_reply": "2022-04-15T17:07:38.843374Z",
     "shell.execute_reply.started": "2022-04-15T17:07:38.838121Z"
    }
   },
   "outputs": [],
   "source": [
    "list1.append(\"Egyptian\")\n",
    "list1"
   ]
  },
  {
   "cell_type": "code",
   "execution_count": 14,
   "metadata": {
    "execution": {
     "iopub.execute_input": "2022-04-15T17:07:49.910168Z",
     "iopub.status.busy": "2022-04-15T17:07:49.909279Z",
     "iopub.status.idle": "2022-04-15T17:07:49.915821Z",
     "shell.execute_reply": "2022-04-15T17:07:49.914797Z",
     "shell.execute_reply.started": "2022-04-15T17:07:49.910127Z"
    }
   },
   "outputs": [],
   "source": [
    "print(list1)\n",
    "print(list2)\n",
    "list1.extend(list2)\n",
    "print(list1)\n",
    "print(list2)"
   ]
  },
  {
   "cell_type": "code",
   "execution_count": 15,
   "metadata": {
    "execution": {
     "iopub.execute_input": "2022-04-15T17:08:01.581213Z",
     "iopub.status.busy": "2022-04-15T17:08:01.580943Z",
     "iopub.status.idle": "2022-04-15T17:08:01.587308Z",
     "shell.execute_reply": "2022-04-15T17:08:01.586493Z",
     "shell.execute_reply.started": "2022-04-15T17:08:01.581183Z"
    }
   },
   "outputs": [],
   "source": [
    "list1.remove(\"abc\")\n",
    "list1"
   ]
  },
  {
   "cell_type": "code",
   "execution_count": 17,
   "metadata": {
    "execution": {
     "iopub.execute_input": "2022-04-15T17:08:35.083065Z",
     "iopub.status.busy": "2022-04-15T17:08:35.082765Z",
     "iopub.status.idle": "2022-04-15T17:08:35.089661Z",
     "shell.execute_reply": "2022-04-15T17:08:35.088606Z",
     "shell.execute_reply.started": "2022-04-15T17:08:35.083034Z"
    }
   },
   "outputs": [],
   "source": [
    "list1.pop(0)\n",
    "list1"
   ]
  },
  {
   "cell_type": "code",
   "execution_count": 18,
   "metadata": {
    "execution": {
     "iopub.execute_input": "2022-04-15T17:08:46.889947Z",
     "iopub.status.busy": "2022-04-15T17:08:46.889659Z",
     "iopub.status.idle": "2022-04-15T17:08:46.895586Z",
     "shell.execute_reply": "2022-04-15T17:08:46.894836Z",
     "shell.execute_reply.started": "2022-04-15T17:08:46.889913Z"
    }
   },
   "outputs": [],
   "source": [
    "list1.pop()\n",
    "list1"
   ]
  },
  {
   "cell_type": "code",
   "execution_count": 20,
   "metadata": {
    "execution": {
     "iopub.execute_input": "2022-04-15T17:10:00.305949Z",
     "iopub.status.busy": "2022-04-15T17:10:00.305463Z",
     "iopub.status.idle": "2022-04-15T17:10:00.311025Z",
     "shell.execute_reply": "2022-04-15T17:10:00.310291Z",
     "shell.execute_reply.started": "2022-04-15T17:10:00.305884Z"
    }
   },
   "outputs": [],
   "source": [
    "list3.clear()\n",
    "list3"
   ]
  },
  {
   "cell_type": "code",
   "execution_count": 21,
   "metadata": {
    "execution": {
     "iopub.execute_input": "2022-04-15T17:10:08.111479Z",
     "iopub.status.busy": "2022-04-15T17:10:08.111003Z",
     "iopub.status.idle": "2022-04-15T17:10:08.114760Z",
     "shell.execute_reply": "2022-04-15T17:10:08.114151Z",
     "shell.execute_reply.started": "2022-04-15T17:10:08.111424Z"
    }
   },
   "outputs": [],
   "source": [
    "del list3"
   ]
  },
  {
   "cell_type": "code",
   "execution_count": 22,
   "metadata": {
    "execution": {
     "iopub.execute_input": "2022-04-15T17:10:19.323846Z",
     "iopub.status.busy": "2022-04-15T17:10:19.323568Z",
     "iopub.status.idle": "2022-04-15T17:10:19.329785Z",
     "shell.execute_reply": "2022-04-15T17:10:19.328694Z",
     "shell.execute_reply.started": "2022-04-15T17:10:19.323816Z"
    }
   },
   "outputs": [],
   "source": [
    "for x in list1:\n",
    "    print(x)\n"
   ]
  },
  {
   "cell_type": "code",
   "execution_count": 24,
   "metadata": {
    "execution": {
     "iopub.execute_input": "2022-04-15T17:11:58.418513Z",
     "iopub.status.busy": "2022-04-15T17:11:58.418011Z",
     "iopub.status.idle": "2022-04-15T17:11:58.424009Z",
     "shell.execute_reply": "2022-04-15T17:11:58.423355Z",
     "shell.execute_reply.started": "2022-04-15T17:11:58.418468Z"
    }
   },
   "outputs": [],
   "source": [
    "list4=[\"veni\",\"vidi\",\"vici\",\"julius\",\"caeser\"]\n",
    "list4.sort()\n",
    "print(list4)\n",
    "list4.sort(reverse=True)\n",
    "print(list4)"
   ]
  },
  {
   "cell_type": "code",
   "execution_count": 25,
   "metadata": {
    "execution": {
     "iopub.execute_input": "2022-04-15T17:12:30.973657Z",
     "iopub.status.busy": "2022-04-15T17:12:30.973363Z",
     "iopub.status.idle": "2022-04-15T17:12:30.979714Z",
     "shell.execute_reply": "2022-04-15T17:12:30.979053Z",
     "shell.execute_reply.started": "2022-04-15T17:12:30.973625Z"
    }
   },
   "outputs": [],
   "source": [
    "list4.reverse()\n",
    "list4"
   ]
  },
  {
   "cell_type": "code",
   "execution_count": 26,
   "metadata": {
    "execution": {
     "iopub.execute_input": "2022-04-15T17:12:48.315651Z",
     "iopub.status.busy": "2022-04-15T17:12:48.315375Z",
     "iopub.status.idle": "2022-04-15T17:12:48.321597Z",
     "shell.execute_reply": "2022-04-15T17:12:48.320763Z",
     "shell.execute_reply.started": "2022-04-15T17:12:48.315619Z"
    }
   },
   "outputs": [],
   "source": [
    "list5=list4.copy()\n",
    "list5"
   ]
  },
  {
   "cell_type": "code",
   "execution_count": 27,
   "metadata": {
    "execution": {
     "iopub.execute_input": "2022-04-15T17:13:14.909370Z",
     "iopub.status.busy": "2022-04-15T17:13:14.909104Z",
     "iopub.status.idle": "2022-04-15T17:13:14.915410Z",
     "shell.execute_reply": "2022-04-15T17:13:14.914410Z",
     "shell.execute_reply.started": "2022-04-15T17:13:14.909341Z"
    }
   },
   "outputs": [],
   "source": [
    "list6=list(list4)\n",
    "list6"
   ]
  },
  {
   "cell_type": "code",
   "execution_count": 28,
   "metadata": {
    "execution": {
     "iopub.execute_input": "2022-04-15T17:13:46.149402Z",
     "iopub.status.busy": "2022-04-15T17:13:46.148773Z",
     "iopub.status.idle": "2022-04-15T17:13:46.154538Z",
     "shell.execute_reply": "2022-04-15T17:13:46.153952Z",
     "shell.execute_reply.started": "2022-04-15T17:13:46.149362Z"
    }
   },
   "outputs": [],
   "source": [
    "list7=list1+list6\n",
    "list7"
   ]
  },
  {
   "cell_type": "code",
   "execution_count": 30,
   "metadata": {
    "execution": {
     "iopub.execute_input": "2022-04-15T17:15:17.194942Z",
     "iopub.status.busy": "2022-04-15T17:15:17.194394Z",
     "iopub.status.idle": "2022-04-15T17:15:17.200611Z",
     "shell.execute_reply": "2022-04-15T17:15:17.199949Z",
     "shell.execute_reply.started": "2022-04-15T17:15:17.194894Z"
    }
   },
   "outputs": [],
   "source": [
    "print(list1)\n",
    "print(list2)\n",
    "for x in list1:\n",
    "    list2.append(x)\n",
    "print(list1)\n",
    "print(list2)"
   ]
  },
  {
   "cell_type": "code",
   "execution_count": 31,
   "metadata": {
    "execution": {
     "iopub.execute_input": "2022-04-15T17:15:52.268618Z",
     "iopub.status.busy": "2022-04-15T17:15:52.267771Z",
     "iopub.status.idle": "2022-04-15T17:15:52.274455Z",
     "shell.execute_reply": "2022-04-15T17:15:52.273555Z",
     "shell.execute_reply.started": "2022-04-15T17:15:52.268578Z"
    }
   },
   "outputs": [],
   "source": [
    "print(list1)\n",
    "print(list2)\n",
    "list1.extend(list2)\n",
    "print(list1)\n",
    "print(list2)"
   ]
  },
  {
   "cell_type": "code",
   "execution_count": 33,
   "metadata": {
    "execution": {
     "iopub.execute_input": "2022-04-15T17:17:18.053421Z",
     "iopub.status.busy": "2022-04-15T17:17:18.053105Z",
     "iopub.status.idle": "2022-04-15T17:17:18.061432Z",
     "shell.execute_reply": "2022-04-15T17:17:18.060188Z",
     "shell.execute_reply.started": "2022-04-15T17:17:18.053389Z"
    }
   },
   "outputs": [],
   "source": [
    "tuple1=(\"sdf\",\"jkl\",1,2,3,True)\n",
    "tuple1"
   ]
  },
  {
   "cell_type": "code",
   "execution_count": 34,
   "metadata": {
    "execution": {
     "iopub.execute_input": "2022-04-15T17:17:19.925706Z",
     "iopub.status.busy": "2022-04-15T17:17:19.925179Z",
     "iopub.status.idle": "2022-04-15T17:17:19.929842Z",
     "shell.execute_reply": "2022-04-15T17:17:19.929261Z",
     "shell.execute_reply.started": "2022-04-15T17:17:19.925669Z"
    }
   },
   "outputs": [],
   "source": [
    "print(tuple1[2])"
   ]
  },
  {
   "cell_type": "code",
   "execution_count": 35,
   "metadata": {
    "execution": {
     "iopub.execute_input": "2022-04-15T17:17:45.373958Z",
     "iopub.status.busy": "2022-04-15T17:17:45.373648Z",
     "iopub.status.idle": "2022-04-15T17:17:45.379028Z",
     "shell.execute_reply": "2022-04-15T17:17:45.378300Z",
     "shell.execute_reply.started": "2022-04-15T17:17:45.373922Z"
    }
   },
   "outputs": [],
   "source": [
    "print(tuple1[::-1])"
   ]
  },
  {
   "cell_type": "code",
   "execution_count": 36,
   "metadata": {
    "execution": {
     "iopub.execute_input": "2022-04-15T17:20:47.382699Z",
     "iopub.status.busy": "2022-04-15T17:20:47.382260Z",
     "iopub.status.idle": "2022-04-15T17:20:47.390227Z",
     "shell.execute_reply": "2022-04-15T17:20:47.389313Z",
     "shell.execute_reply.started": "2022-04-15T17:20:47.382653Z"
    }
   },
   "outputs": [],
   "source": [
    "newlist=list(tuple1)\n",
    "print(newlist)\n",
    "print(tuple1)\n",
    "newlist[1]=\"Banasthali\"\n",
    "print(newlist)\n",
    "print(tuple1)"
   ]
  }
 ],
 "metadata": {
  "kernelspec": {
   "display_name": "Python 3 (ipykernel)",
   "language": "python",
   "name": "python3"
  },
  "language_info": {
   "codemirror_mode": {
    "name": "ipython",
    "version": 3
   },
   "file_extension": ".py",
   "mimetype": "text/x-python",
   "name": "python",
   "nbconvert_exporter": "python",
   "pygments_lexer": "ipython3",
   "version": "3.10.1"
  }
 },
 "nbformat": 4,
 "nbformat_minor": 4
}

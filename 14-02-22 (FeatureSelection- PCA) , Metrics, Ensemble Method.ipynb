{
 "cells": [
  {
   "cell_type": "code",
   "execution_count": 41,
   "metadata": {
    "id": "W2EfCrq2ILdw"
   },
   "outputs": [],
   "source": [
    "#pca & metrics 14 02 2022"
   ]
  },
  {
   "cell_type": "code",
   "execution_count": 42,
   "metadata": {
    "id": "0BvACF0djNNM"
   },
   "outputs": [],
   "source": [
    "from sklearn.datasets import load_diabetes\n",
    "X,y=load_diabetes(return_X_y=True)"
   ]
  },
  {
   "cell_type": "code",
   "execution_count": 43,
   "metadata": {
    "colab": {
     "base_uri": "https://localhost:8080/"
    },
    "id": "ZZ0w99OKyc4J",
    "outputId": "8a4fce68-baba-428a-f41b-83762b8a6e89"
   },
   "outputs": [
    {
     "data": {
      "text/plain": [
       "array([[ 2.79306207e-02, -9.26011612e-02],\n",
       "       [-1.34686052e-01,  6.52634060e-02],\n",
       "       [ 1.29447396e-02, -7.77641691e-02],\n",
       "       [ 2.34543980e-03,  1.81819367e-02],\n",
       "       [-3.59806910e-02,  3.86213572e-02],\n",
       "       [-1.88660280e-01, -1.81251413e-02],\n",
       "       [-9.48347610e-02, -3.83155499e-02],\n",
       "       [ 9.87389258e-02,  8.69453424e-02],\n",
       "       [ 2.86833351e-02, -4.19169143e-02],\n",
       "       [-1.00910711e-02, -2.34450670e-02],\n",
       "       [-1.83419418e-01, -7.28738089e-02],\n",
       "       [ 1.88796730e-02, -3.00873701e-02],\n",
       "       [-7.59323171e-02,  4.66838722e-02],\n",
       "       [ 1.51473512e-02, -3.09692487e-02],\n",
       "       [-8.01694940e-02,  8.64707740e-02],\n",
       "       [ 1.40488092e-01,  4.51897240e-02],\n",
       "       [ 7.58600302e-03,  4.33946961e-02],\n",
       "       [ 1.08839198e-01, -7.06819254e-03],\n",
       "       [-5.49947993e-02, -2.03725705e-02],\n",
       "       [-8.42651351e-02,  4.41806793e-02],\n",
       "       [-9.55955468e-02, -1.37941404e-02],\n",
       "       [-9.18719735e-02, -3.95423697e-02],\n",
       "       [-7.97268029e-02,  3.42316116e-02],\n",
       "       [ 1.79486384e-01, -8.39222736e-02],\n",
       "       [-6.13394313e-02, -1.18652407e-02],\n",
       "       [ 3.92363820e-03, -5.10828245e-02],\n",
       "       [-1.84828537e-01, -4.67873287e-02],\n",
       "       [-4.96967732e-02, -2.63117973e-02],\n",
       "       [-8.36788209e-02, -2.87357913e-03],\n",
       "       [-1.71885595e-02, -6.69903464e-02],\n",
       "       [-5.58611904e-02,  1.70261134e-02],\n",
       "       [-1.64968530e-01,  3.10718949e-02],\n",
       "       [ 1.24056068e-01, -1.39902415e-01],\n",
       "       [-1.36513766e-01,  2.59201242e-02],\n",
       "       [-1.40162432e-01, -5.63370809e-03],\n",
       "       [-3.34396746e-02,  8.95441058e-02],\n",
       "       [-6.77447975e-03,  2.10255176e-02],\n",
       "       [-6.69444076e-02,  7.15254095e-03],\n",
       "       [ 1.85191456e-01,  2.08702843e-02],\n",
       "       [ 7.28741657e-03, -1.49538052e-02],\n",
       "       [ 1.15507838e-01,  2.04192603e-02],\n",
       "       [-1.74462889e-01, -2.47402646e-02],\n",
       "       [-2.76506311e-02, -8.51287271e-02],\n",
       "       [-8.56914170e-02,  9.88699355e-02],\n",
       "       [ 9.67999958e-02, -7.97608127e-02],\n",
       "       [-1.01473230e-02, -2.33657143e-02],\n",
       "       [-1.15570589e-01, -1.48487982e-02],\n",
       "       [-1.61765051e-01, -5.13039098e-02],\n",
       "       [-4.07025090e-02,  1.94695155e-02],\n",
       "       [ 6.12607134e-02, -6.87912374e-02],\n",
       "       [-4.92354907e-02, -2.33374556e-02],\n",
       "       [ 9.78432196e-03, -7.29734156e-02],\n",
       "       [-1.46188615e-02,  7.55583713e-02],\n",
       "       [ 1.34665755e-02,  3.15091663e-02],\n",
       "       [-4.08848170e-02,  5.95156194e-02],\n",
       "       [-1.16620952e-01,  6.08980206e-02],\n",
       "       [-1.52011820e-02, -3.73512443e-02],\n",
       "       [-2.05138473e-01, -2.71310185e-02],\n",
       "       [-1.25905088e-01,  1.06047703e-01],\n",
       "       [ 6.89941155e-02,  5.74908645e-02],\n",
       "       [-1.64253230e-01, -1.75854067e-02],\n",
       "       [ 3.57733371e-02, -1.00596444e-01],\n",
       "       [-9.15929289e-02,  1.04199506e-02],\n",
       "       [-5.32336156e-02,  6.15051986e-02],\n",
       "       [-5.72408636e-02, -6.99815577e-02],\n",
       "       [ 8.24607457e-02, -5.10090158e-02],\n",
       "       [ 4.76614787e-02, -6.23906381e-02],\n",
       "       [ 9.97125263e-03, -1.93721417e-02],\n",
       "       [-2.42695038e-02, -4.26792827e-02],\n",
       "       [-9.41281845e-02, -5.02129729e-02],\n",
       "       [-8.43436350e-02,  6.22574081e-02],\n",
       "       [ 8.47071159e-02,  9.74693035e-03],\n",
       "       [ 8.04804517e-02,  9.46795701e-02],\n",
       "       [ 4.89545738e-02,  2.59062097e-02],\n",
       "       [ 4.01484377e-02,  1.35424773e-02],\n",
       "       [ 3.00068869e-03, -3.15325948e-02],\n",
       "       [-6.25681422e-02, -1.81236778e-01],\n",
       "       [-1.33200015e-01,  6.76652944e-03],\n",
       "       [-7.47472791e-02, -6.15650388e-02],\n",
       "       [-8.00464439e-02,  4.28849169e-02],\n",
       "       [ 5.75572132e-02,  1.04341412e-01],\n",
       "       [ 2.91402765e-02, -5.13190611e-03],\n",
       "       [-1.09965942e-01,  1.14348183e-01],\n",
       "       [-9.91677923e-02, -3.61466955e-02],\n",
       "       [-1.69798250e-01,  4.60468914e-02],\n",
       "       [-4.02238063e-02,  1.95499443e-02],\n",
       "       [-9.98396253e-02, -5.61058458e-02],\n",
       "       [-1.02185239e-02,  1.15877610e-01],\n",
       "       [-7.48957109e-02, -2.45999367e-02],\n",
       "       [-8.27373001e-02,  5.36624169e-02],\n",
       "       [-1.29083268e-01,  3.49866415e-02],\n",
       "       [ 8.50717165e-02,  7.40960158e-02],\n",
       "       [-1.66674342e-02,  2.92272646e-02],\n",
       "       [-1.41109343e-01,  7.13799156e-02],\n",
       "       [-1.20861612e-01,  5.93104036e-02],\n",
       "       [-7.92935242e-02, -2.62531374e-02],\n",
       "       [ 9.26083088e-02, -6.21818143e-02],\n",
       "       [ 7.81713790e-02,  1.21791213e-02],\n",
       "       [-4.84808532e-02, -1.93737633e-02],\n",
       "       [ 2.85520756e-03,  5.33629924e-02],\n",
       "       [ 3.47044519e-02,  8.78325002e-02],\n",
       "       [-1.47071864e-02,  1.79581777e-02],\n",
       "       [-3.77513191e-02,  7.47772411e-02],\n",
       "       [ 8.81227168e-02,  1.30685494e-02],\n",
       "       [-7.67502285e-02,  5.26310845e-03],\n",
       "       [-1.95775509e-02, -4.43801575e-02],\n",
       "       [-1.60842245e-01,  4.41549288e-03],\n",
       "       [ 2.82957377e-02,  3.93157555e-03],\n",
       "       [ 5.71480217e-02, -1.34329268e-01],\n",
       "       [ 9.05222517e-02, -3.83302434e-02],\n",
       "       [-9.68605137e-02, -3.63776277e-02],\n",
       "       [-5.80795461e-02,  8.02587904e-02],\n",
       "       [-2.72169258e-02,  2.49406498e-02],\n",
       "       [ 1.22241401e-01, -4.69040119e-02],\n",
       "       [ 1.01544052e-01, -3.35816989e-02],\n",
       "       [ 1.33536784e-01,  5.42769730e-03],\n",
       "       [ 1.06804808e-01, -3.51480909e-02],\n",
       "       [ 1.65985070e-01,  9.19142114e-03],\n",
       "       [ 7.50820891e-02, -2.02283638e-02],\n",
       "       [-4.86797921e-02,  1.16929095e-02],\n",
       "       [-5.20171044e-02, -2.29385601e-02],\n",
       "       [ 6.30822147e-02,  6.68939213e-03],\n",
       "       [ 1.62079146e-01, -1.61520759e-02],\n",
       "       [ 2.69646993e-01,  1.02840532e-01],\n",
       "       [-5.94323257e-02, -9.57332162e-03],\n",
       "       [ 1.32507002e-02, -8.70551290e-02],\n",
       "       [-1.89154794e-01,  3.21540776e-03],\n",
       "       [-3.73816432e-02,  6.24825709e-02],\n",
       "       [-1.09678973e-01,  4.75840748e-02],\n",
       "       [ 8.27347476e-02, -3.30850204e-03],\n",
       "       [ 8.35885935e-02, -6.57436971e-02],\n",
       "       [-1.43949852e-01,  3.57572755e-02],\n",
       "       [ 3.40858134e-02,  2.60273601e-02],\n",
       "       [-1.33979698e-01, -8.27850952e-02],\n",
       "       [-7.62122749e-02,  5.83071128e-02],\n",
       "       [ 4.02900605e-02, -7.96524124e-02],\n",
       "       [-1.92207944e-01,  1.43925044e-03],\n",
       "       [ 2.62893485e-02, -2.24815986e-02],\n",
       "       [ 8.79155760e-02, -9.73725264e-02],\n",
       "       [ 2.67577199e-02, -5.61013210e-02],\n",
       "       [ 2.70157718e-02, -6.61455596e-02],\n",
       "       [ 1.57247497e-01, -1.04947659e-03],\n",
       "       [ 8.17944060e-02,  2.79689725e-02],\n",
       "       [-7.40951337e-02,  7.53529114e-02],\n",
       "       [ 1.02399657e-01, -2.35335308e-02],\n",
       "       [-2.68454281e-02, -3.39205564e-02],\n",
       "       [ 7.13555716e-02, -3.43693137e-02],\n",
       "       [ 5.75980173e-02,  1.79789409e-03],\n",
       "       [ 6.97140442e-03,  3.19607023e-02],\n",
       "       [ 3.10928075e-02, -7.39365880e-02],\n",
       "       [ 5.72505089e-03, -3.75114289e-02],\n",
       "       [-6.14829101e-02,  3.35921586e-02],\n",
       "       [ 1.56621884e-01, -2.48709023e-02],\n",
       "       [ 1.99927751e-02, -2.16338450e-02],\n",
       "       [ 4.89714461e-02,  2.83366951e-03],\n",
       "       [ 1.40492893e-01,  4.21148026e-02],\n",
       "       [-7.95567563e-02, -7.55472043e-03],\n",
       "       [ 4.52636774e-02,  1.45345572e-02],\n",
       "       [-7.38306149e-02,  4.90806854e-02],\n",
       "       [ 4.76728585e-02,  2.70082956e-03],\n",
       "       [-1.08979284e-01,  2.71949433e-02],\n",
       "       [ 2.43968870e-01,  5.82734044e-02],\n",
       "       [-5.51501642e-02,  1.38471330e-03],\n",
       "       [ 6.64112981e-02, -5.08571334e-02],\n",
       "       [-3.66284862e-02,  8.28180624e-02],\n",
       "       [-1.34681482e-01,  2.11024348e-02],\n",
       "       [-1.62413993e-01, -8.39327165e-02],\n",
       "       [ 1.36982369e-01, -1.44794601e-02],\n",
       "       [ 2.00642141e-01, -1.37473854e-02],\n",
       "       [ 1.11929601e-01,  7.13728258e-03],\n",
       "       [-8.76082194e-02,  1.17380513e-02],\n",
       "       [-1.47011870e-01, -3.44930772e-02],\n",
       "       [ 1.36268563e-01, -2.12817233e-02],\n",
       "       [-1.16537651e-01, -7.79771798e-02],\n",
       "       [-5.91834184e-02, -1.31326991e-01],\n",
       "       [-6.13805081e-02,  6.89669434e-03],\n",
       "       [ 5.36760600e-02,  2.01076773e-04],\n",
       "       [ 1.07566761e-01, -1.01669573e-03],\n",
       "       [-5.97777116e-02,  8.78520860e-02],\n",
       "       [ 2.91184288e-02,  2.70782666e-02],\n",
       "       [ 4.43421851e-02, -5.71715313e-02],\n",
       "       [-3.31302984e-02,  1.05693177e-01],\n",
       "       [ 1.34446815e-01,  2.67896146e-02],\n",
       "       [ 4.97174610e-02, -3.42769449e-02],\n",
       "       [ 1.09438761e-02, -2.86868314e-02],\n",
       "       [ 2.76772307e-02, -7.94085467e-02],\n",
       "       [ 1.04600155e-01, -1.85110899e-02],\n",
       "       [-2.14661046e-01, -1.34555991e-02],\n",
       "       [ 3.82705493e-02,  1.09604504e-01],\n",
       "       [-4.90208322e-02,  3.60159889e-02],\n",
       "       [ 2.47658010e-02, -2.33554570e-02],\n",
       "       [-7.74128322e-02, -1.01010151e-01],\n",
       "       [-2.82557170e-02,  3.28899904e-02],\n",
       "       [ 1.09006877e-01,  4.11578660e-02],\n",
       "       [-7.26359757e-02, -3.74038298e-02],\n",
       "       [ 8.95472353e-02, -1.20704373e-02],\n",
       "       [-3.31009676e-02,  8.24620449e-02],\n",
       "       [ 8.87873872e-02, -5.97071917e-02],\n",
       "       [-1.01456513e-01, -3.44137414e-02],\n",
       "       [ 2.54919246e-02,  5.63721624e-02],\n",
       "       [-2.13580430e-03,  1.08920778e-01],\n",
       "       [-6.40267881e-02,  1.31915317e-03],\n",
       "       [ 1.44266320e-01,  1.00559450e-01],\n",
       "       [ 1.26576428e-01, -1.11689880e-02],\n",
       "       [ 8.50057916e-02, -7.17169813e-02],\n",
       "       [-4.78504121e-03, -2.33772627e-02],\n",
       "       [ 6.25572561e-02, -4.35606983e-03],\n",
       "       [ 1.92320197e-02,  1.90906652e-02],\n",
       "       [ 1.11385706e-01,  2.16909284e-03],\n",
       "       [ 3.44164145e-02, -1.00794800e-01],\n",
       "       [-3.10855413e-02,  1.10700423e-01],\n",
       "       [-1.83089155e-02, -3.79885363e-03],\n",
       "       [ 1.40444928e-02,  9.41321982e-02],\n",
       "       [-6.72001398e-02,  4.63299202e-02],\n",
       "       [-1.57495173e-01,  2.65407604e-02],\n",
       "       [ 1.06627339e-01, -1.12799739e-01],\n",
       "       [ 1.95603801e-01, -1.72414781e-02],\n",
       "       [ 9.53295596e-02,  4.85425598e-02],\n",
       "       [-1.97793836e-02,  1.11054931e-02],\n",
       "       [-1.22933475e-01, -3.99626417e-02],\n",
       "       [-1.07737087e-01, -3.73771641e-02],\n",
       "       [-4.58770080e-02,  3.54339357e-03],\n",
       "       [-3.12692726e-02, -8.49029400e-02],\n",
       "       [-1.39112845e-01, -2.18384751e-02],\n",
       "       [-1.30348368e-01, -5.62377180e-04],\n",
       "       [ 6.94494933e-02, -1.12266921e-01],\n",
       "       [-1.09607838e-01, -1.52490725e-02],\n",
       "       [-2.99894505e-02,  1.43572389e-02],\n",
       "       [-6.84193403e-02,  4.00569538e-02],\n",
       "       [-4.21285696e-02,  1.09851391e-02],\n",
       "       [ 1.86967443e-01,  1.23033828e-01],\n",
       "       [ 8.40461371e-04,  2.92898348e-02],\n",
       "       [ 9.76675818e-02,  4.07774706e-03],\n",
       "       [-6.94257238e-02,  2.34459438e-02],\n",
       "       [ 5.45988033e-02, -1.92390137e-03],\n",
       "       [ 3.96268563e-02, -1.08309296e-01],\n",
       "       [ 9.08576826e-02,  9.38232248e-02],\n",
       "       [-8.36196596e-02,  6.61197393e-02],\n",
       "       [ 6.45928502e-02, -9.09502782e-02],\n",
       "       [ 6.33489016e-02,  1.09021044e-01],\n",
       "       [ 1.02679782e-01, -7.18094829e-02],\n",
       "       [ 3.10499439e-02,  4.15331374e-03],\n",
       "       [-1.44492578e-01, -9.61214954e-02],\n",
       "       [-4.34358178e-02, -3.98631650e-02],\n",
       "       [-6.83872762e-02, -6.29585120e-02],\n",
       "       [-1.59180485e-01, -3.18378941e-03],\n",
       "       [-2.66050190e-03,  1.34411082e-01],\n",
       "       [-1.38092806e-01,  7.15632400e-02],\n",
       "       [ 1.92800306e-01,  1.06147106e-01],\n",
       "       [ 9.70255844e-02,  2.70711455e-02],\n",
       "       [ 7.30130289e-02, -4.58606833e-02],\n",
       "       [ 1.97244885e-01, -3.49783416e-02],\n",
       "       [ 4.54465151e-02,  3.13603596e-02],\n",
       "       [ 1.14773160e-01,  5.20956445e-02],\n",
       "       [ 1.81926598e-01, -4.88777757e-02],\n",
       "       [-6.61653168e-02,  3.84822228e-02],\n",
       "       [ 4.23497597e-02, -5.71286272e-02],\n",
       "       [-6.72043489e-02,  3.25594213e-03],\n",
       "       [ 8.67697732e-02, -2.28897946e-02],\n",
       "       [-9.86233342e-03,  2.12964568e-03],\n",
       "       [-1.37378950e-01,  1.04271421e-01],\n",
       "       [-6.16458674e-02,  1.14251238e-01],\n",
       "       [ 1.17754712e-01, -5.07140590e-02],\n",
       "       [-1.21665984e-01, -3.77705304e-02],\n",
       "       [-1.89213838e-02, -7.05878471e-02],\n",
       "       [-1.37690308e-03, -1.40230373e-02],\n",
       "       [-1.32669857e-01,  3.37506356e-02],\n",
       "       [ 6.64781058e-02,  1.08199360e-01],\n",
       "       [ 1.68995385e-01, -4.90554999e-02],\n",
       "       [-1.06912326e-01,  1.35217248e-01],\n",
       "       [ 1.21483806e-04, -6.96865559e-02],\n",
       "       [ 1.54232797e-02, -7.93843360e-02],\n",
       "       [-1.14947892e-01, -4.91558059e-02],\n",
       "       [ 1.61574045e-01,  8.98471525e-03],\n",
       "       [ 7.58802438e-03,  2.76758535e-03],\n",
       "       [ 2.62747808e-02, -5.61589664e-02],\n",
       "       [ 9.04278519e-02,  1.51041505e-01],\n",
       "       [-1.34141795e-01, -3.26632136e-03],\n",
       "       [ 3.52610005e-02, -2.69344972e-02],\n",
       "       [-4.24980691e-02, -2.86599559e-02],\n",
       "       [ 3.14377704e-02, -1.57068331e-03],\n",
       "       [-6.19642431e-02, -3.38980798e-02],\n",
       "       [ 8.72460984e-02,  1.20787152e-01],\n",
       "       [-1.22753568e-01,  4.15157489e-03],\n",
       "       [-1.93565601e-02, -1.03286430e-01],\n",
       "       [ 7.91997326e-02, -5.97911450e-03],\n",
       "       [-1.77666878e-01,  5.37963573e-02],\n",
       "       [ 1.02094931e-01,  1.58139657e-01],\n",
       "       [ 1.64481835e-02,  5.65188172e-02],\n",
       "       [ 9.12121431e-02,  3.37448955e-03],\n",
       "       [ 1.14682457e-01, -5.85389171e-02],\n",
       "       [ 6.63544890e-02,  7.16158937e-02],\n",
       "       [-1.51733678e-01,  1.50663422e-02],\n",
       "       [ 8.85460741e-03,  3.08245539e-02],\n",
       "       [-2.68888451e-02, -2.57357475e-02],\n",
       "       [-2.06024044e-02, -2.36460969e-02],\n",
       "       [-1.07721634e-01,  3.54331714e-02],\n",
       "       [-1.10236683e-01,  5.47514365e-03],\n",
       "       [-9.11589493e-02, -1.04515565e-01],\n",
       "       [-1.82261350e-02, -5.02856701e-02],\n",
       "       [ 3.40584705e-02, -8.34406608e-03],\n",
       "       [ 2.98447867e-02,  1.91553595e-02],\n",
       "       [ 5.89687807e-02,  3.23122420e-02],\n",
       "       [ 8.41451334e-02,  5.60356709e-02],\n",
       "       [ 1.17413110e-01,  5.48773432e-02],\n",
       "       [ 2.14567129e-02, -3.84590857e-02],\n",
       "       [-3.97206639e-02, -5.38636748e-02],\n",
       "       [ 9.48542648e-02, -6.49434909e-03],\n",
       "       [-1.76049492e-01, -1.40510465e-02],\n",
       "       [ 8.50508888e-02,  6.73766349e-02],\n",
       "       [ 3.22797062e-02, -1.49691527e-03],\n",
       "       [ 7.98776388e-02,  6.11526036e-02],\n",
       "       [-9.08242263e-02,  1.41116393e-02],\n",
       "       [ 1.09242861e-01, -1.36473795e-02],\n",
       "       [-2.55940669e-02,  7.85951205e-03],\n",
       "       [-4.63452492e-02,  8.71042454e-02],\n",
       "       [ 7.57816952e-02, -5.44350087e-02],\n",
       "       [ 9.73829776e-02,  7.60881932e-02],\n",
       "       [ 1.22763568e-02,  6.96573404e-02],\n",
       "       [-1.98690606e-02,  4.67237919e-03],\n",
       "       [ 1.03876722e-01,  8.64717943e-02],\n",
       "       [ 2.20708619e-01, -5.60534844e-03],\n",
       "       [ 2.15118116e-01, -1.06362378e-01],\n",
       "       [ 1.84087008e-01, -3.27367423e-02],\n",
       "       [ 1.47393029e-01,  6.37589415e-02],\n",
       "       [ 1.30789839e-01,  5.12940574e-02],\n",
       "       [ 5.19792353e-02, -4.07918020e-02],\n",
       "       [ 5.90710213e-02,  3.45111731e-02],\n",
       "       [-2.34019956e-02, -2.04338982e-02],\n",
       "       [-4.50677541e-02, -3.12433390e-02],\n",
       "       [ 8.92540376e-02, -5.34013706e-02],\n",
       "       [-3.82227203e-02, -8.67866564e-02],\n",
       "       [ 1.07589838e-01, -5.63189853e-02],\n",
       "       [ 6.75373012e-02, -6.69609554e-02],\n",
       "       [-1.25541416e-01, -7.34545543e-02],\n",
       "       [-1.00472344e-01,  6.55571022e-02],\n",
       "       [ 1.93608910e-01,  5.38288651e-02],\n",
       "       [ 5.66097752e-02, -5.24246792e-02],\n",
       "       [-5.39328485e-02,  2.89806836e-02],\n",
       "       [ 3.82056318e-02,  1.10533198e-01],\n",
       "       [-3.05066299e-02,  8.94861553e-03],\n",
       "       [ 3.52449161e-02, -6.15498813e-02],\n",
       "       [ 5.42365354e-02, -4.16917964e-02],\n",
       "       [-2.50983964e-02,  2.97698294e-02],\n",
       "       [ 5.27168653e-03,  7.04826365e-02],\n",
       "       [ 6.91961776e-02,  3.23782724e-02],\n",
       "       [ 1.78618567e-01,  8.61603266e-02],\n",
       "       [-3.10067216e-02, -1.09748932e-02],\n",
       "       [-6.46785568e-02,  4.92460033e-02],\n",
       "       [-7.28482803e-02, -1.25777175e-01],\n",
       "       [ 1.19250562e-01, -6.08887030e-02],\n",
       "       [-1.33444714e-01, -8.62996820e-02],\n",
       "       [-1.60382785e-01, -5.82618586e-03],\n",
       "       [ 4.63954587e-02,  7.64411511e-02],\n",
       "       [ 1.55340044e-01,  6.36320969e-02],\n",
       "       [-3.19921569e-02, -6.17501864e-02],\n",
       "       [-3.82222037e-02,  1.47673967e-02],\n",
       "       [ 3.95401315e-03, -6.09302172e-02],\n",
       "       [-1.49985418e-01,  2.76103782e-02],\n",
       "       [ 8.36777723e-02, -3.20027090e-02],\n",
       "       [ 1.67571540e-02, -9.23869773e-03],\n",
       "       [-9.25978586e-02,  1.26658405e-03],\n",
       "       [ 6.32179928e-02, -9.35485319e-02],\n",
       "       [ 6.97033201e-03, -9.42989249e-02],\n",
       "       [ 6.42830283e-02, -5.04162239e-02],\n",
       "       [ 3.33429126e-02,  2.20248519e-02],\n",
       "       [ 1.47535119e-01, -3.55678922e-02],\n",
       "       [ 1.29280737e-01, -3.28278415e-02],\n",
       "       [ 9.51706297e-02, -3.90375971e-02],\n",
       "       [ 6.48597819e-03, -2.48754514e-02],\n",
       "       [-1.27627725e-01,  7.68709417e-02],\n",
       "       [ 1.00246207e-01, -1.33146668e-02],\n",
       "       [-1.84982734e-02,  1.44287729e-02],\n",
       "       [-1.04600975e-01, -4.51634923e-02],\n",
       "       [-1.52086189e-01, -2.77252438e-02],\n",
       "       [ 7.61680895e-02,  9.81966371e-03],\n",
       "       [ 1.58570612e-01,  1.15475384e-01],\n",
       "       [ 7.38793238e-02, -2.48833642e-02],\n",
       "       [ 3.93544206e-02, -4.21310696e-02],\n",
       "       [-1.41861020e-01, -7.89454770e-02],\n",
       "       [-5.58224397e-02, -5.03650046e-02],\n",
       "       [-9.14836302e-02, -4.59803889e-02],\n",
       "       [ 4.29696115e-02, -6.11439714e-02],\n",
       "       [-4.54406553e-02, -3.83158304e-02],\n",
       "       [ 5.78448153e-02,  9.91117236e-02],\n",
       "       [-5.34751889e-02, -7.98577181e-02],\n",
       "       [-7.21830341e-02,  4.35722726e-02],\n",
       "       [-1.13833435e-01, -1.84134944e-02],\n",
       "       [ 2.71758335e-02, -3.56250821e-02],\n",
       "       [-9.87145509e-02,  1.35499006e-02],\n",
       "       [ 1.37344162e-01, -7.38468330e-02],\n",
       "       [-1.62678222e-01, -1.98554311e-03],\n",
       "       [ 1.20676877e-02,  1.44211761e-02],\n",
       "       [-1.11848688e-01,  1.33452393e-02],\n",
       "       [ 1.06678575e-01, -5.36816418e-02],\n",
       "       [-4.91702677e-02,  1.45629587e-02],\n",
       "       [-1.35395221e-01, -5.86429445e-02],\n",
       "       [-2.90614834e-02, -3.72675706e-02],\n",
       "       [ 1.05209759e-02,  6.14798137e-02],\n",
       "       [ 7.66928671e-02, -2.21827038e-02],\n",
       "       [-4.66923475e-02,  1.02228252e-02],\n",
       "       [-1.21786530e-01,  2.90957508e-02],\n",
       "       [ 9.10491698e-02, -3.98880940e-02],\n",
       "       [ 4.61706304e-02, -2.78475116e-02],\n",
       "       [-3.01932420e-02, -2.50710748e-02],\n",
       "       [ 3.13362872e-02, -1.87534139e-01],\n",
       "       [-1.86037713e-01,  3.38394666e-02],\n",
       "       [ 3.32573908e-02,  1.75986367e-02],\n",
       "       [ 8.71341236e-02,  2.43926731e-02],\n",
       "       [ 1.06441767e-01,  1.22329490e-02],\n",
       "       [ 6.49614838e-02,  1.26953427e-02],\n",
       "       [-1.17857427e-01, -4.20588838e-02],\n",
       "       [ 8.50920276e-02,  1.35711455e-02],\n",
       "       [-5.88469564e-02,  5.47235238e-02],\n",
       "       [ 1.78445277e-01,  7.52541723e-02],\n",
       "       [ 5.43682414e-02,  3.15212801e-02],\n",
       "       [ 4.90809102e-02, -1.50024490e-02],\n",
       "       [-5.12959000e-02,  9.36489055e-03],\n",
       "       [ 1.92312058e-02,  1.60667157e-01],\n",
       "       [-1.36839619e-01, -2.06860452e-02],\n",
       "       [ 3.24050753e-02,  1.18496878e-02],\n",
       "       [ 1.24745147e-01, -9.65164466e-03],\n",
       "       [ 8.38310731e-02,  4.50282076e-02],\n",
       "       [ 1.04066028e-01, -2.18281907e-03],\n",
       "       [ 4.56173451e-02, -5.86872102e-02],\n",
       "       [-1.97219630e-01, -5.60607237e-02],\n",
       "       [ 1.36550084e-01,  1.69445297e-02],\n",
       "       [-6.69370329e-02, -9.38798892e-02],\n",
       "       [ 1.79597689e-01, -4.10145060e-02],\n",
       "       [-5.16535107e-02,  1.03378508e-01],\n",
       "       [-4.45179621e-03,  5.07915162e-02],\n",
       "       [-4.05532261e-02, -3.71290111e-02],\n",
       "       [ 1.10530829e-01,  4.96335617e-02],\n",
       "       [-9.14915767e-02,  1.32092995e-01],\n",
       "       [-2.89007534e-02,  4.11255528e-02],\n",
       "       [-5.62727386e-02,  1.39570826e-02],\n",
       "       [-1.78999364e-01,  5.53236086e-02],\n",
       "       [ 5.89584917e-02, -4.92753732e-02],\n",
       "       [ 6.01545161e-02,  3.62113927e-02],\n",
       "       [-9.76257296e-03, -5.73372415e-02],\n",
       "       [ 3.29562879e-02,  9.99424349e-03],\n",
       "       [-9.05608887e-02,  1.89108144e-01]])"
      ]
     },
     "execution_count": 43,
     "metadata": {},
     "output_type": "execute_result"
    }
   ],
   "source": [
    "from sklearn.decomposition import PCA\n",
    "pca=PCA(n_components=2)\n",
    "pca1=pca.fit_transform(X)\n",
    "pca1"
   ]
  },
  {
   "cell_type": "code",
   "execution_count": 2,
   "metadata": {},
   "outputs": [],
   "source": [
    "import pandas as pd\n",
    "url = \"https://archive.ics.uci.edu/ml/machine-learning-databases/iris/iris.data\"\n",
    "df = pd.read_csv(url, names=['sepal length','sepal width','petal length','petal width','target'])"
   ]
  },
  {
   "cell_type": "code",
   "execution_count": 3,
   "metadata": {},
   "outputs": [],
   "source": [
    "from sklearn.preprocessing import StandardScaler\n",
    "features = ['sepal length', 'sepal width', 'petal length', 'petal width']\n",
    "x = df.loc[:, features].values\n",
    "y = df.loc[:,['target']].values\n",
    "x = StandardScaler().fit_transform(x)"
   ]
  },
  {
   "cell_type": "code",
   "execution_count": 4,
   "metadata": {},
   "outputs": [],
   "source": [
    "from sklearn.decomposition import PCA\n",
    "pca = PCA(n_components=2)\n",
    "pcai = pca.fit_transform(x)\n",
    "#Convert array to dataframe\n",
    "principalDf = pd.DataFrame(data = pcai\n",
    "             , columns = ['principal component 1', 'principal component 2'])"
   ]
  },
  {
   "cell_type": "code",
   "execution_count": 5,
   "metadata": {},
   "outputs": [],
   "source": [
    "#Concatenate target in dataFrame\n",
    "finalDf = pd.concat([principalDf, df[['target']]], axis = 1)"
   ]
  },
  {
   "cell_type": "code",
   "execution_count": 6,
   "metadata": {},
   "outputs": [
    {
     "data": {
      "image/png": "[encoded data removed]",
      "text/plain": [
       "<Figure size 576x576 with 1 Axes>"
      ]
     },
     "metadata": {
      "needs_background": "light"
     },
     "output_type": "display_data"
    }
   ],
   "source": [
    "import matplotlib.pyplot as plt\n",
    "fig = plt.figure(figsize = (8,8))\n",
    "ax = fig.add_subplot(1,1,1) \n",
    "ax.set_xlabel('Principal Component 1', fontsize = 15)\n",
    "ax.set_ylabel('Principal Component 2', fontsize = 15)\n",
    "ax.set_title('2 component PCA', fontsize = 20)\n",
    "targets = ['Iris-setosa', 'Iris-versicolor', 'Iris-virginica']\n",
    "colors = ['r', 'g', 'b']\n",
    "for target, color in zip(targets,colors):\n",
    "    indicesToKeep = finalDf['target'] == target\n",
    "    ax.scatter(finalDf.loc[indicesToKeep, 'principal component 1']\n",
    "               , finalDf.loc[indicesToKeep, 'principal component 2']\n",
    "               , c = color\n",
    "               , s = 50)\n",
    "ax.legend(targets)\n",
    "ax.grid()\n"
   ]
  },
  {
   "cell_type": "code",
   "execution_count": 44,
   "metadata": {
    "id": "Q28mSZgjCczt"
   },
   "outputs": [],
   "source": [
    "from sklearn.preprocessing import StandardScaler\n",
    "scaler=StandardScaler()\n",
    "X=scaler.fit_transform(X)"
   ]
  },
  {
   "cell_type": "code",
   "execution_count": 45,
   "metadata": {
    "id": "YJplUK_LjpgM"
   },
   "outputs": [],
   "source": [
    "from sklearn.model_selection import KFold\n",
    "kf=KFold(n_splits=5)\n",
    "for train, test in kf.split(X, y):\n",
    "  Xtrain, Xtest = X[train], X[test] \n",
    "  ytrain, ytest = y[train], y[test]"
   ]
  },
  {
   "cell_type": "code",
   "execution_count": 46,
   "metadata": {
    "colab": {
     "base_uri": "https://localhost:8080/"
    },
    "id": "SyQ6Fa0bjvT1",
    "outputId": "302e3b6a-c4f8-43d8-9331-b312971879c9"
   },
   "outputs": [
    {
     "name": "stdout",
     "output_type": "stream",
     "text": [
      "(354, 10) (354,)\n",
      "(88, 10) (88,)\n"
     ]
    }
   ],
   "source": [
    "print(Xtrain.shape , ytrain.shape)\n",
    "print(Xtest.shape , ytest.shape)"
   ]
  },
  {
   "cell_type": "code",
   "execution_count": 47,
   "metadata": {
    "colab": {
     "base_uri": "https://localhost:8080/"
    },
    "id": "mUNHdwgjomsK",
    "outputId": "9edd0fc2-06d7-42cd-cc5b-193b75f9a2c5"
   },
   "outputs": [
    {
     "data": {
      "text/plain": [
       "LinearRegression()"
      ]
     },
     "execution_count": 47,
     "metadata": {},
     "output_type": "execute_result"
    }
   ],
   "source": [
    "from sklearn.linear_model import LinearRegression\n",
    "model_lr=LinearRegression()\n",
    "model_lr.fit(Xtrain,ytrain)"
   ]
  },
  {
   "cell_type": "code",
   "execution_count": 48,
   "metadata": {
    "colab": {
     "base_uri": "https://localhost:8080/"
    },
    "id": "IpkA78OnpNYA",
    "outputId": "605bfb82-bdc2-44a3-deaf-c2b29645fc58"
   },
   "outputs": [
    {
     "data": {
      "text/plain": [
       "0.5502492259658611"
      ]
     },
     "execution_count": 48,
     "metadata": {},
     "output_type": "execute_result"
    }
   ],
   "source": [
    "model_lr.score(Xtest, ytest)"
   ]
  },
  {
   "cell_type": "code",
   "execution_count": 49,
   "metadata": {
    "colab": {
     "base_uri": "https://localhost:8080/"
    },
    "id": "ja8YChMLpUiX",
    "outputId": "a4cac638-f4b0-4b6c-9cf1-d84bf96baaf3"
   },
   "outputs": [
    {
     "data": {
      "text/plain": [
       "0.5077517592258138"
      ]
     },
     "execution_count": 49,
     "metadata": {},
     "output_type": "execute_result"
    }
   ],
   "source": [
    "model_lr.score(Xtrain, ytrain)"
   ]
  },
  {
   "cell_type": "code",
   "execution_count": 50,
   "metadata": {
    "id": "t6HaKSvwpYN1"
   },
   "outputs": [],
   "source": [
    "y_pred_lr=model_lr.predict(Xtest)"
   ]
  },
  {
   "cell_type": "code",
   "execution_count": 51,
   "metadata": {
    "colab": {
     "base_uri": "https://localhost:8080/"
    },
    "id": "-HiLO3ofpsCT",
    "outputId": "c16fb655-d2d1-47b9-bd56-f39096b00a26"
   },
   "outputs": [
    {
     "name": "stdout",
     "output_type": "stream",
     "text": [
      "Mean Absolute Error is =  42.38729269073616\n",
      "Mean Squared Error is =  2910.2069332665283\n",
      "Root Mean Square Error is =  53.94633382600275\n"
     ]
    }
   ],
   "source": [
    "from sklearn import metrics\n",
    "import numpy as np\n",
    "print(\"Mean Absolute Error is = \", metrics.mean_absolute_error(ytest,y_pred_lr))\n",
    "print(\"Mean Squared Error is = \", metrics.mean_squared_error(ytest,y_pred_lr))\n",
    "print(\"Root Mean Square Error is = \", np.sqrt(metrics.mean_squared_error(ytest,y_pred_lr)))"
   ]
  },
  {
   "cell_type": "code",
   "execution_count": 52,
   "metadata": {
    "colab": {
     "base_uri": "https://localhost:8080/"
    },
    "id": "8R5LKjRCsLzI",
    "outputId": "16a32a1a-1456-4fd4-c053-bc27054ae2bf"
   },
   "outputs": [
    {
     "data": {
      "text/plain": [
       "DecisionTreeRegressor()"
      ]
     },
     "execution_count": 52,
     "metadata": {},
     "output_type": "execute_result"
    }
   ],
   "source": [
    "from sklearn.tree import DecisionTreeRegressor \n",
    "model_dt=DecisionTreeRegressor()\n",
    "model_dt.fit(Xtrain,ytrain)"
   ]
  },
  {
   "cell_type": "code",
   "execution_count": 53,
   "metadata": {
    "id": "HaxfCCEksfSC"
   },
   "outputs": [],
   "source": [
    "y_pred_dt=model_dt.predict(Xtest)"
   ]
  },
  {
   "cell_type": "code",
   "execution_count": 54,
   "metadata": {
    "colab": {
     "base_uri": "https://localhost:8080/"
    },
    "id": "rcqyk4j1soI5",
    "outputId": "1050987e-79e0-4129-8153-929dea5df903"
   },
   "outputs": [
    {
     "name": "stdout",
     "output_type": "stream",
     "text": [
      "Mean Absolute Error is =  72.56818181818181\n",
      "Mean Squared Error is =  8344.068181818182\n",
      "Root Mean Square Error is =  91.34587118101278\n"
     ]
    }
   ],
   "source": [
    "print(\"Mean Absolute Error is = \", metrics.mean_absolute_error(ytest,y_pred_dt))\n",
    "print(\"Mean Squared Error is = \", metrics.mean_squared_error(ytest,y_pred_dt))\n",
    "print(\"Root Mean Square Error is = \", np.sqrt(metrics.mean_squared_error(ytest,y_pred_dt)))"
   ]
  },
  {
   "cell_type": "code",
   "execution_count": 62,
   "metadata": {
    "colab": {
     "base_uri": "https://localhost:8080/"
    },
    "id": "-wCn1xnZsxna",
    "outputId": "747a9c9f-170b-4e8e-830a-836f23501d15"
   },
   "outputs": [
    {
     "data": {
      "text/plain": [
       "-0.28951349832505735"
      ]
     },
     "execution_count": 62,
     "metadata": {},
     "output_type": "execute_result"
    }
   ],
   "source": [
    "model_dt.score(Xtest, ytest)"
   ]
  },
  {
   "cell_type": "code",
   "execution_count": 63,
   "metadata": {
    "colab": {
     "base_uri": "https://localhost:8080/"
    },
    "id": "qNUSa0l_C1bm",
    "outputId": "176a354e-2d81-47af-edec-737eaff1bf96"
   },
   "outputs": [
    {
     "data": {
      "text/plain": [
       "1.0"
      ]
     },
     "execution_count": 63,
     "metadata": {},
     "output_type": "execute_result"
    }
   ],
   "source": [
    "model_dt.score(Xtrain, ytrain)"
   ]
  },
  {
   "cell_type": "code",
   "execution_count": 56,
   "metadata": {
    "id": "I1GVU96JtmuF"
   },
   "outputs": [],
   "source": [
    "# ensemble method"
   ]
  },
  {
   "cell_type": "code",
   "execution_count": 57,
   "metadata": {
    "id": "-iQUx40PtyWr"
   },
   "outputs": [],
   "source": [
    "from sklearn.ensemble import StackingRegressor\n",
    "level0=list()\n",
    "level0.append(('lr',LinearRegression()))\n",
    "level0.append(('dt',DecisionTreeRegressor()))\n",
    "level1=LinearRegression()\n",
    "model_en=StackingRegressor(estimators=level0, final_estimator=level1, cv=5)"
   ]
  },
  {
   "cell_type": "code",
   "execution_count": 58,
   "metadata": {
    "colab": {
     "base_uri": "https://localhost:8080/"
    },
    "id": "fptbW6iZuyiE",
    "outputId": "06b02f29-5392-4401-bb3f-a8245b729648"
   },
   "outputs": [
    {
     "data": {
      "text/plain": [
       "StackingRegressor(cv=5,\n",
       "                  estimators=[('lr', LinearRegression()),\n",
       "                              ('dt', DecisionTreeRegressor())],\n",
       "                  final_estimator=LinearRegression())"
      ]
     },
     "execution_count": 58,
     "metadata": {},
     "output_type": "execute_result"
    }
   ],
   "source": [
    "model_en.fit(Xtrain, ytrain)"
   ]
  },
  {
   "cell_type": "code",
   "execution_count": 59,
   "metadata": {
    "id": "22LmFtwAB-Ol"
   },
   "outputs": [],
   "source": [
    "y_pred_en=model_en.predict(Xtest)"
   ]
  },
  {
   "cell_type": "code",
   "execution_count": 60,
   "metadata": {
    "colab": {
     "base_uri": "https://localhost:8080/"
    },
    "id": "elFpKlvQCFRt",
    "outputId": "e13f21f0-2e38-4e3a-efa7-99f1e3126cdc"
   },
   "outputs": [
    {
     "name": "stdout",
     "output_type": "stream",
     "text": [
      "Mean Absolute Error is =  43.037968675943894\n",
      "Mean Squared Error is =  2952.862933915582\n",
      "Root Mean Square Error is =  54.3402515076585\n"
     ]
    }
   ],
   "source": [
    "print(\"Mean Absolute Error is = \", metrics.mean_absolute_error(ytest,y_pred_en))\n",
    "print(\"Mean Squared Error is = \", metrics.mean_squared_error(ytest,y_pred_en))\n",
    "print(\"Root Mean Square Error is = \", np.sqrt(metrics.mean_squared_error(ytest,y_pred_en)))"
   ]
  },
  {
   "cell_type": "code",
   "execution_count": 1,
   "metadata": {
    "colab": {
     "base_uri": "https://localhost:8080/"
    },
    "id": "0n0jHKlLCNSI",
    "outputId": "80bc76ea-cce5-4858-d643-5eab9bb05d8c"
   },
   "outputs": [
    {
     "ename": "NameError",
     "evalue": "name 'model_en' is not defined",
     "output_type": "error",
     "traceback": [
      "\u001b[1;31m---------------------------------------------------------------------------\u001b[0m",
      "\u001b[1;31mNameError\u001b[0m                                 Traceback (most recent call last)",
      "Input \u001b[1;32mIn [1]\u001b[0m, in \u001b[0;36m<module>\u001b[1;34m\u001b[0m\n\u001b[1;32m----> 1\u001b[0m \u001b[43mmodel_en\u001b[49m\u001b[38;5;241m.\u001b[39mscore(Xtest, ytest)\n",
      "\u001b[1;31mNameError\u001b[0m: name 'model_en' is not defined"
     ]
    }
   ],
   "source": [
    "model_en.score(Xtest, ytest)"
   ]
  },
  {
   "cell_type": "code",
   "execution_count": null,
   "metadata": {},
   "outputs": [],
   "source": [
    "import matplotlib.pyplot as plt\n",
    "fig = plt.figure(figsize=(10,10))\n",
    "ax=fig.add(subplot(1,1,1))\n",
    "targets=['Iris-setosa','Iris-Versicolor','Iris-Verginica']\n",
    "colors=['r','g','b']\n",
    "for target,colors in zip(target)"
   ]
  }
 ],
 "metadata": {
  "colab": {
   "collapsed_sections": [],
   "name": "Lab11.ipynb",
   "provenance": []
  },
  "kernelspec": {
   "display_name": "Python 3 (ipykernel)",
   "language": "python",
   "name": "python3"
  },
  "language_info": {
   "codemirror_mode": {
    "name": "ipython",
    "version": 3
   },
   "file_extension": ".py",
   "mimetype": "text/x-python",
   "name": "python",
   "nbconvert_exporter": "python",
   "pygments_lexer": "ipython3",
   "version": "3.10.1"
  }
 },
 "nbformat": 4,
 "nbformat_minor": 1
}

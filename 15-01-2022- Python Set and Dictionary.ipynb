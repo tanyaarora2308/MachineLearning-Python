{
 "cells": [
  {
   "cell_type": "code",
   "execution_count": 1,
   "metadata": {
    "execution": {
     "iopub.execute_input": "2022-04-15T17:59:57.200265Z",
     "iopub.status.busy": "2022-04-15T17:59:57.199744Z",
     "iopub.status.idle": "2022-04-15T17:59:57.207382Z",
     "shell.execute_reply": "2022-04-15T17:59:57.206699Z",
     "shell.execute_reply.started": "2022-04-15T17:59:57.200219Z"
    }
   },
   "outputs": [
    {
     "data": {
      "text/plain": [
       "{1, 2, 3, False, 'abc', 'adf'}"
      ]
     },
     "execution_count": 1,
     "metadata": {},
     "output_type": "execute_result"
    }
   ],
   "source": [
    "set1={\"adf\",1,2,3,True,False,\"abc\"}\n",
    "set1"
   ]
  },
  {
   "cell_type": "code",
   "execution_count": 2,
   "metadata": {
    "execution": {
     "iopub.execute_input": "2022-04-15T18:00:54.644235Z",
     "iopub.status.busy": "2022-04-15T18:00:54.643233Z",
     "iopub.status.idle": "2022-04-15T18:00:54.650134Z",
     "shell.execute_reply": "2022-04-15T18:00:54.649283Z",
     "shell.execute_reply.started": "2022-04-15T18:00:54.644189Z"
    }
   },
   "outputs": [
    {
     "data": {
      "text/plain": [
       "{1, 2, 3, 5, 'abd', 'bmw', 'jkl'}"
      ]
     },
     "execution_count": 2,
     "metadata": {},
     "output_type": "execute_result"
    }
   ],
   "source": [
    "set2=set((\"jkl\",\"bmw\",\"abd\",1,5,3,2))\n",
    "set2"
   ]
  },
  {
   "cell_type": "code",
   "execution_count": 3,
   "metadata": {
    "execution": {
     "iopub.execute_input": "2022-04-15T18:01:14.092755Z",
     "iopub.status.busy": "2022-04-15T18:01:14.092217Z",
     "iopub.status.idle": "2022-04-15T18:01:14.097225Z",
     "shell.execute_reply": "2022-04-15T18:01:14.096449Z",
     "shell.execute_reply.started": "2022-04-15T18:01:14.092717Z"
    }
   },
   "outputs": [
    {
     "name": "stdout",
     "output_type": "stream",
     "text": [
      "False\n",
      "1\n",
      "2\n",
      "3\n",
      "abc\n",
      "adf\n"
     ]
    }
   ],
   "source": [
    "for i in set1:\n",
    "    print(i)"
   ]
  },
  {
   "cell_type": "code",
   "execution_count": 5,
   "metadata": {},
   "outputs": [
    {
     "data": {
      "text/plain": [
       "{1, 2, 3, 5, 'abd', 'bmw', 'jkl'}"
      ]
     },
     "execution_count": 5,
     "metadata": {},
     "output_type": "execute_result"
    }
   ],
   "source": [
    "set2.add(True)\n",
    "set2"
   ]
  },
  {
   "cell_type": "code",
   "execution_count": 6,
   "metadata": {
    "execution": {
     "iopub.execute_input": "2022-04-15T18:01:41.287675Z",
     "iopub.status.busy": "2022-04-15T18:01:41.287344Z",
     "iopub.status.idle": "2022-04-15T18:01:41.293939Z",
     "shell.execute_reply": "2022-04-15T18:01:41.293167Z",
     "shell.execute_reply.started": "2022-04-15T18:01:41.287638Z"
    }
   },
   "outputs": [
    {
     "name": "stdout",
     "output_type": "stream",
     "text": [
      "{False, 1, 2, 3, 'abc', 'adf'}\n",
      "{1, 2, 'bmw', 3, 5, 'abd', 'jkl'}\n",
      "{False, 1, 2, 3, 'abc', 'bmw', 5, 'abd', 'adf', 'jkl'}\n",
      "{1, 2, 'bmw', 3, 5, 'abd', 'jkl'}\n"
     ]
    }
   ],
   "source": [
    "print(set1)\n",
    "print(set2)\n",
    "set1.update(set2)\n",
    "print(set1)\n",
    "print(set2)"
   ]
  },
  {
   "cell_type": "code",
   "execution_count": 7,
   "metadata": {
    "execution": {
     "iopub.execute_input": "2022-04-15T18:02:42.064032Z",
     "iopub.status.busy": "2022-04-15T18:02:42.063110Z",
     "iopub.status.idle": "2022-04-15T18:02:42.069105Z",
     "shell.execute_reply": "2022-04-15T18:02:42.068136Z",
     "shell.execute_reply.started": "2022-04-15T18:02:42.063970Z"
    }
   },
   "outputs": [
    {
     "name": "stdout",
     "output_type": "stream",
     "text": [
      "{1, 2, 'bmw', 3, 5, 'abd', 'gfg', 'jkl', 'smh'}\n"
     ]
    }
   ],
   "source": [
    "list1=[\"gfg\",\"smh\"]\n",
    "set2.update(list1)\n",
    "print(set2)"
   ]
  },
  {
   "cell_type": "code",
   "execution_count": 8,
   "metadata": {
    "execution": {
     "iopub.execute_input": "2022-04-15T18:03:29.935430Z",
     "iopub.status.busy": "2022-04-15T18:03:29.934926Z",
     "iopub.status.idle": "2022-04-15T18:03:29.940984Z",
     "shell.execute_reply": "2022-04-15T18:03:29.940415Z",
     "shell.execute_reply.started": "2022-04-15T18:03:29.935391Z"
    }
   },
   "outputs": [
    {
     "data": {
      "text/plain": [
       "{1, 2, 3, 5, 'abd', 'bmw', 'gfg', 'smh'}"
      ]
     },
     "execution_count": 8,
     "metadata": {},
     "output_type": "execute_result"
    }
   ],
   "source": [
    "set2.remove(\"jkl\")\n",
    "set2"
   ]
  },
  {
   "cell_type": "code",
   "execution_count": 9,
   "metadata": {
    "execution": {
     "iopub.execute_input": "2022-04-15T18:03:55.773976Z",
     "iopub.status.busy": "2022-04-15T18:03:55.773476Z",
     "iopub.status.idle": "2022-04-15T18:03:55.779238Z",
     "shell.execute_reply": "2022-04-15T18:03:55.778717Z",
     "shell.execute_reply.started": "2022-04-15T18:03:55.773922Z"
    }
   },
   "outputs": [
    {
     "data": {
      "text/plain": [
       "{1, 2, 3, 5, 'bmw', 'gfg', 'smh'}"
      ]
     },
     "execution_count": 9,
     "metadata": {},
     "output_type": "execute_result"
    }
   ],
   "source": [
    "set2.discard(\"abd\")\n",
    "set2"
   ]
  },
  {
   "cell_type": "code",
   "execution_count": 10,
   "metadata": {
    "execution": {
     "iopub.execute_input": "2022-04-15T18:07:35.751721Z",
     "iopub.status.busy": "2022-04-15T18:07:35.750923Z",
     "iopub.status.idle": "2022-04-15T18:07:35.757452Z",
     "shell.execute_reply": "2022-04-15T18:07:35.756625Z",
     "shell.execute_reply.started": "2022-04-15T18:07:35.751678Z"
    }
   },
   "outputs": [
    {
     "data": {
      "text/plain": [
       "set()"
      ]
     },
     "execution_count": 10,
     "metadata": {},
     "output_type": "execute_result"
    }
   ],
   "source": [
    "set2.clear()\n",
    "set2"
   ]
  },
  {
   "cell_type": "code",
   "execution_count": 11,
   "metadata": {
    "execution": {
     "iopub.execute_input": "2022-04-15T18:07:53.300959Z",
     "iopub.status.busy": "2022-04-15T18:07:53.300318Z",
     "iopub.status.idle": "2022-04-15T18:07:53.305485Z",
     "shell.execute_reply": "2022-04-15T18:07:53.304677Z",
     "shell.execute_reply.started": "2022-04-15T18:07:53.300912Z"
    }
   },
   "outputs": [],
   "source": [
    "del set2"
   ]
  },
  {
   "cell_type": "code",
   "execution_count": 12,
   "metadata": {
    "execution": {
     "iopub.execute_input": "2022-04-15T18:08:32.302190Z",
     "iopub.status.busy": "2022-04-15T18:08:32.301456Z",
     "iopub.status.idle": "2022-04-15T18:08:32.306004Z",
     "shell.execute_reply": "2022-04-15T18:08:32.305146Z",
     "shell.execute_reply.started": "2022-04-15T18:08:32.302153Z"
    }
   },
   "outputs": [],
   "source": [
    "set2={\"jkl\",\"bnm\",\"abd\",1,5,3,2}"
   ]
  },
  {
   "cell_type": "code",
   "execution_count": 13,
   "metadata": {
    "execution": {
     "iopub.execute_input": "2022-04-15T18:08:40.209962Z",
     "iopub.status.busy": "2022-04-15T18:08:40.209549Z",
     "iopub.status.idle": "2022-04-15T18:08:40.215918Z",
     "shell.execute_reply": "2022-04-15T18:08:40.215057Z",
     "shell.execute_reply.started": "2022-04-15T18:08:40.209931Z"
    }
   },
   "outputs": [
    {
     "data": {
      "text/plain": [
       "{1, 2, 3, 5, 'abd', 'bnm', 'jkl'}"
      ]
     },
     "execution_count": 13,
     "metadata": {},
     "output_type": "execute_result"
    }
   ],
   "source": [
    "set2"
   ]
  },
  {
   "cell_type": "code",
   "execution_count": 14,
   "metadata": {
    "execution": {
     "iopub.execute_input": "2022-04-15T18:09:43.197870Z",
     "iopub.status.busy": "2022-04-15T18:09:43.197560Z",
     "iopub.status.idle": "2022-04-15T18:09:43.205207Z",
     "shell.execute_reply": "2022-04-15T18:09:43.204187Z",
     "shell.execute_reply.started": "2022-04-15T18:09:43.197838Z"
    }
   },
   "outputs": [
    {
     "name": "stdout",
     "output_type": "stream",
     "text": [
      "{False, 1, 2, 3, 'abc', 'bmw', 5, 'abd', 'adf', 'jkl'}\n",
      "{1, 2, 3, 'bnm', 5, 'abd', 'jkl'}\n",
      "{False, 1, 2, 3, 'abc', 'bmw', 5, 'abd', 'bnm', 'adf', 'jkl'}\n"
     ]
    }
   ],
   "source": [
    "print(set1)\n",
    "print(set2)\n",
    "set3=set1.union(set2)\n",
    "print(set3)"
   ]
  },
  {
   "cell_type": "code",
   "execution_count": 15,
   "metadata": {
    "execution": {
     "iopub.execute_input": "2022-04-15T18:10:15.513822Z",
     "iopub.status.busy": "2022-04-15T18:10:15.513164Z",
     "iopub.status.idle": "2022-04-15T18:10:15.518903Z",
     "shell.execute_reply": "2022-04-15T18:10:15.518379Z",
     "shell.execute_reply.started": "2022-04-15T18:10:15.513780Z"
    }
   },
   "outputs": [
    {
     "data": {
      "text/plain": [
       "{1, 2, 3, 5, 'abd', 'jkl'}"
      ]
     },
     "execution_count": 15,
     "metadata": {},
     "output_type": "execute_result"
    }
   ],
   "source": [
    "set4=set1.intersection(set2)\n",
    "set4"
   ]
  },
  {
   "cell_type": "code",
   "execution_count": 16,
   "metadata": {
    "execution": {
     "iopub.execute_input": "2022-04-15T18:11:02.145018Z",
     "iopub.status.busy": "2022-04-15T18:11:02.143935Z",
     "iopub.status.idle": "2022-04-15T18:11:02.150042Z",
     "shell.execute_reply": "2022-04-15T18:11:02.149256Z",
     "shell.execute_reply.started": "2022-04-15T18:11:02.144967Z"
    }
   },
   "outputs": [
    {
     "name": "stdout",
     "output_type": "stream",
     "text": [
      "{False, 1, 2, 3, 'abc', 'bmw', 5, 'abd', 'adf', 'jkl'}\n",
      "{1, 2, 3, 'bnm', 5, 'abd', 'jkl'}\n",
      "{1, 2, 3, 5, 'abd', 'jkl'}\n",
      "{1, 2, 3, 'bnm', 5, 'abd', 'jkl'}\n"
     ]
    }
   ],
   "source": [
    "print(set1)\n",
    "print(set2)\n",
    "set1.intersection_update(set2)\n",
    "print(set1)\n",
    "print(set2)"
   ]
  },
  {
   "cell_type": "code",
   "execution_count": 17,
   "metadata": {
    "execution": {
     "iopub.execute_input": "2022-04-15T18:11:28.541719Z",
     "iopub.status.busy": "2022-04-15T18:11:28.541073Z",
     "iopub.status.idle": "2022-04-15T18:11:28.547520Z",
     "shell.execute_reply": "2022-04-15T18:11:28.546633Z",
     "shell.execute_reply.started": "2022-04-15T18:11:28.541675Z"
    }
   },
   "outputs": [
    {
     "data": {
      "text/plain": [
       "{'bnm'}"
      ]
     },
     "execution_count": 17,
     "metadata": {},
     "output_type": "execute_result"
    }
   ],
   "source": [
    "set5=set1.symmetric_difference(set2)\n",
    "set5"
   ]
  },
  {
   "cell_type": "code",
   "execution_count": 18,
   "metadata": {
    "execution": {
     "iopub.execute_input": "2022-04-15T18:12:36.412928Z",
     "iopub.status.busy": "2022-04-15T18:12:36.412602Z",
     "iopub.status.idle": "2022-04-15T18:12:36.418956Z",
     "shell.execute_reply": "2022-04-15T18:12:36.418389Z",
     "shell.execute_reply.started": "2022-04-15T18:12:36.412893Z"
    }
   },
   "outputs": [
    {
     "name": "stdout",
     "output_type": "stream",
     "text": [
      "{1, 2, 3, 5, 'abd', 'jkl'}\n",
      "{False, 1, 2, 3, 'abc', 'bmw', 5, 'abd', 'bnm', 'adf', 'jkl'}\n",
      "{False, 'abc', 'bmw', 'bnm', 'adf'}\n"
     ]
    }
   ],
   "source": [
    "print(set1)\n",
    "print(set3)\n",
    "set7=set1.symmetric_difference(set3)\n",
    "print(set7)"
   ]
  },
  {
   "cell_type": "code",
   "execution_count": 19,
   "metadata": {
    "execution": {
     "iopub.execute_input": "2022-04-15T18:13:06.608745Z",
     "iopub.status.busy": "2022-04-15T18:13:06.607852Z",
     "iopub.status.idle": "2022-04-15T18:13:06.615489Z",
     "shell.execute_reply": "2022-04-15T18:13:06.614641Z",
     "shell.execute_reply.started": "2022-04-15T18:13:06.608681Z"
    }
   },
   "outputs": [
    {
     "name": "stdout",
     "output_type": "stream",
     "text": [
      "{1, 2, 3, 5, 'abd', 'jkl'}\n",
      "{False, 1, 2, 3, 'abc', 'bmw', 5, 'abd', 'bnm', 'adf', 'jkl'}\n",
      "{1, 2, 3, 5, 'abd', 'jkl'}\n",
      "{False, 1, 2, 3, 'abc', 'bmw', 5, 'abd', 'bnm', 'adf', 'jkl'}\n"
     ]
    }
   ],
   "source": [
    "print(set1)\n",
    "print(set3)\n",
    "set1.intersection_update(set3)\n",
    "print(set1)\n",
    "print(set3)"
   ]
  },
  {
   "cell_type": "code",
   "execution_count": 20,
   "metadata": {},
   "outputs": [],
   "source": [
    "#Dictionary"
   ]
  },
  {
   "cell_type": "code",
   "execution_count": 21,
   "metadata": {
    "execution": {
     "iopub.execute_input": "2022-04-15T18:14:46.567545Z",
     "iopub.status.busy": "2022-04-15T18:14:46.566967Z",
     "iopub.status.idle": "2022-04-15T18:14:46.573218Z",
     "shell.execute_reply": "2022-04-15T18:14:46.572468Z",
     "shell.execute_reply.started": "2022-04-15T18:14:46.567508Z"
    }
   },
   "outputs": [
    {
     "data": {
      "text/plain": [
       "{'Name': 'Simran', 'Rollno': '1913127', 'Age': 21}"
      ]
     },
     "execution_count": 21,
     "metadata": {},
     "output_type": "execute_result"
    }
   ],
   "source": [
    "student1={\"Name\":\"Simran\", \"Rollno\":\"1913127\",\"Age\":21}\n",
    "student1"
   ]
  },
  {
   "cell_type": "code",
   "execution_count": 22,
   "metadata": {
    "execution": {
     "iopub.execute_input": "2022-04-15T18:16:22.002829Z",
     "iopub.status.busy": "2022-04-15T18:16:22.002173Z",
     "iopub.status.idle": "2022-04-15T18:16:22.013816Z",
     "shell.execute_reply": "2022-04-15T18:16:22.013023Z",
     "shell.execute_reply.started": "2022-04-15T18:16:22.002795Z"
    }
   },
   "outputs": [
    {
     "name": "stdout",
     "output_type": "stream",
     "text": [
      "Simran\n"
     ]
    }
   ],
   "source": [
    "print(student1[\"Name\"])"
   ]
  },
  {
   "cell_type": "code",
   "execution_count": 23,
   "metadata": {
    "execution": {
     "iopub.execute_input": "2022-04-15T18:16:36.999604Z",
     "iopub.status.busy": "2022-04-15T18:16:36.999152Z",
     "iopub.status.idle": "2022-04-15T18:16:37.004160Z",
     "shell.execute_reply": "2022-04-15T18:16:37.003596Z",
     "shell.execute_reply.started": "2022-04-15T18:16:36.999570Z"
    }
   },
   "outputs": [
    {
     "data": {
      "text/plain": [
       "'Simran'"
      ]
     },
     "execution_count": 23,
     "metadata": {},
     "output_type": "execute_result"
    }
   ],
   "source": [
    "x=student1[\"Name\"]\n",
    "x"
   ]
  },
  {
   "cell_type": "code",
   "execution_count": 24,
   "metadata": {
    "execution": {
     "iopub.execute_input": "2022-04-15T18:17:19.645126Z",
     "iopub.status.busy": "2022-04-15T18:17:19.644450Z",
     "iopub.status.idle": "2022-04-15T18:17:19.652569Z",
     "shell.execute_reply": "2022-04-15T18:17:19.651528Z",
     "shell.execute_reply.started": "2022-04-15T18:17:19.645077Z"
    }
   },
   "outputs": [
    {
     "data": {
      "text/plain": [
       "'Simran'"
      ]
     },
     "execution_count": 24,
     "metadata": {},
     "output_type": "execute_result"
    }
   ],
   "source": [
    "x=student1.get(\"Name\")\n",
    "x"
   ]
  },
  {
   "cell_type": "code",
   "execution_count": 25,
   "metadata": {
    "execution": {
     "iopub.execute_input": "2022-04-15T18:18:16.469546Z",
     "iopub.status.busy": "2022-04-15T18:18:16.469233Z",
     "iopub.status.idle": "2022-04-15T18:18:16.474908Z",
     "shell.execute_reply": "2022-04-15T18:18:16.474210Z",
     "shell.execute_reply.started": "2022-04-15T18:18:16.469513Z"
    }
   },
   "outputs": [
    {
     "data": {
      "text/plain": [
       "dict_keys(['Name', 'Rollno', 'Age'])"
      ]
     },
     "execution_count": 25,
     "metadata": {},
     "output_type": "execute_result"
    }
   ],
   "source": [
    "x=student1.keys()\n",
    "x"
   ]
  },
  {
   "cell_type": "code",
   "execution_count": 26,
   "metadata": {
    "execution": {
     "iopub.execute_input": "2022-04-15T18:19:00.789115Z",
     "iopub.status.busy": "2022-04-15T18:19:00.788266Z",
     "iopub.status.idle": "2022-04-15T18:19:00.793902Z",
     "shell.execute_reply": "2022-04-15T18:19:00.793390Z",
     "shell.execute_reply.started": "2022-04-15T18:19:00.789070Z"
    }
   },
   "outputs": [
    {
     "data": {
      "text/plain": [
       "dict_values(['Simran', '1913127', 21])"
      ]
     },
     "execution_count": 26,
     "metadata": {},
     "output_type": "execute_result"
    }
   ],
   "source": [
    "x=student1.values()\n",
    "x"
   ]
  },
  {
   "cell_type": "code",
   "execution_count": 27,
   "metadata": {
    "execution": {
     "iopub.execute_input": "2022-04-15T18:19:02.895531Z",
     "iopub.status.busy": "2022-04-15T18:19:02.894831Z",
     "iopub.status.idle": "2022-04-15T18:19:02.901341Z",
     "shell.execute_reply": "2022-04-15T18:19:02.900505Z",
     "shell.execute_reply.started": "2022-04-15T18:19:02.895490Z"
    }
   },
   "outputs": [
    {
     "data": {
      "text/plain": [
       "dict_items([('Name', 'Simran'), ('Rollno', '1913127'), ('Age', 21)])"
      ]
     },
     "execution_count": 27,
     "metadata": {},
     "output_type": "execute_result"
    }
   ],
   "source": [
    "x=student1.items()\n",
    "x"
   ]
  },
  {
   "cell_type": "code",
   "execution_count": 28,
   "metadata": {
    "execution": {
     "iopub.execute_input": "2022-04-15T18:19:20.644623Z",
     "iopub.status.busy": "2022-04-15T18:19:20.643834Z",
     "iopub.status.idle": "2022-04-15T18:19:20.651019Z",
     "shell.execute_reply": "2022-04-15T18:19:20.649826Z",
     "shell.execute_reply.started": "2022-04-15T18:19:20.644573Z"
    }
   },
   "outputs": [
    {
     "name": "stdout",
     "output_type": "stream",
     "text": [
      "Name\n",
      "Rollno\n",
      "Age\n"
     ]
    }
   ],
   "source": [
    "for i in student1:\n",
    "    print(i)"
   ]
  },
  {
   "cell_type": "code",
   "execution_count": 29,
   "metadata": {
    "execution": {
     "iopub.execute_input": "2022-04-15T18:20:03.307217Z",
     "iopub.status.busy": "2022-04-15T18:20:03.306962Z",
     "iopub.status.idle": "2022-04-15T18:20:03.313016Z",
     "shell.execute_reply": "2022-04-15T18:20:03.312034Z",
     "shell.execute_reply.started": "2022-04-15T18:20:03.307191Z"
    }
   },
   "outputs": [
    {
     "name": "stdout",
     "output_type": "stream",
     "text": [
      "Name Simran\n",
      "Rollno 1913127\n",
      "Age 21\n"
     ]
    }
   ],
   "source": [
    "for i, j in student1.items():\n",
    "    print(i,j)"
   ]
  },
  {
   "cell_type": "code",
   "execution_count": 30,
   "metadata": {
    "execution": {
     "iopub.execute_input": "2022-04-15T18:20:25.268273Z",
     "iopub.status.busy": "2022-04-15T18:20:25.267572Z",
     "iopub.status.idle": "2022-04-15T18:20:25.274293Z",
     "shell.execute_reply": "2022-04-15T18:20:25.273550Z",
     "shell.execute_reply.started": "2022-04-15T18:20:25.268219Z"
    }
   },
   "outputs": [
    {
     "data": {
      "text/plain": [
       "{'Name': 'Simran', 'Rollno': '1913127', 'Age': 20}"
      ]
     },
     "execution_count": 30,
     "metadata": {},
     "output_type": "execute_result"
    }
   ],
   "source": [
    "student1[\"Age\"]=20\n",
    "student1"
   ]
  },
  {
   "cell_type": "code",
   "execution_count": 31,
   "metadata": {
    "execution": {
     "iopub.execute_input": "2022-04-15T18:24:13.116533Z",
     "iopub.status.busy": "2022-04-15T18:24:13.116230Z",
     "iopub.status.idle": "2022-04-15T18:24:13.121798Z",
     "shell.execute_reply": "2022-04-15T18:24:13.121215Z",
     "shell.execute_reply.started": "2022-04-15T18:24:13.116505Z"
    }
   },
   "outputs": [
    {
     "data": {
      "text/plain": [
       "{'Name': 'Simran', 'Rollno': '1913127', 'Age': 21, 'City': 'Amritsar'}"
      ]
     },
     "execution_count": 31,
     "metadata": {},
     "output_type": "execute_result"
    }
   ],
   "source": [
    "student1.update({\"Age\":21 , \"City\" : \"Amritsar\"})\n",
    "student1"
   ]
  },
  {
   "cell_type": "code",
   "execution_count": 32,
   "metadata": {
    "execution": {
     "iopub.execute_input": "2022-04-15T18:24:21.911759Z",
     "iopub.status.busy": "2022-04-15T18:24:21.911193Z",
     "iopub.status.idle": "2022-04-15T18:24:21.917040Z",
     "shell.execute_reply": "2022-04-15T18:24:21.916119Z",
     "shell.execute_reply.started": "2022-04-15T18:24:21.911722Z"
    }
   },
   "outputs": [
    {
     "data": {
      "text/plain": [
       "{'Name': 'Simran',\n",
       " 'Rollno': '1913127',\n",
       " 'Age': 21,\n",
       " 'City': 'Amritsar',\n",
       " 'Paper': 'AI & ML'}"
      ]
     },
     "execution_count": 32,
     "metadata": {},
     "output_type": "execute_result"
    }
   ],
   "source": [
    "student1[\"Paper\"]=\"AI & ML\"\n",
    "student1"
   ]
  },
  {
   "cell_type": "code",
   "execution_count": 33,
   "metadata": {
    "execution": {
     "iopub.execute_input": "2022-04-15T18:24:49.366541Z",
     "iopub.status.busy": "2022-04-15T18:24:49.366207Z",
     "iopub.status.idle": "2022-04-15T18:24:49.372627Z",
     "shell.execute_reply": "2022-04-15T18:24:49.372023Z",
     "shell.execute_reply.started": "2022-04-15T18:24:49.366504Z"
    }
   },
   "outputs": [
    {
     "data": {
      "text/plain": [
       "{'Name': 'Simran',\n",
       " 'Rollno': '1913127',\n",
       " 'Age': 21,\n",
       " 'City': 'Delhi',\n",
       " 'Paper': 'AI & ML'}"
      ]
     },
     "execution_count": 33,
     "metadata": {},
     "output_type": "execute_result"
    }
   ],
   "source": [
    "student1.update({\"City\" : \"Amritsar\",\"City\" : \"Delhi\"})\n",
    "student1"
   ]
  },
  {
   "cell_type": "code",
   "execution_count": 34,
   "metadata": {
    "execution": {
     "iopub.execute_input": "2022-04-15T18:25:14.949783Z",
     "iopub.status.busy": "2022-04-15T18:25:14.948943Z",
     "iopub.status.idle": "2022-04-15T18:25:14.957346Z",
     "shell.execute_reply": "2022-04-15T18:25:14.956502Z",
     "shell.execute_reply.started": "2022-04-15T18:25:14.949728Z"
    }
   },
   "outputs": [
    {
     "data": {
      "text/plain": [
       "{'Name': 'Simran',\n",
       " 'Rollno': '1913127',\n",
       " 'Age': 21,\n",
       " 'City': 'Delhi',\n",
       " 'Paper': 'AI & ML',\n",
       " 'City1': 'Amritsar',\n",
       " 'City2': 'Delhi'}"
      ]
     },
     "execution_count": 34,
     "metadata": {},
     "output_type": "execute_result"
    }
   ],
   "source": [
    "student1.update({\"City1\" : \"Amritsar\",\"City2\" : \"Delhi\"})\n",
    "student1"
   ]
  },
  {
   "cell_type": "code",
   "execution_count": 35,
   "metadata": {
    "execution": {
     "iopub.execute_input": "2022-04-15T18:26:00.661769Z",
     "iopub.status.busy": "2022-04-15T18:26:00.660969Z",
     "iopub.status.idle": "2022-04-15T18:26:00.667652Z",
     "shell.execute_reply": "2022-04-15T18:26:00.667022Z",
     "shell.execute_reply.started": "2022-04-15T18:26:00.661724Z"
    }
   },
   "outputs": [
    {
     "data": {
      "text/plain": [
       "{'Name': 'Simran',\n",
       " 'Rollno': '1913127',\n",
       " 'Age': 21,\n",
       " 'City': 'Delhi',\n",
       " 'Paper': 'AI & ML',\n",
       " 'City2': 'Delhi'}"
      ]
     },
     "execution_count": 35,
     "metadata": {},
     "output_type": "execute_result"
    }
   ],
   "source": [
    "student1.pop(\"City1\")\n",
    "student1"
   ]
  },
  {
   "cell_type": "code",
   "execution_count": 36,
   "metadata": {
    "execution": {
     "iopub.execute_input": "2022-04-15T18:26:22.408994Z",
     "iopub.status.busy": "2022-04-15T18:26:22.408166Z",
     "iopub.status.idle": "2022-04-15T18:26:22.415419Z",
     "shell.execute_reply": "2022-04-15T18:26:22.414824Z",
     "shell.execute_reply.started": "2022-04-15T18:26:22.408943Z"
    }
   },
   "outputs": [
    {
     "data": {
      "text/plain": [
       "{'Name': 'Simran',\n",
       " 'Rollno': '1913127',\n",
       " 'Age': 21,\n",
       " 'City': 'Delhi',\n",
       " 'Paper': 'AI & ML'}"
      ]
     },
     "execution_count": 36,
     "metadata": {},
     "output_type": "execute_result"
    }
   ],
   "source": [
    "student1.popitem()\n",
    "student1"
   ]
  },
  {
   "cell_type": "code",
   "execution_count": 37,
   "metadata": {
    "execution": {
     "iopub.execute_input": "2022-04-15T18:26:52.840683Z",
     "iopub.status.busy": "2022-04-15T18:26:52.840349Z",
     "iopub.status.idle": "2022-04-15T18:26:52.846046Z",
     "shell.execute_reply": "2022-04-15T18:26:52.845443Z",
     "shell.execute_reply.started": "2022-04-15T18:26:52.840648Z"
    }
   },
   "outputs": [
    {
     "data": {
      "text/plain": [
       "{'Name': 'Simran', 'Rollno': '1913127', 'Age': 21, 'City': 'Delhi'}"
      ]
     },
     "execution_count": 37,
     "metadata": {},
     "output_type": "execute_result"
    }
   ],
   "source": [
    "del student1[\"Paper\"]\n",
    "student1"
   ]
  },
  {
   "cell_type": "code",
   "execution_count": 38,
   "metadata": {
    "execution": {
     "iopub.execute_input": "2022-04-15T18:27:06.208318Z",
     "iopub.status.busy": "2022-04-15T18:27:06.208034Z",
     "iopub.status.idle": "2022-04-15T18:27:06.212835Z",
     "shell.execute_reply": "2022-04-15T18:27:06.212021Z",
     "shell.execute_reply.started": "2022-04-15T18:27:06.208288Z"
    }
   },
   "outputs": [],
   "source": [
    "del student1"
   ]
  },
  {
   "cell_type": "code",
   "execution_count": 39,
   "metadata": {
    "execution": {
     "iopub.execute_input": "2022-04-15T18:27:17.370074Z",
     "iopub.status.busy": "2022-04-15T18:27:17.369792Z",
     "iopub.status.idle": "2022-04-15T18:27:17.461992Z",
     "shell.execute_reply": "2022-04-15T18:27:17.460823Z",
     "shell.execute_reply.started": "2022-04-15T18:27:17.370041Z"
    }
   },
   "outputs": [
    {
     "ename": "NameError",
     "evalue": "name 'student1' is not defined",
     "output_type": "error",
     "traceback": [
      "\u001b[1;31m---------------------------------------------------------------------------\u001b[0m",
      "\u001b[1;31mNameError\u001b[0m                                 Traceback (most recent call last)",
      "Input \u001b[1;32mIn [39]\u001b[0m, in \u001b[0;36m<module>\u001b[1;34m\u001b[0m\n\u001b[1;32m----> 1\u001b[0m \u001b[43mstudent1\u001b[49m\n",
      "\u001b[1;31mNameError\u001b[0m: name 'student1' is not defined"
     ]
    }
   ],
   "source": [
    "student1"
   ]
  },
  {
   "cell_type": "code",
   "execution_count": 40,
   "metadata": {
    "execution": {
     "iopub.execute_input": "2022-04-15T18:31:40.422727Z",
     "iopub.status.busy": "2022-04-15T18:31:40.422259Z",
     "iopub.status.idle": "2022-04-15T18:31:40.428138Z",
     "shell.execute_reply": "2022-04-15T18:31:40.427640Z",
     "shell.execute_reply.started": "2022-04-15T18:31:40.422682Z"
    }
   },
   "outputs": [
    {
     "data": {
      "text/plain": [
       "{'student1': {'Name': 'simran', 'Rollno': '1913127', 'Age': 21},\n",
       " 'student2': {'Name': 'bani', 'Rollno': '9876543', 'Age': 16},\n",
       " 'student3': {'Name': 'kirat', 'Rollno': '1234567', 'Age': 8}}"
      ]
     },
     "execution_count": 40,
     "metadata": {},
     "output_type": "execute_result"
    }
   ],
   "source": [
    "studentBatchC={\"student1\":{\"Name\":\"simran\",\"Rollno\":\"1913127\",\"Age\":21},\"student2\":{\"Name\":\"bani\",\"Rollno\":\"9876543\",\"Age\":16},\"student3\":{\"Name\":\"kirat\",\"Rollno\":\"1234567\",\"Age\":8}}\n",
    "studentBatchC"
   ]
  },
  {
   "cell_type": "code",
   "execution_count": 41,
   "metadata": {
    "execution": {
     "iopub.execute_input": "2022-04-15T18:32:17.764660Z",
     "iopub.status.busy": "2022-04-15T18:32:17.764162Z",
     "iopub.status.idle": "2022-04-15T18:32:17.769987Z",
     "shell.execute_reply": "2022-04-15T18:32:17.769122Z",
     "shell.execute_reply.started": "2022-04-15T18:32:17.764613Z"
    }
   },
   "outputs": [
    {
     "name": "stdout",
     "output_type": "stream",
     "text": [
      "student1 {'Name': 'simran', 'Rollno': '1913127', 'Age': 21}\n",
      "student2 {'Name': 'bani', 'Rollno': '9876543', 'Age': 16}\n",
      "student3 {'Name': 'kirat', 'Rollno': '1234567', 'Age': 8}\n"
     ]
    }
   ],
   "source": [
    "for i,j in studentBatchC.items():\n",
    "    print(i,j)"
   ]
  },
  {
   "cell_type": "code",
   "execution_count": 42,
   "metadata": {
    "execution": {
     "iopub.execute_input": "2022-04-15T18:34:16.589015Z",
     "iopub.status.busy": "2022-04-15T18:34:16.588706Z",
     "iopub.status.idle": "2022-04-15T18:34:16.595888Z",
     "shell.execute_reply": "2022-04-15T18:34:16.595300Z",
     "shell.execute_reply.started": "2022-04-15T18:34:16.588984Z"
    }
   },
   "outputs": [
    {
     "data": {
      "text/plain": [
       "{'Name': 'Harleen', 'Age': 46}"
      ]
     },
     "execution_count": 42,
     "metadata": {},
     "output_type": "execute_result"
    }
   ],
   "source": [
    "student1={\"Name\":\"Harleen\",\"Age\":46}\n",
    "student5=student1.copy()\n",
    "student5"
   ]
  },
  {
   "cell_type": "code",
   "execution_count": 43,
   "metadata": {
    "execution": {
     "iopub.execute_input": "2022-04-15T18:34:42.260681Z",
     "iopub.status.busy": "2022-04-15T18:34:42.260049Z",
     "iopub.status.idle": "2022-04-15T18:34:42.265808Z",
     "shell.execute_reply": "2022-04-15T18:34:42.264947Z",
     "shell.execute_reply.started": "2022-04-15T18:34:42.260648Z"
    }
   },
   "outputs": [
    {
     "data": {
      "text/plain": [
       "{'Name': 'Harleen', 'Age': 46}"
      ]
     },
     "execution_count": 43,
     "metadata": {},
     "output_type": "execute_result"
    }
   ],
   "source": [
    "student6=dict(student1)\n",
    "student6"
   ]
  },
  {
   "cell_type": "code",
   "execution_count": 44,
   "metadata": {
    "execution": {
     "iopub.execute_input": "2022-04-15T18:35:08.567659Z",
     "iopub.status.busy": "2022-04-15T18:35:08.567391Z",
     "iopub.status.idle": "2022-04-15T18:35:08.573244Z",
     "shell.execute_reply": "2022-04-15T18:35:08.572401Z",
     "shell.execute_reply.started": "2022-04-15T18:35:08.567631Z"
    }
   },
   "outputs": [
    {
     "data": {
      "text/plain": [
       "{'student1': {'Name': 'simran', 'Rollno': '1913127', 'Age': 21},\n",
       " 'student2': {'Name': 'bani', 'Rollno': '9876543', 'Age': 16},\n",
       " 'student3': {'Name': 'kirat', 'Rollno': '1234567', 'Age': 8}}"
      ]
     },
     "execution_count": 44,
     "metadata": {},
     "output_type": "execute_result"
    }
   ],
   "source": [
    "student7=dict(studentBatchC)\n",
    "student7"
   ]
  },
  {
   "cell_type": "code",
   "execution_count": null,
   "metadata": {},
   "outputs": [],
   "source": []
  },
  {
   "cell_type": "code",
   "execution_count": null,
   "metadata": {},
   "outputs": [],
   "source": []
  }
 ],
 "metadata": {
  "kernelspec": {
   "display_name": "Python 3 (ipykernel)",
   "language": "python",
   "name": "python3"
  },
  "language_info": {
   "codemirror_mode": {
    "name": "ipython",
    "version": 3
   },
   "file_extension": ".py",
   "mimetype": "text/x-python",
   "name": "python",
   "nbconvert_exporter": "python",
   "pygments_lexer": "ipython3",
   "version": "3.10.1"
  }
 },
 "nbformat": 4,
 "nbformat_minor": 4
}

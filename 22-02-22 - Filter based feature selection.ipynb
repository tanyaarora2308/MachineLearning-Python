{
 "cells": [
  {
   "cell_type": "code",
   "execution_count": null,
   "metadata": {
    "_cell_guid": "b1076dfc-b9ad-4769-8c92-a6c4dae69d19",
    "_uuid": "8f2839f25d086af736a60e9eeb907d3b93b6e0e5",
    "execution": {
     "iopub.execute_input": "2022-04-16T02:27:35.810041Z",
     "iopub.status.busy": "2022-04-16T02:27:35.80893Z",
     "iopub.status.idle": "2022-04-16T02:27:35.843696Z",
     "shell.execute_reply": "2022-04-16T02:27:35.842967Z",
     "shell.execute_reply.started": "2022-04-16T02:27:35.809947Z"
    }
   },
   "outputs": [],
   "source": [
    "# This Python 3 environment comes with many helpful analytics libraries installed\n",
    "# It is defined by the kaggle/python Docker image: https://github.com/kaggle/docker-python\n",
    "# For example, here's several helpful packages to load\n",
    "\n",
    "import numpy as np # linear algebra\n",
    "import pandas as pd # data processing, CSV file I/O (e.g. pd.read_csv)\n",
    "\n",
    "# Input data files are available in the read-only \"../input/\" directory\n",
    "# For example, running this (by clicking run or pressing Shift+Enter) will list all files under the input directory\n",
    "\n",
    "import os\n",
    "for dirname, _, filenames in os.walk('/kaggle/input'):\n",
    "    for filename in filenames:\n",
    "        print(os.path.join(dirname, filename))\n",
    "\n",
    "# You can write up to 20GB to the current directory (/kaggle/working/) that gets preserved as output when you create a version using \"Save & Run All\" \n",
    "# You can also write temporary files to /kaggle/temp/, but they won't be saved outside of the current session"
   ]
  },
  {
   "cell_type": "code",
   "execution_count": null,
   "metadata": {
    "execution": {
     "iopub.execute_input": "2022-04-16T02:27:35.845495Z",
     "iopub.status.busy": "2022-04-16T02:27:35.845175Z",
     "iopub.status.idle": "2022-04-16T02:27:35.849302Z",
     "shell.execute_reply": "2022-04-16T02:27:35.848383Z",
     "shell.execute_reply.started": "2022-04-16T02:27:35.845468Z"
    }
   },
   "outputs": [],
   "source": [
    "# Feature Selection - 2 ways \n",
    "# 1. Correlation technique\n",
    "# 2. Selection Based Technique"
   ]
  },
  {
   "cell_type": "code",
   "execution_count": null,
   "metadata": {
    "execution": {
     "iopub.execute_input": "2022-04-16T02:27:35.851409Z",
     "iopub.status.busy": "2022-04-16T02:27:35.850439Z",
     "iopub.status.idle": "2022-04-16T02:27:37.084727Z",
     "shell.execute_reply": "2022-04-16T02:27:37.083828Z",
     "shell.execute_reply.started": "2022-04-16T02:27:35.851336Z"
    }
   },
   "outputs": [],
   "source": [
    "from sklearn.datasets import load_iris\n",
    "data = load_iris()\n",
    "x, y = load_iris(return_X_y = True)"
   ]
  },
  {
   "cell_type": "code",
   "execution_count": null,
   "metadata": {
    "execution": {
     "iopub.execute_input": "2022-04-16T02:27:37.087079Z",
     "iopub.status.busy": "2022-04-16T02:27:37.086872Z",
     "iopub.status.idle": "2022-04-16T02:27:37.127279Z",
     "shell.execute_reply": "2022-04-16T02:27:37.126454Z",
     "shell.execute_reply.started": "2022-04-16T02:27:37.087052Z"
    }
   },
   "outputs": [],
   "source": [
    "import pandas as pd\n",
    "df = pd.DataFrame(x)\n",
    "df.columns = data.feature_names\n",
    "df['target'] = y\n",
    "df"
   ]
  },
  {
   "cell_type": "code",
   "execution_count": null,
   "metadata": {
    "execution": {
     "iopub.execute_input": "2022-04-16T02:27:37.128931Z",
     "iopub.status.busy": "2022-04-16T02:27:37.128726Z",
     "iopub.status.idle": "2022-04-16T02:27:37.144703Z",
     "shell.execute_reply": "2022-04-16T02:27:37.144173Z",
     "shell.execute_reply.started": "2022-04-16T02:27:37.128906Z"
    }
   },
   "outputs": [],
   "source": [
    "# 1. using Correlation technique\n",
    "corr = df.corr(method='kendall')['target']\n",
    "corr"
   ]
  },
  {
   "cell_type": "code",
   "execution_count": null,
   "metadata": {
    "execution": {
     "iopub.execute_input": "2022-04-16T02:27:37.146527Z",
     "iopub.status.busy": "2022-04-16T02:27:37.145825Z",
     "iopub.status.idle": "2022-04-16T02:27:37.687237Z",
     "shell.execute_reply": "2022-04-16T02:27:37.686673Z",
     "shell.execute_reply.started": "2022-04-16T02:27:37.146459Z"
    }
   },
   "outputs": [],
   "source": [
    "import seaborn as sns\n",
    "sns.heatmap(df.corr(), annot=True)"
   ]
  },
  {
   "cell_type": "code",
   "execution_count": null,
   "metadata": {
    "execution": {
     "iopub.execute_input": "2022-04-16T02:27:37.688732Z",
     "iopub.status.busy": "2022-04-16T02:27:37.688455Z",
     "iopub.status.idle": "2022-04-16T02:27:37.693388Z",
     "shell.execute_reply": "2022-04-16T02:27:37.691758Z",
     "shell.execute_reply.started": "2022-04-16T02:27:37.688695Z"
    }
   },
   "outputs": [],
   "source": [
    "# as per the results of corr -> we can clearly see that the two most important features are : petal width and petal length\n",
    "\n",
    "# -----------------------------------End of correlation technique------------------------------------------------------------"
   ]
  },
  {
   "cell_type": "code",
   "execution_count": null,
   "metadata": {
    "execution": {
     "iopub.execute_input": "2022-04-16T02:27:37.694959Z",
     "iopub.status.busy": "2022-04-16T02:27:37.6947Z",
     "iopub.status.idle": "2022-04-16T02:27:37.708047Z",
     "shell.execute_reply": "2022-04-16T02:27:37.70703Z",
     "shell.execute_reply.started": "2022-04-16T02:27:37.694926Z"
    }
   },
   "outputs": [],
   "source": [
    "# 2. Selection Based Technique \n",
    "# - Select K Best"
   ]
  },
  {
   "cell_type": "code",
   "execution_count": null,
   "metadata": {
    "execution": {
     "iopub.execute_input": "2022-04-16T02:27:37.709353Z",
     "iopub.status.busy": "2022-04-16T02:27:37.709184Z",
     "iopub.status.idle": "2022-04-16T02:27:37.917452Z",
     "shell.execute_reply": "2022-04-16T02:27:37.916958Z",
     "shell.execute_reply.started": "2022-04-16T02:27:37.70933Z"
    }
   },
   "outputs": [],
   "source": [
    "from sklearn.feature_selection import SelectKBest, chi2, mutual_info_classif\n",
    "skb = SelectKBest(mutual_info_classif, k=2)\n",
    "skb"
   ]
  },
  {
   "cell_type": "code",
   "execution_count": null,
   "metadata": {
    "execution": {
     "iopub.execute_input": "2022-04-16T02:27:37.920915Z",
     "iopub.status.busy": "2022-04-16T02:27:37.919397Z",
     "iopub.status.idle": "2022-04-16T02:27:37.946805Z",
     "shell.execute_reply": "2022-04-16T02:27:37.946138Z",
     "shell.execute_reply.started": "2022-04-16T02:27:37.920846Z"
    }
   },
   "outputs": [],
   "source": [
    "# skb.fit(df.drop('target', axis=1), df.target)\n",
    "# skb.transform(x)\n",
    "skb.fit(x, y)\n",
    "skb.transform(x)"
   ]
  },
  {
   "cell_type": "code",
   "execution_count": null,
   "metadata": {
    "execution": {
     "iopub.execute_input": "2022-04-16T02:27:37.948416Z",
     "iopub.status.busy": "2022-04-16T02:27:37.948059Z",
     "iopub.status.idle": "2022-04-16T02:27:37.955534Z",
     "shell.execute_reply": "2022-04-16T02:27:37.954333Z",
     "shell.execute_reply.started": "2022-04-16T02:27:37.948381Z"
    }
   },
   "outputs": [],
   "source": [
    "columns=skb.get_support(indices=True)\n",
    "skb.get_feature_names_out()"
   ]
  },
  {
   "cell_type": "code",
   "execution_count": null,
   "metadata": {
    "execution": {
     "iopub.execute_input": "2022-04-16T02:27:37.957004Z",
     "iopub.status.busy": "2022-04-16T02:27:37.956793Z",
     "iopub.status.idle": "2022-04-16T02:27:37.978045Z",
     "shell.execute_reply": "2022-04-16T02:27:37.976979Z",
     "shell.execute_reply.started": "2022-04-16T02:27:37.956976Z"
    }
   },
   "outputs": [],
   "source": [
    "new_data = df.iloc[:, columns]\n",
    "new_data"
   ]
  },
  {
   "cell_type": "code",
   "execution_count": null,
   "metadata": {
    "execution": {
     "iopub.execute_input": "2022-04-16T02:27:37.97951Z",
     "iopub.status.busy": "2022-04-16T02:27:37.979317Z",
     "iopub.status.idle": "2022-04-16T02:27:37.995039Z",
     "shell.execute_reply": "2022-04-16T02:27:37.99421Z",
     "shell.execute_reply.started": "2022-04-16T02:27:37.979484Z"
    }
   },
   "outputs": [],
   "source": [
    "new_data['target'] = y\n",
    "new_data"
   ]
  }
 ],
 "metadata": {
  "kernelspec": {
   "display_name": "Python 3 (ipykernel)",
   "language": "python",
   "name": "python3"
  },
  "language_info": {
   "codemirror_mode": {
    "name": "ipython",
    "version": 3
   },
   "file_extension": ".py",
   "mimetype": "text/x-python",
   "name": "python",
   "nbconvert_exporter": "python",
   "pygments_lexer": "ipython3",
   "version": "3.10.1"
  }
 },
 "nbformat": 4,
 "nbformat_minor": 4
}

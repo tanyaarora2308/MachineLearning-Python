{
 "cells": [
  {
   "cell_type": "markdown",
   "metadata": {},
   "source": [
    "<h1> Lab Assignment 1 \n",
    "    "
   ]
  },
  {
   "cell_type": "code",
   "execution_count": 3,
   "metadata": {
    "scrolled": false
   },
   "outputs": [
    {
     "name": "stdout",
     "output_type": "stream",
     "text": [
      "9\n",
      "-1\n",
      "20\n",
      "8.6\n",
      "3\n",
      "8\n"
     ]
    }
   ],
   "source": [
    "print(4+5)\n",
    "print(4-5)\n",
    "print(4*5)\n",
    "print(43/5)\n",
    "print(43%5)\n",
    "print(43//5)"
   ]
  },
  {
   "cell_type": "code",
   "execution_count": 8,
   "metadata": {},
   "outputs": [
    {
     "name": "stdout",
     "output_type": "stream",
     "text": [
      "Not eligible to vote\n"
     ]
    }
   ],
   "source": [
    "age = 10\n",
    "if age >=18:\n",
    "    print(\"Eligible to vote\")\n",
    "else:\n",
    "    print(\"Not eligible to vote\")"
   ]
  },
  {
   "cell_type": "markdown",
   "metadata": {},
   "source": [
    "# Check\n",
    "    0-3 - Toddler\n",
    "    Above 3 - 12 - Kid\n",
    "    Above 12 - 19 - Teen\n",
    "    Above 19 - 30 - Young Adults\n",
    "    Above 30 - 50 - Adults\n",
    "    Above 50 - 60 - Mature\n",
    "    Above 60 - 80 - Senior Citizens\n",
    "    Above 80 - Super Senior Citizens"
   ]
  },
  {
   "cell_type": "code",
   "execution_count": 14,
   "metadata": {},
   "outputs": [
    {
     "name": "stdout",
     "output_type": "stream",
     "text": [
      "Enter age 45\n",
      "<class 'int'>\n",
      "Adult\n"
     ]
    }
   ],
   "source": [
    "age = input(\"Enter age \")\n",
    "age = int(age)\n",
    "print(type(age))\n",
    "if age <=3:\n",
    "    print(\"Toddler\")\n",
    "elif age > 3 and age <= 12:\n",
    "    print(\"Kid\")\n",
    "elif age > 12 and age <= 19:\n",
    "    print(\"Teen\")\n",
    "elif age > 19 and age <= 30:\n",
    "    print(\"Young Adult\")\n",
    "elif age > 30 and age < 50:\n",
    "    print(\"Adult\")\n",
    "elif age >= 50 and age < 60:\n",
    "    print(\"mature\")\n",
    "elif age >= 60 and age < 80:\n",
    "    print(\"Senior Citizens\")\n",
    "else:\n",
    "    print(\"Super Senior Citizens\")"
   ]
  },
  {
   "cell_type": "markdown",
   "metadata": {},
   "source": [
    "# Exercise 1\n",
    "    1. WAP to check is a number is dibvisible by 5\n",
    "    2. WAP to check is a number is even or odd\n",
    "    3. WAP to check if roots of a quatratic equation are real, real and equal or imaginary\n",
    "    4. WAP to print grade of a student \n",
    "        Less than 40 - NC\n",
    "        40 - Less than 50 - D\n",
    "        50 - Less than 60 - C\n",
    "        60 - Less than 70 - B\n",
    "        70 - Less than 80 - A\n",
    "        80 and Above - O\n",
    "    5. WAP print the Electricity Bill\n",
    "        Upto 200 - 0.5/unit\n",
    "        201 - 500 - 1/unit for units consumed above 200\n",
    "        501 - 1000 - 2.5/unit for units consumed above 500\n",
    "        1001 - 1500 - 3.5/unit for units consumed above 1000\n",
    "        1501 - 2500 - 5/unit for units consumed above 1500\n",
    "        Above 2500 - 10/unit for units consumed above 2500"
   ]
  },
  {
   "cell_type": "markdown",
   "metadata": {},
   "source": [
    "<h2> 1. WAP to check is a number is divisible by 5\n"
   ]
  },
  {
   "cell_type": "code",
   "execution_count": 1,
   "metadata": {},
   "outputs": [
    {
     "name": "stdout",
     "output_type": "stream",
     "text": [
      "450\n",
      "Divisible by 5\n"
     ]
    }
   ],
   "source": [
    "n=int(input())\n",
    "if (n%5 == 0):\n",
    "    print(\"Divisible by 5\")\n",
    "else:\n",
    "    print(\"Not Divisible by 5\")"
   ]
  },
  {
   "cell_type": "markdown",
   "metadata": {},
   "source": [
    "<h2>2. WAP to check is a number is even or odd"
   ]
  },
  {
   "cell_type": "code",
   "execution_count": 2,
   "metadata": {},
   "outputs": [
    {
     "name": "stdout",
     "output_type": "stream",
     "text": [
      "1412\n",
      "Entered Number is EVEN\n"
     ]
    }
   ],
   "source": [
    "n=int(input())\n",
    "if (n%2 == 0):\n",
    "    print(\"Entered Number is EVEN\")\n",
    "else:\n",
    "    print(\"Entered Number is ODD\")"
   ]
  },
  {
   "cell_type": "markdown",
   "metadata": {},
   "source": [
    "<h2>3. WAP to check if roots of a quatratic equation are real, real and equal or imaginary"
   ]
  },
  {
   "cell_type": "code",
   "execution_count": 3,
   "metadata": {},
   "outputs": [
    {
     "name": "stdout",
     "output_type": "stream",
     "text": [
      "Enter Value of A for Quadratic Equation:\n",
      "5\n",
      "Enter Value of B for Quadratic Equation:\n",
      "6\n",
      "Enter Value of C for Quadratic Equation:\n",
      "1\n",
      "Real Roots\n"
     ]
    }
   ],
   "source": [
    "# QE= Ax2 + Bx + C\n",
    "\n",
    "\n",
    "print(\"Enter Value of A for Quadratic Equation:\")\n",
    "A=float(input())\n",
    "print(\"Enter Value of B for Quadratic Equation:\")\n",
    "B=float(input())\n",
    "print(\"Enter Value of C for Quadratic Equation:\")\n",
    "C=float(input())\n",
    "\n",
    "#Discriminant:\n",
    "D= (B*B)-(4*A*C)\n",
    "\n",
    "#CONDITION:\n",
    "if D>0:\n",
    "    print(\"Real Roots\")\n",
    "elif D==0:\n",
    "    print(\"Real and Equal Roots\")\n",
    "else:\n",
    "    print(\"Complex or Imaginery Roots\")"
   ]
  },
  {
   "cell_type": "markdown",
   "metadata": {},
   "source": [
    "<h1>    4. WAP to print grade of a student  <br>\n",
    "        Less than 40 - NC <br>\n",
    "        40 - Less than 50 - D  <br>\n",
    "        50 - Less than 60 - C  <br>\n",
    "        60 - Less than 70 - B  <br>\n",
    "        70 - Less than 80 - A  <br>\n",
    "        80 and Above - O"
   ]
  },
  {
   "cell_type": "code",
   "execution_count": 5,
   "metadata": {},
   "outputs": [
    {
     "name": "stdout",
     "output_type": "stream",
     "text": [
      " Enter the Marks Scored\n",
      "-22\n",
      "Not Applicable\n"
     ]
    }
   ],
   "source": [
    "print(\" Enter the Marks Scored\")\n",
    "num=float(input())\n",
    "if(num >= 80 and num <=100):\n",
    "    print(\"Grade = O\")\n",
    "elif (num >= 70 and num <80 ):\n",
    "    print(\"Grade = A\")\n",
    "elif (num >= 60 and num <70 ):\n",
    "    print(\"Grade = B\")\n",
    "elif (num >= 50 and num <60 ):\n",
    "    print(\"Grade = C\")\n",
    "elif (num >= 40 and num <50 ):\n",
    "    print(\"Grade = D\")\n",
    "elif(num<40 and num>=0):\n",
    "    print(\"NC\")\n",
    "else:\n",
    "    print(\"Not Applicable\")\n",
    "\n",
    "    "
   ]
  },
  {
   "cell_type": "markdown",
   "metadata": {},
   "source": [
    "<h1>     5. WAP print the Electricity Bill <br>\n",
    "        Upto 200 - 0.5/unit <br>\n",
    "        201 - 500 - 1/unit for units consumed above 200 <br>\n",
    "        501 - 1000 - 2.5/unit for units consumed above 500 <br>\n",
    "        1001 - 1500 - 3.5/unit for units consumed above 1000 <br>\n",
    "        1501 - 2500 - 5/unit for units consumed above 1500  <br>\n",
    "        Above 2500 - 10/unit for units consumed above 2500  <br>"
   ]
  },
  {
   "cell_type": "code",
   "execution_count": 7,
   "metadata": {},
   "outputs": [
    {
     "name": "stdout",
     "output_type": "stream",
     "text": [
      " Enter the Number of Units:\n",
      "525\n",
      "Amount To be paid: Rs.  462.5\n"
     ]
    }
   ],
   "source": [
    "print(\" Enter the Number of Units:\")\n",
    "units=int(input())\n",
    "if(units<=200):\n",
    "    amount=0.5*units\n",
    "    print(\"Amount To be paid: Rs. \", end=\" \")\n",
    "    print(amount)\n",
    "elif (units>=201 and units<=500):\n",
    "    amount=(200*0.5)+((units-200)*1)\n",
    "    print(\"Amount To be paid: Rs. \", end=\" \")\n",
    "    print(amount)\n",
    "elif (units>=501 and units<=1000):\n",
    "    amount=(200*0.5)+(300*1)+((units-500)*2.5)\n",
    "    print(\"Amount To be paid: Rs. \", end=\" \")\n",
    "    print(amount)\n",
    "elif (units>=1001 and units<=1500):\n",
    "    amount=(200*0.5)+(300*1)+(500*2.5)+((units- 1000)*3.5)\n",
    "    print(\"Amount To be paid: Rs. \", end=\" \")\n",
    "    print(amount)\n",
    "elif (units>=1501 and units<=2500):\n",
    "    amount=(200*0.5)+(300*1)+(500*2.5)+(500*3.5)+((units- 1500)*5)\n",
    "    print(\"Amount To be paid: Rs. \", end=\" \")\n",
    "    print(amount)\n",
    "elif (units>2500):\n",
    "    amount=(200*0.5)+(300*1)+(500*2.5)+(500*3.5)+(1000*5)+((units-2500))\n",
    "    print(\"Amount To be paid: Rs. \", end=\" \")\n",
    "    print(amount)\n",
    "else:\n",
    "    print(\"Not Applicable\")\n",
    "\n",
    "    "
   ]
  },
  {
   "cell_type": "code",
   "execution_count": null,
   "metadata": {},
   "outputs": [],
   "source": []
  }
 ],
 "metadata": {
  "kernelspec": {
   "display_name": "Python 3 (ipykernel)",
   "language": "python",
   "name": "python3"
  },
  "language_info": {
   "codemirror_mode": {
    "name": "ipython",
    "version": 3
   },
   "file_extension": ".py",
   "mimetype": "text/x-python",
   "name": "python",
   "nbconvert_exporter": "python",
   "pygments_lexer": "ipython3",
   "version": "3.10.1"
  }
 },
 "nbformat": 4,
 "nbformat_minor": 4
}

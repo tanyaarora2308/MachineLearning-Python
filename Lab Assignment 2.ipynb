{
 "cells": [
  {
   "cell_type": "markdown",
   "metadata": {},
   "source": [
    "<h1>Lab Assignment 2\n"
   ]
  },
  {
   "cell_type": "code",
   "execution_count": 6,
   "metadata": {},
   "outputs": [
    {
     "name": "stdout",
     "output_type": "stream",
     "text": [
      "5\n",
      "8\n",
      "11\n",
      "14\n"
     ]
    }
   ],
   "source": [
    "for i in range(5,15,3):\n",
    "    print(i) "
   ]
  },
  {
   "cell_type": "code",
   "execution_count": 8,
   "metadata": {},
   "outputs": [
    {
     "name": "stdout",
     "output_type": "stream",
     "text": [
      "10\n",
      "6\n",
      "2\n"
     ]
    }
   ],
   "source": [
    "i=10\n",
    "while i>0:\n",
    "    print(i)\n",
    "    i-=4"
   ]
  },
  {
   "cell_type": "code",
   "execution_count": 5,
   "metadata": {},
   "outputs": [
    {
     "name": "stdout",
     "output_type": "stream",
     "text": [
      "0 0\n",
      "0 1\n",
      "1 0\n",
      "1 1\n",
      "2 0\n",
      "2 1\n",
      "3 0\n",
      "3 1\n"
     ]
    }
   ],
   "source": [
    "i=0\n",
    "while i<4:\n",
    "    j=0\n",
    "    while j<2:\n",
    "        print(i,j)\n",
    "        j+=1\n",
    "    i+=1"
   ]
  },
  {
   "cell_type": "markdown",
   "metadata": {},
   "source": [
    "# Exercise 2\n",
    "1. WAP to generate even numbers till the nth number\n",
    "2. WAP to check if a number is prime or not\n",
    "3. WAP to generate a fabonicaii series upto nth term\n",
    "4. WAP to find sum of n natural numbers\n",
    "5. WAP to generate sereis 2, 5, 10, 17 .... nth\n",
    "6. WAP to generate prime series between 1 and 100\n",
    "7. WAP to check if a number is armstrong number or not\n",
    "8. WAP to check if a number is a perfect square or not\n",
    "9. WAP to check if a number is digit palindrome or not\n",
    "10. WAP to find factorial of a given number\n",
    "11. WAP to check if a year is a leap year or not\n",
    "12. WAP to print pascal's triangle\n",
    "13. WAP to sum the series 4/3 + 9/4 + 16/5 + 25/6 + ....... nth term\n",
    "14. WAP to find HCM of two numbers\n",
    "15. WAP to calcualte roots of the quadratic equation\n",
    "16. WAP to generate armstrong numbers between 1 and 500\n",
    "17. WAP to generate perfect squares between 1 and 500\n",
    "18. WAP to sum the series 4/2! +9/3! + 16/4! + ..... nth term"
   ]
  },
  {
   "cell_type": "code",
   "execution_count": 1,
   "metadata": {},
   "outputs": [
    {
     "name": "stdout",
     "output_type": "stream",
     "text": [
      "10\n",
      "6\n",
      "2\n"
     ]
    }
   ],
   "source": [
    "for i in range(10,1,-4):\n",
    "    print(i)\n"
   ]
  },
  {
   "cell_type": "markdown",
   "metadata": {},
   "source": [
    "<h1> 1. WAP to generate even numbers till the nth number"
   ]
  },
  {
   "cell_type": "code",
   "execution_count": 1,
   "metadata": {},
   "outputs": [
    {
     "name": "stdout",
     "output_type": "stream",
     "text": [
      "Enter number upto which You want to print even number from 0:\n",
      "12\n",
      "0 2 4 6 8 10 12 "
     ]
    }
   ],
   "source": [
    "print(\"Enter number upto which You want to print even number from 0:\")\n",
    "n=int(input())\n",
    "for i in range (0,n+1):\n",
    "    if i%2==0:\n",
    "        print(i, end=\" \")"
   ]
  },
  {
   "cell_type": "markdown",
   "metadata": {},
   "source": [
    "<h1> 2. WAP to check if a number is prime or not"
   ]
  },
  {
   "cell_type": "code",
   "execution_count": 2,
   "metadata": {},
   "outputs": [
    {
     "name": "stdout",
     "output_type": "stream",
     "text": [
      "Enter a number: 15\n",
      "15 is not a prime number\n"
     ]
    }
   ],
   "source": [
    "# Program to check if a number is prime or not\n",
    "num = int(input(\"Enter a number: \"))\n",
    "\n",
    "flag = False\n",
    "\n",
    "# prime numbers are greater than 1\n",
    "if num > 1:\n",
    "    \n",
    "    for i in range(2, num):\n",
    "        if (num % i) == 0:\n",
    "           \n",
    "            flag = True\n",
    "            break\n",
    "\n",
    "if flag:\n",
    "    print(num, \"is not a prime number\")\n",
    "else:\n",
    "    print(num, \"is a prime number\")"
   ]
  },
  {
   "cell_type": "markdown",
   "metadata": {},
   "source": [
    "<h1> 3. WAP to generate a fabonicaii series upto nth term"
   ]
  },
  {
   "cell_type": "code",
   "execution_count": 3,
   "metadata": {},
   "outputs": [
    {
     "name": "stdout",
     "output_type": "stream",
     "text": [
      "How many terms? 8\n",
      "Fibonacci sequence:\n",
      "0\n",
      "1\n",
      "1\n",
      "2\n",
      "3\n",
      "5\n",
      "8\n",
      "13\n"
     ]
    }
   ],
   "source": [
    "# Program to display the Fibonacci sequence up to n-th term\n",
    "\n",
    "nterms = int(input(\"How many terms? \"))\n",
    "\n",
    "\n",
    "n1, n2 = 0, 1\n",
    "count = 0\n",
    "\n",
    "if nterms <= 0:\n",
    "    print(\"Please enter a positive integer\")\n",
    "    \n",
    "\n",
    "elif nterms == 1:\n",
    "    print(\"Fibonacci sequence upto\",nterms,\":\")\n",
    "    print(n1)\n",
    "    \n",
    "# generate fibonacci sequence\n",
    "else:\n",
    "    print(\"Fibonacci sequence:\")\n",
    "    while count < nterms:\n",
    "        print(n1)\n",
    "        nth = n1 + n2\n",
    "    \n",
    "        n1 = n2\n",
    "        n2 = nth\n",
    "        count += 1"
   ]
  },
  {
   "cell_type": "markdown",
   "metadata": {},
   "source": [
    "<h1>4. WAP to find sum of n natural numbers"
   ]
  },
  {
   "cell_type": "code",
   "execution_count": 4,
   "metadata": {},
   "outputs": [
    {
     "name": "stdout",
     "output_type": "stream",
     "text": [
      "Enter a number: 11\n",
      "The sum is 66\n"
     ]
    }
   ],
   "source": [
    "num = int(input(\"Enter a number: \"))\n",
    "\n",
    "if num < 0:\n",
    "    print(\"Enter a positive number\")\n",
    "else:\n",
    "    sum = 0\n",
    "   # use while loop to iterate until zero\n",
    "    while(num > 0):\n",
    "        sum += num\n",
    "        num -= 1\n",
    "    print(\"The sum is\", sum)"
   ]
  },
  {
   "cell_type": "markdown",
   "metadata": {},
   "source": [
    "<h1>5. WAP to generate sereis 2, 5, 10, 17 .... nth"
   ]
  },
  {
   "cell_type": "code",
   "execution_count": 5,
   "metadata": {},
   "outputs": [
    {
     "name": "stdout",
     "output_type": "stream",
     "text": [
      "Enter number of terms in series:5\n",
      "2 5 10 17 26 "
     ]
    }
   ],
   "source": [
    "n= int(input(\"Enter number of terms in series:\"))\n",
    "d=2\n",
    "j=3\n",
    "for i in range(n):\n",
    "    print(d, end=\" \")\n",
    "    d=d+j\n",
    "    j=j+2\n",
    "    \n",
    "    \n",
    "\n"
   ]
  },
  {
   "cell_type": "markdown",
   "metadata": {},
   "source": [
    "<h1>6. WAP to generate prime series between 1 and 100"
   ]
  },
  {
   "cell_type": "code",
   "execution_count": 6,
   "metadata": {},
   "outputs": [
    {
     "name": "stdout",
     "output_type": "stream",
     "text": [
      "Prime numbers between 2 and 100 are:\n",
      "2\n",
      "3\n",
      "5\n",
      "7\n",
      "11\n",
      "13\n",
      "17\n",
      "19\n",
      "23\n",
      "29\n",
      "31\n",
      "37\n",
      "41\n",
      "43\n",
      "47\n",
      "53\n",
      "59\n",
      "61\n",
      "67\n",
      "71\n",
      "73\n",
      "79\n",
      "83\n",
      "89\n",
      "97\n"
     ]
    }
   ],
   "source": [
    "#generating series of primes between 1 to 100\n",
    "\n",
    "lower = 2\n",
    "upper = 100\n",
    "\n",
    "print(\"Prime numbers between\", lower, \"and\", upper, \"are:\")\n",
    "\n",
    "for num in range(lower, upper + 1):\n",
    "   # all prime numbers are greater than 1\n",
    "   if num > 1:\n",
    "        for i in range(2, num):\n",
    "            if (num % i) == 0:\n",
    "                break\n",
    "        else:\n",
    "            print(num)\n",
    "            "
   ]
  },
  {
   "cell_type": "markdown",
   "metadata": {},
   "source": [
    "<h1>7. WAP to check if a number is armstrong number or not"
   ]
  },
  {
   "cell_type": "code",
   "execution_count": 7,
   "metadata": {},
   "outputs": [
    {
     "name": "stdout",
     "output_type": "stream",
     "text": [
      "Enter a number: 151\n",
      "151 is not an Armstrong number\n"
     ]
    }
   ],
   "source": [
    "#Check Armstrong number of n digits\n",
    "num = int(input(\"Enter a number: \"))\n",
    "\n",
    "order = len(str(num))\n",
    "\n",
    "sum = 0\n",
    "temp = num\n",
    "while temp > 0:\n",
    "    digit = temp % 10\n",
    "    sum += digit ** order\n",
    "    temp //= 10\n",
    "\n",
    "# display the result\n",
    "if num == sum:\n",
    "    print(num,\"is an Armstrong number\")\n",
    "else:\n",
    "    print(num,\"is not an Armstrong number\")"
   ]
  },
  {
   "cell_type": "markdown",
   "metadata": {},
   "source": [
    "<h1>8. WAP to check if a number is a perfect square or not"
   ]
  },
  {
   "cell_type": "code",
   "execution_count": 8,
   "metadata": {},
   "outputs": [
    {
     "name": "stdout",
     "output_type": "stream",
     "text": [
      "Enter the number to check if it is a perfect square or not:625\n",
      "Perfect Square\n"
     ]
    }
   ],
   "source": [
    "from math import sqrt\n",
    "n= int(input(\"Enter the number to check if it is a perfect square or not:\"))\n",
    "sq_root = int(sqrt(n))\n",
    "if (sq_root*sq_root) == n:\n",
    "    print(\"Perfect Square\")\n",
    "else:\n",
    "    print(\"Not a perfect Square\")\n"
   ]
  },
  {
   "cell_type": "markdown",
   "metadata": {},
   "source": [
    "<h1>9. WAP to check if a number is digit palindrome or not"
   ]
  },
  {
   "cell_type": "code",
   "execution_count": 9,
   "metadata": {},
   "outputs": [
    {
     "name": "stdout",
     "output_type": "stream",
     "text": [
      "Enter any number :1221\n",
      "The number is palindrome!\n"
     ]
    }
   ],
   "source": [
    "number=int(input(\"Enter any number :\"))\n",
    "\n",
    "temp=number\n",
    "\n",
    "reverse_num=0\n",
    "\n",
    "while(number>0):\n",
    "    digit=number%10\n",
    "   \n",
    "    reverse_num=reverse_num*10+digit\n",
    "    \n",
    "    number=number//10\n",
    "if(temp==reverse_num):\n",
    "    print(\"The number is palindrome!\")\n",
    "else:\n",
    "    print(\"Not a palindrome!\")"
   ]
  },
  {
   "cell_type": "markdown",
   "metadata": {},
   "source": [
    "<h1>10. WAP to find factorial of a given number"
   ]
  },
  {
   "cell_type": "code",
   "execution_count": 10,
   "metadata": {},
   "outputs": [
    {
     "name": "stdout",
     "output_type": "stream",
     "text": [
      "Enter a number: 6\n",
      "The factorial of 6 is:  720\n"
     ]
    }
   ],
   "source": [
    "num = int(input(\"Enter a number: \"))    \n",
    "factorial = 1    \n",
    "if num < 0:    \n",
    "    print(\" Factorial does not exist for negative numbers\")    \n",
    "elif num == 0:    \n",
    "    print(\"The factorial of 0 is 1\")    \n",
    "else:    \n",
    "    for i in range(1,num + 1):    \n",
    "        factorial = factorial*i    \n",
    "    print(\"The factorial of\",num,\"is: \",factorial)  "
   ]
  },
  {
   "cell_type": "markdown",
   "metadata": {},
   "source": [
    "<h1>11. WAP to check if a year is a leap year or not\n",
    "    "
   ]
  },
  {
   "cell_type": "code",
   "execution_count": 12,
   "metadata": {},
   "outputs": [
    {
     "name": "stdout",
     "output_type": "stream",
     "text": [
      "Enter the number: 2022\n",
      "Given Year is not a leap Year\n"
     ]
    }
   ],
   "source": [
    "# Taking an input year from user  \n",
    "Year = int(input(\"Enter the number: \")) \n",
    "\n",
    "if((Year % 400 == 0) or (Year % 100 != 0) and (Year % 4 == 0)):   \n",
    "    print(\"Given Year is a leap Year\")  \n",
    "\n",
    "else:  \n",
    "    print (\"Given Year is not a leap Year\")  \n"
   ]
  },
  {
   "cell_type": "markdown",
   "metadata": {},
   "source": [
    "<h1>12. WAP to print pascal's triangle"
   ]
  },
  {
   "cell_type": "code",
   "execution_count": 2,
   "metadata": {},
   "outputs": [
    {
     "name": "stdout",
     "output_type": "stream",
     "text": [
      "4\n",
      "     1 \n",
      "    1 1 \n",
      "   1 2 1 \n",
      "  1 3 3 1 \n"
     ]
    }
   ],
   "source": [
    "#Pascal’s triangle is a pattern of the triangle which is based on nCr, \n",
    "#below is the pictorial representation of Pascal’s triangle.\n",
    "#          0C0\n",
    "#       1C0   1C1\n",
    "#    2C0   2C1   2C2\n",
    "# 3C0   3C1   3C2    3C3\n",
    "\n",
    "# Print Pascal's Triangle in Python\n",
    "from math import factorial\n",
    "\n",
    "# input n\n",
    "n = int(input())\n",
    "for i in range(n):\n",
    "    for j in range(n-i+1):\n",
    "\n",
    "        # for left spacing\n",
    "        print(end=\" \")\n",
    "\n",
    "    for j in range(i+1):\n",
    "\n",
    "        # nCr = n!/((n-r)!*r!)\n",
    "        print(factorial(i)//(factorial(j)*factorial(i-j)), end=\" \")\n",
    "\n",
    "    # for new line\n",
    "    print()\n",
    "    \n",
    "\n",
    "#Alter: C(line, i) = C(line, i-1) * (line - i + 1) / i\n",
    "## Print Pascal's Triangle in Python\n",
    "\n",
    "# input n\n",
    "#n = 5\n",
    "#for i in range(1, n+1):\n",
    "#    for j in range(0, n-i+1):\n",
    "#        print(' ', end='')\n",
    "\n",
    "#    # first element is always 1\n",
    "#    C = 1\n",
    "#   for j in range(1, i+1):\n",
    "        # first value in a line is always 1\n",
    "        #print(' ', C, sep='', end='')\n",
    "\n",
    "        # using Binomial Coefficient\n",
    "        #C = C * (i - j) // j\n",
    "    #print()\n",
    "\n",
    "\n"
   ]
  },
  {
   "cell_type": "markdown",
   "metadata": {},
   "source": [
    "<h1>13.WAP to sum the series 4/3 + 9/4 + 16/5 + 25/6 + ....... nth term"
   ]
  },
  {
   "cell_type": "code",
   "execution_count": 12,
   "metadata": {},
   "outputs": [
    {
     "name": "stdout",
     "output_type": "stream",
     "text": [
      "Enter the Number of Terms:5\n",
      "16.09285714285714\n"
     ]
    }
   ],
   "source": [
    "n=int(input(\"Enter the Number of Terms:\"))\n",
    "snr=2\n",
    "sdr=3\n",
    "sum=0\n",
    "for i in range(n):\n",
    "    sum=sum+((snr*snr)/sdr)\n",
    "    #print(snr*snr, sdr)\n",
    "    snr=snr+1\n",
    "    sdr=sdr+1\n",
    "    \n",
    "print(sum)"
   ]
  },
  {
   "cell_type": "markdown",
   "metadata": {},
   "source": [
    "<h1>14. WAP to find HCF and LCM of two numbers"
   ]
  },
  {
   "cell_type": "code",
   "execution_count": 13,
   "metadata": {},
   "outputs": [
    {
     "name": "stdout",
     "output_type": "stream",
     "text": [
      "Enter first number: 4\n",
      "Enter second number: 3\n",
      "The H.C.F. of 4 and 3 is 1\n",
      "The L.C.M. of 4 and 3 is 12\n"
     ]
    }
   ],
   "source": [
    "\n",
    "num1 = int(input(\"Enter first number: \"))  \n",
    "num2 = int(input(\"Enter second number: \"))\n",
    "      \n",
    "if num1 > num2:  \n",
    "    smaller = num2  \n",
    "else:  \n",
    "    smaller = num1  \n",
    "for i in range(1,smaller + 1):  \n",
    "    if((num1 % i == 0) and (num2 % i == 0)):  \n",
    "            hcf = i  \n",
    "            \n",
    "print(\"The H.C.F. of\", num1,\"and\", num2,\"is\",hcf)\n",
    "\n",
    "\n",
    "\n",
    "if num1 > num2:  \n",
    "    greater = num1  \n",
    "else:  \n",
    "    greater = num2  \n",
    "while(True):  \n",
    "    if((greater % num1 == 0) and (greater % num2 == 0)):  \n",
    "            lcm = greater  \n",
    "            break  \n",
    "    greater += 1  \n",
    "print(\"The L.C.M. of\", num1,\"and\", num2,\"is\", lcm) "
   ]
  },
  {
   "cell_type": "markdown",
   "metadata": {},
   "source": [
    "<h1>15.WAP to calcualte roots of the quadratic equation"
   ]
  },
  {
   "cell_type": "code",
   "execution_count": 16,
   "metadata": {},
   "outputs": [
    {
     "name": "stdout",
     "output_type": "stream",
     "text": [
      "Enter Value of A for Quadratic Equation:\n",
      "1\n",
      "Enter Value of B for Quadratic Equation:\n",
      "6\n",
      "Enter Value of C for Quadratic Equation:\n",
      "5\n",
      "Real Roots\n",
      "ROOTS OF THE EQUATION ARE:\n",
      "Root1: (-5+0j)\n",
      "Root2: (-1+0j)\n"
     ]
    }
   ],
   "source": [
    "# QE= Ax2 + Bx + C\n",
    "import cmath\n",
    "\n",
    "print(\"Enter Value of A for Quadratic Equation:\")\n",
    "A=float(input())\n",
    "print(\"Enter Value of B for Quadratic Equation:\")\n",
    "B=float(input())\n",
    "print(\"Enter Value of C for Quadratic Equation:\")\n",
    "C=float(input())\n",
    "\n",
    "#Discriminant:\n",
    "D= (B*B)-(4*A*C)\n",
    "\n",
    "#CONDITION:\n",
    "if D>0:\n",
    "    print(\"Real Roots\")\n",
    "elif D==0:\n",
    "    print(\"Real and Equal Roots\")\n",
    "else:\n",
    "    print(\"Complex or Imaginery Roots\")\n",
    "    \n",
    "print(\"ROOTS OF THE EQUATION ARE:\")\n",
    "sol1 = (-B-cmath.sqrt(D))/(2*A)\n",
    "sol2 = (-B+cmath.sqrt(D))/(2*A)\n",
    "print( \"Root1:\",sol1)\n",
    "print( \"Root2:\",sol2)"
   ]
  },
  {
   "cell_type": "markdown",
   "metadata": {},
   "source": [
    "<h1>16.WAP to generate armstrong numbers between 1 and 500"
   ]
  },
  {
   "cell_type": "code",
   "execution_count": 17,
   "metadata": {},
   "outputs": [
    {
     "name": "stdout",
     "output_type": "stream",
     "text": [
      "1\n",
      "2\n",
      "3\n",
      "4\n",
      "5\n",
      "6\n",
      "7\n",
      "8\n",
      "9\n",
      "153\n",
      "370\n",
      "371\n",
      "407\n"
     ]
    }
   ],
   "source": [
    "# Program to check Armstrong numbers in a certain interval\n",
    "\n",
    "lower = 1\n",
    "upper = 500\n",
    "\n",
    "for num in range(lower, upper + 1):\n",
    "   # order of number\n",
    "    order = len(str(num))\n",
    "    \n",
    "   # initialize sum\n",
    "    sum = 0\n",
    "\n",
    "    temp = num\n",
    "    while temp > 0:\n",
    "        digit = temp % 10\n",
    "        sum += digit ** order\n",
    "        temp //= 10\n",
    "\n",
    "    if num == sum:\n",
    "        print(num)"
   ]
  },
  {
   "cell_type": "markdown",
   "metadata": {},
   "source": [
    "<h1>17.WAP to generate perfect squares between 1 and 500"
   ]
  },
  {
   "cell_type": "code",
   "execution_count": 19,
   "metadata": {},
   "outputs": [
    {
     "name": "stdout",
     "output_type": "stream",
     "text": [
      "Perfect squares between  1  and  500  are: \n",
      "1 4 9 16 25 36 49 64 81 100 121 144 169 196 225 256 289 324 361 400 441 484 "
     ]
    }
   ],
   "source": [
    "import math\n",
    "range1=1\n",
    "range2=500\n",
    "print(\"Perfect squares between \",range1,\" and \",range2,\" are: \")\n",
    "for i in range(range1,range2+1):\n",
    "    sqr=math.sqrt(i)\n",
    "    if sqr-math.floor(sqr)==0:\n",
    "        print(i,end=\" \")"
   ]
  },
  {
   "cell_type": "markdown",
   "metadata": {},
   "source": [
    "<h1>18.WAP to sum the series 4/2! +9/3! + 16/4! + ..... nth term"
   ]
  },
  {
   "cell_type": "code",
   "execution_count": 22,
   "metadata": {},
   "outputs": [
    {
     "name": "stdout",
     "output_type": "stream",
     "text": [
      " Enter the number of Terms: 3\n",
      "4.166666666666667\n"
     ]
    }
   ],
   "source": [
    "from math import factorial\n",
    "svn=2\n",
    "svd=2\n",
    "sum=0\n",
    "n=int(input(\" Enter the number of Terms: \"))\n",
    "for i in range(n):\n",
    "    ##print(svn*svn, factorial(svd))\n",
    "    sum=sum+ ((svn*svn)/factorial(svd))\n",
    "    svd=svd+1\n",
    "    svn=svn+1\n",
    "print(sum)"
   ]
  },
  {
   "cell_type": "code",
   "execution_count": null,
   "metadata": {},
   "outputs": [],
   "source": []
  }
 ],
 "metadata": {
  "kernelspec": {
   "display_name": "Python 3 (ipykernel)",
   "language": "python",
   "name": "python3"
  },
  "language_info": {
   "codemirror_mode": {
    "name": "ipython",
    "version": 3
   },
   "file_extension": ".py",
   "mimetype": "text/x-python",
   "name": "python",
   "nbconvert_exporter": "python",
   "pygments_lexer": "ipython3",
   "version": "3.9.7"
  }
 },
 "nbformat": 4,
 "nbformat_minor": 4
}

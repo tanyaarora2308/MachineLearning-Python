{
 "cells": [
  {
   "cell_type": "markdown",
   "metadata": {},
   "source": [
    "<h1>Lab Assignment 3"
   ]
  },
  {
   "cell_type": "code",
   "execution_count": 13,
   "metadata": {},
   "outputs": [
    {
     "data": {
      "text/plain": [
       "'Sthali'"
      ]
     },
     "execution_count": 13,
     "metadata": {},
     "output_type": "execute_result"
    }
   ],
   "source": [
    "str = \"Banasthali\"\n",
    "ss=str[4:]\n",
    "ss.capitalize() #Converts first letter in Upper Case"
   ]
  },
  {
   "cell_type": "code",
   "execution_count": 18,
   "metadata": {},
   "outputs": [
    {
     "data": {
      "text/plain": [
       "12"
      ]
     },
     "execution_count": 18,
     "metadata": {},
     "output_type": "execute_result"
    }
   ],
   "source": [
    "str=\"This is Banasthali Vidyapith\"\n",
    "ss=\"sthali\"\n",
    "str.find(ss)\n",
    "    "
   ]
  },
  {
   "cell_type": "code",
   "execution_count": 21,
   "metadata": {},
   "outputs": [
    {
     "data": {
      "text/plain": [
       "False"
      ]
     },
     "execution_count": 21,
     "metadata": {},
     "output_type": "execute_result"
    }
   ],
   "source": [
    "str=\"\"\n",
    "str.isalnum()"
   ]
  },
  {
   "cell_type": "code",
   "execution_count": 25,
   "metadata": {},
   "outputs": [
    {
     "data": {
      "text/plain": [
       "True"
      ]
     },
     "execution_count": 25,
     "metadata": {},
     "output_type": "execute_result"
    }
   ],
   "source": [
    "str=\"Kavita\"\n",
    "str[4].isalpha()"
   ]
  },
  {
   "cell_type": "code",
   "execution_count": 29,
   "metadata": {},
   "outputs": [
    {
     "data": {
      "text/plain": [
       "True"
      ]
     },
     "execution_count": 29,
     "metadata": {},
     "output_type": "execute_result"
    }
   ],
   "source": [
    "str=\"1234\"\n",
    "str.isdigit()"
   ]
  },
  {
   "cell_type": "code",
   "execution_count": 31,
   "metadata": {},
   "outputs": [
    {
     "data": {
      "text/plain": [
       "True"
      ]
     },
     "execution_count": 31,
     "metadata": {},
     "output_type": "execute_result"
    }
   ],
   "source": [
    "str=\"banasthali\"\n",
    "str.islower()"
   ]
  },
  {
   "cell_type": "code",
   "execution_count": 33,
   "metadata": {},
   "outputs": [
    {
     "data": {
      "text/plain": [
       "True"
      ]
     },
     "execution_count": 33,
     "metadata": {},
     "output_type": "execute_result"
    }
   ],
   "source": [
    "str=\"BANASTHALI\"\n",
    "str.isupper()"
   ]
  },
  {
   "cell_type": "code",
   "execution_count": 1,
   "metadata": {},
   "outputs": [
    {
     "data": {
      "text/plain": [
       "False"
      ]
     },
     "execution_count": 1,
     "metadata": {},
     "output_type": "execute_result"
    }
   ],
   "source": [
    "str=\"Banasthali Vidyapith\"\n",
    "str[11].isspace()"
   ]
  },
  {
   "cell_type": "code",
   "execution_count": 2,
   "metadata": {},
   "outputs": [
    {
     "data": {
      "text/plain": [
       "'banasthali'"
      ]
     },
     "execution_count": 2,
     "metadata": {},
     "output_type": "execute_result"
    }
   ],
   "source": [
    "str=\"Banasthali\"\n",
    "str.lower()"
   ]
  },
  {
   "cell_type": "code",
   "execution_count": 3,
   "metadata": {},
   "outputs": [
    {
     "data": {
      "text/plain": [
       "'BANASTHALI'"
      ]
     },
     "execution_count": 3,
     "metadata": {},
     "output_type": "execute_result"
    }
   ],
   "source": [
    "str.upper()"
   ]
  },
  {
   "cell_type": "code",
   "execution_count": 4,
   "metadata": {},
   "outputs": [],
   "source": [
    "str=\"This is Banasthali Vidyapith\"\n",
    "lstr = str.split()"
   ]
  },
  {
   "cell_type": "code",
   "execution_count": 5,
   "metadata": {},
   "outputs": [
    {
     "data": {
      "text/plain": [
       "['This', 'is', 'Banasthali', 'Vidyapith']"
      ]
     },
     "execution_count": 5,
     "metadata": {},
     "output_type": "execute_result"
    }
   ],
   "source": [
    "lstr"
   ]
  },
  {
   "cell_type": "code",
   "execution_count": 6,
   "metadata": {},
   "outputs": [
    {
     "data": {
      "text/plain": [
       "'Banasthali'"
      ]
     },
     "execution_count": 6,
     "metadata": {},
     "output_type": "execute_result"
    }
   ],
   "source": [
    "lstr[2]"
   ]
  },
  {
   "cell_type": "code",
   "execution_count": 7,
   "metadata": {},
   "outputs": [
    {
     "data": {
      "text/plain": [
       "28"
      ]
     },
     "execution_count": 7,
     "metadata": {},
     "output_type": "execute_result"
    }
   ],
   "source": [
    "len(str)"
   ]
  },
  {
   "cell_type": "code",
   "execution_count": 8,
   "metadata": {},
   "outputs": [
    {
     "data": {
      "text/plain": [
       "4"
      ]
     },
     "execution_count": 8,
     "metadata": {},
     "output_type": "execute_result"
    }
   ],
   "source": [
    "len(lstr)"
   ]
  },
  {
   "cell_type": "code",
   "execution_count": 10,
   "metadata": {},
   "outputs": [
    {
     "name": "stdout",
     "output_type": "stream",
     "text": [
      "This\n",
      "is\n",
      "Banasthali\n",
      "Vidyapith\n"
     ]
    }
   ],
   "source": [
    "for i in lstr:\n",
    "    print(i)"
   ]
  },
  {
   "cell_type": "markdown",
   "metadata": {},
   "source": [
    "# Lab 3\n",
    "1. WAP to check if a string is Palindrome or not\n",
    "2. WAP that takes string as multiple words and then capitalize the first letter of each word and forms a new string\n",
    "3. WAP to read a string and display the longest substring of the given string having just the consonants\n",
    "4. WAP to read a string and then prints a sting that capitalizes every other letter in the string e.g. goel becomes gOeL\n",
    "5. WAP to read an email id of a person and vertify if it belongs to banasthali.in domain\n",
    "6. WAP to count the number of vowels and consonants in an input string\n",
    "7. WAP to read a sentnece and count the articles it has\n",
    "8. WAP to check if a sentence is a paniltimate or not\n",
    "9. WAP to read a string and check if it has \"good\" in it"
   ]
  },
  {
   "cell_type": "markdown",
   "metadata": {},
   "source": [
    "<h1>1. WAP to check if a string is Palindrome or not"
   ]
  },
  {
   "cell_type": "code",
   "execution_count": 1,
   "metadata": {},
   "outputs": [
    {
     "name": "stdout",
     "output_type": "stream",
     "text": [
      "Enter a string:Prerna\n",
      "Not a palindrome\n"
     ]
    }
   ],
   "source": [
    "string=input((\"Enter a string:\"))\n",
    "if(string==string[::-1]):\n",
    "      print(\"The string is a palindrome\")\n",
    "else:\n",
    "      print(\"Not a palindrome\")"
   ]
  },
  {
   "cell_type": "markdown",
   "metadata": {},
   "source": [
    "<h1>2. WAP that takes string as multiple words and then capitalize the first letter of each word and forms a new string"
   ]
  },
  {
   "cell_type": "code",
   "execution_count": 2,
   "metadata": {},
   "outputs": [
    {
     "name": "stdout",
     "output_type": "stream",
     "text": [
      "Enter a string :- i am prerna taneja\n",
      "I Am Prerna Taneja "
     ]
    }
   ],
   "source": [
    "string = input(\"Enter a string :- \")\n",
    "lst = string.split()\n",
    "for i in lst:\n",
    "    print (i.capitalize(), end = \" \")"
   ]
  },
  {
   "cell_type": "markdown",
   "metadata": {},
   "source": [
    "<h1>3. WAP to read a string and display the longest substring of the given string having just the consonants"
   ]
  },
  {
   "cell_type": "code",
   "execution_count": 8,
   "metadata": {},
   "outputs": [
    {
     "name": "stdout",
     "output_type": "stream",
     "text": [
      "Enter a string :jingle bells jingle bells jingle all the way\n",
      "Maximum length consonant substring is : ngl ll th w  with 11 characters\n"
     ]
    }
   ],
   "source": [
    "s = input(\"Enter a string :\")\n",
    "length = len (s)\n",
    "maxlength = 0\n",
    "maxsub = ''\n",
    "sub = ''\n",
    "lensub = 0\n",
    "for a in range (length) :\n",
    "    if s[a] in 'aeiou' or s[a] in 'AEIOU':\n",
    "        if lensub > maxlength :\n",
    "            maxsub = sub\n",
    "            maxlength=lensub\n",
    "            sub = ''\n",
    "            lensub=0\n",
    "    else :\n",
    "        sub += s[a]\n",
    "        lensub = len(sub)\n",
    "    a+=1\n",
    "print (\"Maximum length consonant substring is :\", maxsub, end=\"\")\n",
    "print (\"  with\", maxlength, \"characters\")"
   ]
  },
  {
   "cell_type": "markdown",
   "metadata": {},
   "source": [
    "<h1>4. WAP to read a string and then prints a sting that capitalizes every other letter in the string e.g. goel becomes gOeL"
   ]
  },
  {
   "cell_type": "code",
   "execution_count": 14,
   "metadata": {},
   "outputs": [
    {
     "name": "stdout",
     "output_type": "stream",
     "text": [
      "Enter the string:prerna\n",
      "PrErNa\n"
     ]
    }
   ],
   "source": [
    "s=input(\"Enter the string:\")\n",
    "r = ''\n",
    "b = True\n",
    "for c in s:\n",
    "    r += c.upper() if b else c.lower()\n",
    "    if c.isalpha():\n",
    "        b = not b\n",
    "print(r)"
   ]
  },
  {
   "cell_type": "markdown",
   "metadata": {},
   "source": [
    "<h1>5. WAP to read an email id of a person and vertify if it belongs to banasthali.in domain"
   ]
  },
  {
   "cell_type": "code",
   "execution_count": 3,
   "metadata": {},
   "outputs": [
    {
     "name": "stdout",
     "output_type": "stream",
     "text": [
      "Enter your email id:prernamay4@gmail.com\n",
      "This email-d is either not valid or belongs to some other domain\n"
     ]
    }
   ],
   "source": [
    "#(Assumption:no invalid characters\n",
    "# are there in email-id)\n",
    "email=input('Enter your email id:')\n",
    "domain='@banasthali.in'\n",
    "ledo=len(domain)       #ledo=length of domain\n",
    "lema=len(email)        #lema=length of email\n",
    "sub=email[lema-ledo:]\n",
    "\n",
    "if sub==domain:\n",
    "    if ledo!=lema:\n",
    "        print('It belongs to domain banasthali.in')\n",
    "    else:\n",
    "        print('It does not belong to banasthali')\n",
    "else:\n",
    "     print('This email-d is either not valid or belongs to some other domain')"
   ]
  },
  {
   "cell_type": "markdown",
   "metadata": {},
   "source": [
    "<h1>6. WAP to count the number of vowels and consonants in an input string"
   ]
  },
  {
   "cell_type": "code",
   "execution_count": 1,
   "metadata": {},
   "outputs": [
    {
     "name": "stdout",
     "output_type": "stream",
     "text": [
      "Prerna Taneja \n",
      "Total number of vowel and consonant are\n",
      "5\n",
      "7\n"
     ]
    }
   ],
   "source": [
    "vcount = 0;  \n",
    "ccount = 0;  \n",
    "str = input();    \n",
    "#Converting entire string to lower case to reduce the comparisons  \n",
    "str = str.lower();  \n",
    "for i in range(0,len(str)):   \n",
    "    #Checks whether a character is a vowel  \n",
    "    if str[i] in ('a',\"e\",\"i\",\"o\",\"u\"):  \n",
    "        vcount = vcount + 1;  \n",
    "    elif (str[i] >= 'a' and str[i] <= 'z'):  \n",
    "        ccount = ccount + 1;  \n",
    "print(\"Total number of vowel and consonant are\" );  \n",
    "print(vcount);  \n",
    "print(ccount)"
   ]
  },
  {
   "cell_type": "markdown",
   "metadata": {},
   "source": [
    "<h1>7.WAP to read a sentnece and count the articles it has"
   ]
  },
  {
   "cell_type": "code",
   "execution_count": 15,
   "metadata": {},
   "outputs": [
    {
     "name": "stdout",
     "output_type": "stream",
     "text": [
      "An apple a day keeps the doctor away.\n",
      "An a the \n",
      "No. of Articles: 3\n"
     ]
    }
   ],
   "source": [
    "s=input();\n",
    "count=0\n",
    "list=s.split();\n",
    "for i in range(len(list)):\n",
    "    if list[i]=='a' or list[i]=='an' or list[i]=='the'or list[i]=='A' or list[i]=='The' or list[i]=='An':\n",
    "        print(list[i], end=\" \")\n",
    "        count=count+1\n",
    "print()\n",
    "print(\"No. of Articles:\",count)   \n"
   ]
  },
  {
   "cell_type": "markdown",
   "metadata": {},
   "source": [
    "<h1> 8.WAP to check if a sentence is a paniltimate or not"
   ]
  },
  {
   "cell_type": "code",
   "execution_count": 24,
   "metadata": {},
   "outputs": [
    {
     "name": "stdout",
     "output_type": "stream",
     "text": [
      "I have a red and a blue colored pen.\n",
      "Penultimate word of the sentence Entered is:\n",
      "colored\n"
     ]
    }
   ],
   "source": [
    "#Finding penultimate word of a sentence...\n",
    "s=input()\n",
    "\n",
    "list=s.split()\n",
    "a=len(list)\n",
    "print(\"Penultimate word of the sentence Entered is:\")\n",
    "print(list[a-2])"
   ]
  },
  {
   "cell_type": "markdown",
   "metadata": {},
   "source": [
    "<h1>9.WAP to read a string and check if it has \"good\" in it"
   ]
  },
  {
   "cell_type": "code",
   "execution_count": 22,
   "metadata": {},
   "outputs": [
    {
     "name": "stdout",
     "output_type": "stream",
     "text": [
      "It is a good book.\n",
      "Sentence entered has word 'good' in it...\n"
     ]
    }
   ],
   "source": [
    "s=input()\n",
    "list=s.split()\n",
    "for i in range (len(list)):\n",
    "    if list[i]==\"good\":\n",
    "        print(\"Sentence entered has word 'good' in it...\")\n",
    "        break\n",
    "else:\n",
    "    print(\"word 'good' is not present in the sentence...\")"
   ]
  },
  {
   "cell_type": "code",
   "execution_count": null,
   "metadata": {},
   "outputs": [],
   "source": []
  }
 ],
 "metadata": {
  "kernelspec": {
   "display_name": "Python 3 (ipykernel)",
   "language": "python",
   "name": "python3"
  },
  "language_info": {
   "codemirror_mode": {
    "name": "ipython",
    "version": 3
   },
   "file_extension": ".py",
   "mimetype": "text/x-python",
   "name": "python",
   "nbconvert_exporter": "python",
   "pygments_lexer": "ipython3",
   "version": "3.9.7"
  }
 },
 "nbformat": 4,
 "nbformat_minor": 2
}

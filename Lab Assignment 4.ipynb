{
 "cells": [
  {
   "cell_type": "markdown",
   "metadata": {},
   "source": [
    "<h1>Lab Assignment 4"
   ]
  },
  {
   "cell_type": "code",
   "execution_count": 1,
   "metadata": {},
   "outputs": [
    {
     "name": "stdout",
     "output_type": "stream",
     "text": [
      "[]\n"
     ]
    }
   ],
   "source": [
    "l = list() #empty list\n",
    "print (l)"
   ]
  },
  {
   "cell_type": "code",
   "execution_count": 2,
   "metadata": {},
   "outputs": [
    {
     "name": "stdout",
     "output_type": "stream",
     "text": [
      "[1, 2, 3, 4]\n"
     ]
    }
   ],
   "source": [
    "l = [1,2,3,4] #list of integers\n",
    "print (l)"
   ]
  },
  {
   "cell_type": "code",
   "execution_count": 3,
   "metadata": {},
   "outputs": [
    {
     "name": "stdout",
     "output_type": "stream",
     "text": [
      "[1, 2, 3, 4.5, 5.1]\n"
     ]
    }
   ],
   "source": [
    "l = [1,2,3, 4.5, 5.1] #list of numbers\n",
    "print (l)"
   ]
  },
  {
   "cell_type": "code",
   "execution_count": 4,
   "metadata": {},
   "outputs": [
    {
     "name": "stdout",
     "output_type": "stream",
     "text": [
      "['a', 'b', 'c']\n"
     ]
    }
   ],
   "source": [
    "l = [\"a\",\"b\",'c'] #list of characters\n",
    "print (l)"
   ]
  },
  {
   "cell_type": "code",
   "execution_count": 5,
   "metadata": {},
   "outputs": [
    {
     "name": "stdout",
     "output_type": "stream",
     "text": [
      "[1, 2, 4.5, 'abs', True]\n"
     ]
    }
   ],
   "source": [
    "l = [1,2,4.5,'abs',True] #mixed list\n",
    "print (l)"
   ]
  },
  {
   "cell_type": "code",
   "execution_count": 46,
   "metadata": {},
   "outputs": [
    {
     "name": "stdout",
     "output_type": "stream",
     "text": [
      "['abc', 'pqr', 'xyz']\n"
     ]
    }
   ],
   "source": [
    "l = [\"abc\",\"pqr\",\"xyz\"] #list of strings\n",
    "print (l)"
   ]
  },
  {
   "cell_type": "code",
   "execution_count": 8,
   "metadata": {},
   "outputs": [
    {
     "name": "stdout",
     "output_type": "stream",
     "text": [
      "['h', 'e', 'l', 'l', 'o']\n"
     ]
    }
   ],
   "source": [
    "l=list('hello')\n",
    "print(l)"
   ]
  },
  {
   "cell_type": "code",
   "execution_count": 6,
   "metadata": {},
   "outputs": [
    {
     "name": "stdout",
     "output_type": "stream",
     "text": [
      "['a', 'b', 'c', 'd', 'e']\n"
     ]
    }
   ],
   "source": [
    "s=('a','b','c','d','e')\n",
    "l=list(s)\n",
    "print(l)"
   ]
  },
  {
   "cell_type": "code",
   "execution_count": 7,
   "metadata": {},
   "outputs": [
    {
     "name": "stdout",
     "output_type": "stream",
     "text": [
      "Enter a listDivya Jaiswal\n",
      "['D', 'i', 'v', 'y', 'a', ' ', 'J', 'a', 'i', 's', 'w', 'a', 'l']\n"
     ]
    }
   ],
   "source": [
    "l=list(input(\"Enter a list\"))\n",
    "print(l)"
   ]
  },
  {
   "cell_type": "code",
   "execution_count": 8,
   "metadata": {},
   "outputs": [
    {
     "name": "stdout",
     "output_type": "stream",
     "text": [
      "[1, [2, 3], [4, 5], [6, 7, 8], ['Divya', 'Anu', 'Suchi']]\n"
     ]
    }
   ],
   "source": [
    "l=[1,[2,3],[4,5],[6,7,8],['Divya','Anu','Suchi']] #Nested List\n",
    "print(l)"
   ]
  },
  {
   "cell_type": "code",
   "execution_count": 9,
   "metadata": {},
   "outputs": [
    {
     "data": {
      "text/plain": [
       "5"
      ]
     },
     "execution_count": 9,
     "metadata": {},
     "output_type": "execute_result"
    }
   ],
   "source": [
    "len(l) #length of a list"
   ]
  },
  {
   "cell_type": "code",
   "execution_count": 10,
   "metadata": {},
   "outputs": [
    {
     "data": {
      "text/plain": [
       "[6, 7, 8]"
      ]
     },
     "execution_count": 10,
     "metadata": {},
     "output_type": "execute_result"
    }
   ],
   "source": [
    "l[3]  #indexing"
   ]
  },
  {
   "cell_type": "code",
   "execution_count": 15,
   "metadata": {},
   "outputs": [
    {
     "data": {
      "text/plain": [
       "[[4, 5], [6, 7, 8]]"
      ]
     },
     "execution_count": 15,
     "metadata": {},
     "output_type": "execute_result"
    }
   ],
   "source": [
    "l[2:4] #slicing"
   ]
  },
  {
   "cell_type": "code",
   "execution_count": 14,
   "metadata": {},
   "outputs": [
    {
     "data": {
      "text/plain": [
       "False"
      ]
     },
     "execution_count": 14,
     "metadata": {},
     "output_type": "execute_result"
    }
   ],
   "source": [
    "[-1,2,3] > [1,2,0]"
   ]
  },
  {
   "cell_type": "code",
   "execution_count": 17,
   "metadata": {},
   "outputs": [
    {
     "data": {
      "text/plain": [
       "True"
      ]
     },
     "execution_count": 17,
     "metadata": {},
     "output_type": "execute_result"
    }
   ],
   "source": [
    "[1,2,3] < [8,9,1]"
   ]
  },
  {
   "cell_type": "code",
   "execution_count": 2,
   "metadata": {},
   "outputs": [
    {
     "name": "stdout",
     "output_type": "stream",
     "text": [
      "[1, 2, 5, 4, 3]\n"
     ]
    }
   ],
   "source": [
    "l1=[1,2]\n",
    "l2=[5,4,3]\n",
    "l = l1+l2\n",
    "print(l)"
   ]
  },
  {
   "cell_type": "code",
   "execution_count": 11,
   "metadata": {},
   "outputs": [
    {
     "name": "stdout",
     "output_type": "stream",
     "text": [
      "[1, 2, 5, 4, 3, 1, 2, 5, 4, 3, 1, 2, 5, 4, 3, 1, 2, 5, 4, 3, 1, 2, 5, 4, 3, 1, 2, 5, 4, 3, 1, 2, 5, 4, 3, 1, 2, 5, 4, 3, 1, 2, 5, 4, 3, 1, 2, 5, 4, 3]\n"
     ]
    }
   ],
   "source": [
    "print(l*10) #Replicating a list"
   ]
  },
  {
   "cell_type": "code",
   "execution_count": 19,
   "metadata": {},
   "outputs": [
    {
     "name": "stdout",
     "output_type": "stream",
     "text": [
      "[5, 1, 4, 2, 3]\n"
     ]
    }
   ],
   "source": [
    "l=l*5\n",
    "seq = l[2:15:3] #L[start:end:step]\n",
    "print(seq)"
   ]
  },
  {
   "cell_type": "code",
   "execution_count": 20,
   "metadata": {},
   "outputs": [
    {
     "name": "stdout",
     "output_type": "stream",
     "text": [
      "[1, 2, 5, 4, 3, 1, 2, 5, 4, 3, 1, 2, 5, 4, 3, 1, 2, 5, 4, 3, 1, 2, 5, 4, 3, 1, 2, 5, 4, 3, 1, 2, 5, 4, 3, 1, 2, 5, 4, 3, 1, 2, 5, 4, 3, 1, 2, 5, 4, 3, 1, 2, 5, 4, 3, 1, 2, 5, 4, 3, 1, 2, 5, 4, 3, 1, 2, 5, 4, 3, 1, 2, 5, 4, 3, 1, 2, 5, 4, 3, 1, 2, 5, 4, 3, 1, 2, 5, 4, 3, 1, 2, 5, 4, 3, 1, 2, 5, 4, 3, 1, 2, 5, 4, 3, 1, 2, 5, 4, 3, 1, 2, 5, 4, 3, 1, 2, 5, 4, 3, 1, 2, 5, 4, 3, 1, 2, 5, 4, 3, 1, 2, 5, 4, 3, 1, 2, 5, 4, 3, 1, 2, 5, 4, 3, 1, 2, 5, 4, 3, 1, 2, 5, 4, 3, 1, 2, 5, 4, 3, 1, 2, 5, 4, 3, 1, 2, 5, 4, 3, 1, 2, 5, 4, 3, 1, 2, 5, 4, 3, 1, 2, 5, 4, 3, 1, 2, 5, 4, 3, 1, 2, 5, 4, 3, 1, 2, 5, 4, 3, 1, 2, 5, 4, 3, 1, 2, 5, 4, 3, 1, 2, 5, 4, 3, 1, 2, 5, 4, 3, 1, 2, 5, 4, 3, 1, 2, 5, 4, 3, 1, 2, 5, 4, 3, 1, 2, 5, 4, 3, 1, 2, 5, 4, 3, 1, 2, 5, 4, 3, 1, 2, 5, 4, 3, 1, 2, 5, 4, 3, 1, 2, 5, 4, 3, 1, 2, 5, 4, 3, 1, 2, 5, 4, 3, 1, 2, 5, 4, 3, 1, 2, 5, 4, 3, 1, 2, 5, 4, 3, 1, 2, 5, 4, 3, 1, 2, 5, 4, 3, 1, 2, 5, 4, 3, 1, 2, 5, 4, 3, 1, 2, 5, 4, 3, 1, 2, 5, 4, 3, 1, 2, 5, 4, 3, 1, 2, 5, 4, 3, 1, 2, 5, 4, 3, 1, 2, 5, 4, 3, 1, 2, 5, 4, 3, 1, 2, 5, 4, 3, 1, 2, 5, 4, 3, 1, 2, 5, 4, 3, 1, 2, 5, 4, 3, 1, 2, 5, 4, 3, 1, 2, 5, 4, 3, 1, 2, 5, 4, 3, 1, 2, 5, 4, 3, 1, 2, 5, 4, 3, 1, 2, 5, 4, 3, 1, 2, 5, 4, 3, 1, 2, 5, 4, 3, 1, 2, 5, 4, 3, 1, 2, 5, 4, 3, 1, 2, 5, 4, 3, 1, 2, 5, 4, 3, 1, 2, 5, 4, 3, 1, 2, 5, 4, 3, 1, 2, 5, 4, 3, 1, 2, 5, 4, 3, 1, 2, 5, 4, 3, 1, 2, 5, 4, 3, 1, 2, 5, 4, 3, 1, 2, 5, 4, 3, 1, 2, 5, 4, 3, 1, 2, 5, 4, 3, 1, 2, 5, 4, 3, 1, 2, 5, 4, 3, 1, 2, 5, 4, 3, 1, 2, 5, 4, 3, 1, 2, 5, 4, 3]\n",
      "[1, 4, 2, 3, 5, 1, 4, 2, 3, 5, 1, 4, 2, 3, 5, 1, 4, 2, 3, 5, 1, 4, 2, 3, 5, 1, 4, 2, 3, 5, 1, 4, 2, 3, 5, 1, 4, 2, 3, 5, 1, 4, 2, 3, 5, 1, 4, 2, 3, 5, 1, 4, 2, 3, 5, 1, 4, 2, 3, 5, 1, 4, 2, 3, 5, 1, 4, 2, 3, 5, 1, 4, 2, 3, 5, 1, 4, 2, 3, 5, 1, 4, 2, 3, 5, 1, 4, 2, 3, 5, 1, 4, 2, 3, 5, 1, 4, 2, 3, 5, 1, 4, 2, 3, 5, 1, 4, 2, 3, 5, 1, 4, 2, 3, 5, 1, 4, 2, 3, 5, 1, 4, 2, 3, 5, 1, 4, 2, 3, 5, 1, 4, 2, 3, 5, 1, 4, 2, 3, 5, 1, 4, 2, 3, 5, 1, 4, 2, 3, 5, 1, 4, 2, 3, 5, 1, 4, 2, 3, 5, 1, 4, 2, 3, 5, 1, 4]\n"
     ]
    }
   ],
   "source": [
    "l=l*4\n",
    "print(l)\n",
    "print(l[::3])"
   ]
  },
  {
   "cell_type": "code",
   "execution_count": 21,
   "metadata": {},
   "outputs": [
    {
     "name": "stdout",
     "output_type": "stream",
     "text": [
      "[1, 2, 5, 4, 3, 1, 2, 5, 4, 3, 1, 2, 5, 4, 3]\n",
      "['one', 'two', 5, 4, 3, 1, 2, 5, 4, 3, 1, 2, 5, 4, 3]\n"
     ]
    }
   ],
   "source": [
    "l1=[1,2]\n",
    "l2=[5,4,3]\n",
    "l = l1+l2\n",
    "l=l*3\n",
    "print(l)\n",
    "l[0:2] = ['one','two']\n",
    "print(l)"
   ]
  },
  {
   "cell_type": "code",
   "execution_count": 22,
   "metadata": {},
   "outputs": [
    {
     "name": "stdout",
     "output_type": "stream",
     "text": [
      "['one', 'two', 5, 4, 3, 1, 2, 5, 4, 3, 1, 2, 5, 4, 3, 'new item']\n"
     ]
    }
   ],
   "source": [
    "l.append('new item') #add an element\n",
    "print(l)"
   ]
  },
  {
   "cell_type": "code",
   "execution_count": 23,
   "metadata": {},
   "outputs": [
    {
     "name": "stdout",
     "output_type": "stream",
     "text": [
      "['one', 'two', 5, 'updated item', 3, 1, 2, 5, 4, 3, 1, 2, 5, 4, 3, 'new item']\n"
     ]
    }
   ],
   "source": [
    "l[3] = 'updated item' #replace an element\n",
    "print(l)"
   ]
  },
  {
   "cell_type": "code",
   "execution_count": 24,
   "metadata": {},
   "outputs": [
    {
     "name": "stdout",
     "output_type": "stream",
     "text": [
      "['one', 'two', 5, 3, 1, 2, 5, 4, 3, 1, 2, 5, 4, 3, 'new item']\n"
     ]
    }
   ],
   "source": [
    "del l[3]  #delete an item\n",
    "print(l)"
   ]
  },
  {
   "cell_type": "code",
   "execution_count": 27,
   "metadata": {},
   "outputs": [
    {
     "name": "stdout",
     "output_type": "stream",
     "text": [
      "['one', 5, 'updated item', 3, 1, 2, 5, 4, 3, 2, 5, 4, 3, 1, 2, 5, 4, 3, 1, 2, 5, 4, 3, 1, 2, 5, 4, 3, 1, 2, 5, 4, 3, 1, 2, 5, 4, 3, 1, 2, 5, 4, 3, 'new item']\n"
     ]
    }
   ],
   "source": [
    "del l[1]  #delete an item\n",
    "print(l)"
   ]
  },
  {
   "cell_type": "code",
   "execution_count": 25,
   "metadata": {},
   "outputs": [
    {
     "name": "stdout",
     "output_type": "stream",
     "text": [
      "['one', 'two', 5, 3, 1, 'item 1', 'item2', 4, 3, 1, 2, 5, 4, 3, 'new item']\n"
     ]
    }
   ],
   "source": [
    "l[5] = \"item 1\"\n",
    "l[6] = \"item2\"\n",
    "print(l)"
   ]
  },
  {
   "cell_type": "code",
   "execution_count": 26,
   "metadata": {},
   "outputs": [
    {
     "name": "stdout",
     "output_type": "stream",
     "text": [
      "['one', 'two', 5, 3, 1, 4, 3, 1, 2, 5, 4, 3, 'new item']\n"
     ]
    }
   ],
   "source": [
    "del l[5:7]  #delete a slice\n",
    "print(l)"
   ]
  },
  {
   "cell_type": "code",
   "execution_count": 27,
   "metadata": {},
   "outputs": [
    {
     "name": "stdout",
     "output_type": "stream",
     "text": [
      "['one', 'two', 5, 3, 1, 4, 3, 1, 2, 5, 4, 3]\n"
     ]
    }
   ],
   "source": [
    "l.pop() #remove last element of the list\n",
    "print(l)"
   ]
  },
  {
   "cell_type": "code",
   "execution_count": 29,
   "metadata": {},
   "outputs": [
    {
     "name": "stdout",
     "output_type": "stream",
     "text": [
      "['one', 'two', 1, 4, 3, 1, 2, 5, 4, 3]\n"
     ]
    }
   ],
   "source": [
    "l.pop(2) #removes an element at a position\n",
    "print(l)"
   ]
  },
  {
   "cell_type": "code",
   "execution_count": 30,
   "metadata": {},
   "outputs": [
    {
     "data": {
      "text/plain": [
       "2"
      ]
     },
     "execution_count": 30,
     "metadata": {},
     "output_type": "execute_result"
    }
   ],
   "source": [
    "l.index(1) #prints an element at position x"
   ]
  },
  {
   "cell_type": "code",
   "execution_count": 31,
   "metadata": {},
   "outputs": [
    {
     "name": "stdout",
     "output_type": "stream",
     "text": [
      "['one', 'two', 1, 4, 3, 1, 2, 5, 4, 3, 'a', 'b', 'Banasthali', 1, 2, 3]\n"
     ]
    }
   ],
   "source": [
    "t=['a','b','Banasthali',1,2,3]\n",
    "l.extend(t)\n",
    "print(l)"
   ]
  },
  {
   "cell_type": "code",
   "execution_count": 32,
   "metadata": {},
   "outputs": [
    {
     "name": "stdout",
     "output_type": "stream",
     "text": [
      "['one', 'two', 1, 4, 'Hello', 3, 1, 2, 5, 4, 3, 'a', 'b', 'Banasthali', 1, 2, 3]\n"
     ]
    }
   ],
   "source": [
    "l.insert(4,\"Hello\")\n",
    "print(l)"
   ]
  },
  {
   "cell_type": "code",
   "execution_count": 43,
   "metadata": {},
   "outputs": [
    {
     "name": "stdout",
     "output_type": "stream",
     "text": [
      "Element not found\n",
      "['one', 'two', 4, 'Hello', 2, 5, 4, 'a', 'b', 'Banasthali', 2]\n"
     ]
    }
   ],
   "source": [
    "if 1 not in l:\n",
    "    print(\"Element not found\")\n",
    "else:\n",
    "    l.remove(1)\n",
    "    print(\"Element Deleted\")\n",
    "print(l)"
   ]
  },
  {
   "cell_type": "code",
   "execution_count": 44,
   "metadata": {},
   "outputs": [
    {
     "data": {
      "text/plain": [
       "3"
      ]
     },
     "execution_count": 44,
     "metadata": {},
     "output_type": "execute_result"
    }
   ],
   "source": [
    "l.append(4)\n",
    "l.count(4)"
   ]
  },
  {
   "cell_type": "code",
   "execution_count": 45,
   "metadata": {},
   "outputs": [
    {
     "name": "stdout",
     "output_type": "stream",
     "text": [
      "['one', 'two', 4, 'Hello', 2, 5, 4, 'a', 'b', 'Banasthali', 2, 4]\n",
      "[4, 2, 'Banasthali', 'b', 'a', 4, 5, 2, 'Hello', 4, 'two', 'one']\n"
     ]
    }
   ],
   "source": [
    "print(l)\n",
    "l.reverse()\n",
    "print(l)"
   ]
  },
  {
   "cell_type": "code",
   "execution_count": 6,
   "metadata": {},
   "outputs": [
    {
     "name": "stdout",
     "output_type": "stream",
     "text": [
      "('e', 'i', 'q', 'a', 'q', 'p', 'b')\n",
      "['a', 'b', 'e', 'i', 'p', 'q', 'q']\n"
     ]
    },
    {
     "ename": "TypeError",
     "evalue": "'tuple' object does not support item assignment",
     "output_type": "error",
     "traceback": [
      "\u001b[1;31m---------------------------------------------------------------------------\u001b[0m",
      "\u001b[1;31mTypeError\u001b[0m                                 Traceback (most recent call last)",
      "\u001b[1;32m<ipython-input-6-b678fdd0e0f3>\u001b[0m in \u001b[0;36m<module>\u001b[1;34m\u001b[0m\n\u001b[0;32m      4\u001b[0m \u001b[0mprint\u001b[0m\u001b[1;33m(\u001b[0m\u001b[0ml1\u001b[0m\u001b[1;33m)\u001b[0m\u001b[1;33m\u001b[0m\u001b[1;33m\u001b[0m\u001b[0m\n\u001b[0;32m      5\u001b[0m \u001b[0mprint\u001b[0m\u001b[1;33m(\u001b[0m\u001b[0msorted\u001b[0m\u001b[1;33m(\u001b[0m\u001b[0ml2\u001b[0m\u001b[1;33m)\u001b[0m\u001b[1;33m)\u001b[0m\u001b[1;33m\u001b[0m\u001b[1;33m\u001b[0m\u001b[0m\n\u001b[1;32m----> 6\u001b[1;33m \u001b[0ml1\u001b[0m\u001b[1;33m[\u001b[0m\u001b[1;36m4\u001b[0m\u001b[1;33m]\u001b[0m\u001b[1;33m=\u001b[0m\u001b[1;34m'x'\u001b[0m\u001b[1;33m\u001b[0m\u001b[1;33m\u001b[0m\u001b[0m\n\u001b[0m",
      "\u001b[1;31mTypeError\u001b[0m: 'tuple' object does not support item assignment"
     ]
    }
   ],
   "source": [
    "l1=[]'e','i','q','a','q','p','b']\n",
    "l2=l1\n",
    "l1.sort()\n",
    "print(l1)\n",
    "print(sorted(l2))"
   ]
  },
  {
   "cell_type": "code",
   "execution_count": 47,
   "metadata": {},
   "outputs": [
    {
     "name": "stdout",
     "output_type": "stream",
     "text": [
      "[]\n"
     ]
    }
   ],
   "source": [
    "l.clear()\n",
    "print(l)"
   ]
  },
  {
   "cell_type": "markdown",
   "metadata": {},
   "source": [
    "# Creating a Matrix"
   ]
  },
  {
   "cell_type": "code",
   "execution_count": 45,
   "metadata": {},
   "outputs": [
    {
     "name": "stdout",
     "output_type": "stream",
     "text": [
      "Enter the number of rows:2\n",
      "Enter the number of columns:2\n",
      "Enter the entries rowwise:\n",
      "1\n",
      "2\n",
      "3\n",
      "4\n",
      "1 2 \n",
      "3 4 \n"
     ]
    }
   ],
   "source": [
    "R = int(input(\"Enter the number of rows:\")) \n",
    "C = int(input(\"Enter the number of columns:\")) \n",
    "  \n",
    "# Initialize matrix \n",
    "matrix = [] \n",
    "print(\"Enter the entries rowwise:\") \n",
    "  \n",
    "# For user input \n",
    "for i in range(R):          # A for loop for row entries \n",
    "    a =[] \n",
    "    for j in range(C):      # A for loop for column entries \n",
    "         a.append(int(input())) \n",
    "    matrix.append(a) \n",
    "  \n",
    "# For printing the matrix \n",
    "for i in range(R): \n",
    "    for j in range(C): \n",
    "        print(matrix[i][j], end = \" \") \n",
    "    print() "
   ]
  },
  {
   "cell_type": "markdown",
   "metadata": {},
   "source": [
    "# Lab 4\n",
    "1. WAP to find minimum element from a list of integers alongwith its index in the list\n",
    "2. WAP to calcualte mean of a given list of numbers\n",
    "3. WAP to search an element in a list\n",
    "4. WAP to count the frequency of an element in a list\n",
    "5. WAP to find frequencies of all elements in a list\n",
    "6. WAP to extact two slices from a list and add the slices and find which one is greater\n",
    "7. WAP to find second largest number of a list\n",
    "8. WAP to input a list of numbers and shift all zeros to the right and all non zeros to left of the list\n",
    "9. WAP to add two matrices\n",
    "10. WAP to multiply two matrices\n",
    "11. WAP to print transpose of a matrix\n",
    "12. WAP to add elements of diagonal of a matrix\n",
    "13. WAP to find an element in a matrix\n",
    "14. WAP to find inverse of a matrix"
   ]
  },
  {
   "cell_type": "code",
   "execution_count": 2,
   "metadata": {},
   "outputs": [
    {
     "name": "stdout",
     "output_type": "stream",
     "text": [
      "Minimum Element is 0\tIndex is 4\n"
     ]
    }
   ],
   "source": [
    "l=[15,6,9,1,0,8]\n",
    "min=1000\n",
    "for i in l:\n",
    "    if i < min:\n",
    "        min=i\n",
    "idx=l.index(min)\n",
    "print(\"Minimum Element is {}\".format(min) , end = \"\\t\")\n",
    "print(\"Index is {}\".format(idx))"
   ]
  },
  {
   "cell_type": "markdown",
   "metadata": {},
   "source": [
    "<h1>1.WAP to find minimum element from a list of integers alongwith its index in the list"
   ]
  },
  {
   "cell_type": "code",
   "execution_count": 6,
   "metadata": {},
   "outputs": [
    {
     "name": "stdout",
     "output_type": "stream",
     "text": [
      "Enter no. of elements to input in list:5\n",
      "10\n",
      "22\n",
      "11\n",
      "5\n",
      "3\n",
      "[10, 22, 11, 5, 3]\n",
      "Minimum Element is 3\tIndex is 4\n"
     ]
    }
   ],
   "source": [
    "n=int(input(\"Enter no. of elements to input in list:\"))\n",
    "list=[]\n",
    "for i in range(0,n):\n",
    "    list.append(int(input()))\n",
    "print(list)\n",
    "min=1000\n",
    "for i in list:\n",
    "    if i < min:\n",
    "        min=i\n",
    "idx=list.index(min)\n",
    "print(\"Minimum Element is {}\".format(min) , end = \"\\t\")\n",
    "print(\"Index is\", end=\" \")\n",
    "print(idx)"
   ]
  },
  {
   "cell_type": "markdown",
   "metadata": {},
   "source": [
    "<h1>2.WAP to calcualte mean of a given list of number"
   ]
  },
  {
   "cell_type": "code",
   "execution_count": 7,
   "metadata": {},
   "outputs": [
    {
     "name": "stdout",
     "output_type": "stream",
     "text": [
      "Enter the number of elements to be inserted: 5\n",
      "Enter element: 0\n",
      "Enter element: 5\n",
      "Enter element: 2\n",
      "Enter element: 3\n",
      "Enter element: 10\n",
      "[0, 5, 2, 3, 10]\n",
      "Average of elements in the list 4.0\n"
     ]
    }
   ],
   "source": [
    "n=int(input(\"Enter the number of elements to be inserted: \"))\n",
    "a=[]\n",
    "for i in range(0,n):\n",
    "    elem=int(input(\"Enter element: \"))\n",
    "    a.append(elem)\n",
    "print(a)\n",
    "avg=sum(a)/n\n",
    "print(\"Average of elements in the list\",avg)"
   ]
  },
  {
   "cell_type": "markdown",
   "metadata": {},
   "source": [
    "<h1>3.WAP to search an element in a list"
   ]
  },
  {
   "cell_type": "code",
   "execution_count": 5,
   "metadata": {},
   "outputs": [
    {
     "name": "stdout",
     "output_type": "stream",
     "text": [
      "Enter the number of elements: 5\n",
      "enter elements:\n",
      "1\n",
      "2\n",
      "5\n",
      "3\n",
      "0\n",
      "Enter elements to be searched:5\n",
      "Item found at the Position :  3\n"
     ]
    }
   ],
   "source": [
    "L=[]\n",
    "n=int(input(\"Enter the number of elements: \"))\n",
    "print(\"enter elements:\")\n",
    "for i in range(0,n):\n",
    "    L.append(int(input()))\n",
    "x=int(input(\"Enter elements to be searched:\"))\n",
    "found=0 \n",
    "for i in range(n):\n",
    "    if x==L[i]: \n",
    "        print(\"Item found at the Position : \",i+1)\n",
    "        found=1\n",
    "if found==0:\n",
    "    print(\"Item not found in list\")\n"
   ]
  },
  {
   "cell_type": "markdown",
   "metadata": {},
   "source": [
    "<h1>4.WAP to count the frequency of an element in a list"
   ]
  },
  {
   "cell_type": "code",
   "execution_count": 7,
   "metadata": {},
   "outputs": [
    {
     "name": "stdout",
     "output_type": "stream",
     "text": [
      "Enter number of element to be entered in the list:10\n",
      "Enter elements:\n",
      "1\n",
      "2\n",
      "5\n",
      "2\n",
      "7\n",
      "2\n",
      "5\n",
      "2\n",
      "2\n",
      "1\n",
      "[1, 2, 5, 2, 7, 2, 5, 2, 2, 1]\n",
      "Enter the number of which you want to know thefrequency:\n",
      "2\n",
      "2 is present  5 times in the list!!\n"
     ]
    }
   ],
   "source": [
    "n=int(input(\"Enter number of element to be entered in the list:\"))\n",
    "list=[]\n",
    "print(\"Enter elements:\")\n",
    "for i in range(n):\n",
    "    list.append(int(input()))\n",
    "print(list)\n",
    "print(\"Enter the number of which you want to know thefrequency:\")\n",
    "x=int(input())\n",
    "count=0\n",
    "for i in range(n):\n",
    "    if x==list[i]:\n",
    "        count=count+1\n",
    "        \n",
    "print(x,\"is present \",count,\"times in the list!!\")\n",
    "\n"
   ]
  },
  {
   "cell_type": "markdown",
   "metadata": {},
   "source": [
    "<h1>5. WAP to find frequencies of all elements in a list"
   ]
  },
  {
   "cell_type": "code",
   "execution_count": 12,
   "metadata": {},
   "outputs": [
    {
     "name": "stdout",
     "output_type": "stream",
     "text": [
      "enter number of elements to be entered:6\n",
      "22\n",
      "22\n",
      "1\n",
      "22\n",
      "5\n",
      "22\n",
      "Original List :  [22, 22, 1, 22, 5, 22]\n",
      "Frequency of the elements in the List :  Counter({22: 4, 1: 1, 5: 1})\n"
     ]
    }
   ],
   "source": [
    "import collections\n",
    "n=int(input(\"enter number of elements to be entered:\"))\n",
    "my_list = []\n",
    "for i in range(n):\n",
    "    my_list.append(int(input()))\n",
    "print(\"Original List : \",my_list)\n",
    "ctr = collections.Counter(my_list)\n",
    "print(\"Frequency of the elements in the List : \",ctr)"
   ]
  },
  {
   "cell_type": "markdown",
   "metadata": {},
   "source": [
    "<h1>6.WAP to extact two slices from a list and add the slices and find which one is greater"
   ]
  },
  {
   "cell_type": "code",
   "execution_count": 23,
   "metadata": {},
   "outputs": [
    {
     "name": "stdout",
     "output_type": "stream",
     "text": [
      "Enter the number of elements to be inserted: 6\n",
      "Enter element: 1\n",
      "Enter element: 2\n",
      "Enter element: 3\n",
      "Enter element: 3\n",
      "Enter element: 2\n",
      "Enter element: 2\n",
      "Two slices are:\n",
      "[1, 2, 3]\n",
      "[3, 2, 2]\n",
      "sum of slice 1 is: 6\n",
      "sum of slice 2 is: 7\n",
      "slice 2 sum is greater\n"
     ]
    }
   ],
   "source": [
    "import math\n",
    "n=int(input(\"Enter the number of elements to be inserted: \"))\n",
    "a=[]\n",
    "for i in range(0,n):\n",
    "    elem=int(input(\"Enter element: \"))\n",
    "    a.append(elem)\n",
    "if n%2==0:\n",
    "    d=(n//2)\n",
    "    slice1=a[0:d]\n",
    "    slice2=a[d:n]\n",
    "else:\n",
    "    print(\"List cannot be divided into two equal halves!! :(\")\n",
    "    \n",
    "print(\"Two slices are:\")\n",
    "print(slice1)\n",
    "print(slice2)\n",
    "s1=0\n",
    "s2=0\n",
    "for i in range (d):\n",
    "    s1+=slice1[i]\n",
    "for i in range (d):\n",
    "    s2+=slice2[i]\n",
    "print(\"sum of slice 1 is:\", s1)\n",
    "print(\"sum of slice 2 is:\", s2)\n",
    "if s1>s2:\n",
    "    \n",
    "    print(\"slice 1 sum is greater\")\n",
    "else:\n",
    "    \n",
    "    print(\"slice 2 sum is greater\")"
   ]
  },
  {
   "cell_type": "markdown",
   "metadata": {},
   "source": [
    "<h1>7.WAP to find second largest number of a list"
   ]
  },
  {
   "cell_type": "code",
   "execution_count": 24,
   "metadata": {},
   "outputs": [
    {
     "name": "stdout",
     "output_type": "stream",
     "text": [
      "Enter number of elements:5\n",
      "Enter element:1\n",
      "Enter element:2\n",
      "Enter element:5\n",
      "Enter element:11\n",
      "Enter element:7\n",
      "Second largest element is: 7\n"
     ]
    }
   ],
   "source": [
    "a=[]\n",
    "n=int(input(\"Enter number of elements:\"))\n",
    "for i in range(1,n+1):\n",
    "    b=int(input(\"Enter element:\"))\n",
    "    a.append(b)\n",
    "a.sort()\n",
    "print(\"Second largest element is:\",a[n-2])\n"
   ]
  },
  {
   "cell_type": "markdown",
   "metadata": {},
   "source": [
    "<h1> 8.WAP to input a list of numbers and shift all zeros to the right and all non zeros to left of the list"
   ]
  },
  {
   "cell_type": "code",
   "execution_count": 4,
   "metadata": {},
   "outputs": [
    {
     "name": "stdout",
     "output_type": "stream",
     "text": [
      "Enter number of elements to entered in the list:5\n",
      "Enter elements:\n",
      "1\n",
      "0\n",
      "5\n",
      "0\n",
      "2\n",
      "Required list will be:\n",
      "[1, 5, 2, 0, 0]\n"
     ]
    }
   ],
   "source": [
    "n=int(input(\"Enter number of elements to entered in the list:\"))\n",
    "\n",
    "list=[]\n",
    "print(\"Enter elements:\")\n",
    "for i in range(0,n):\n",
    "    list.append(int(input()))\n",
    "r=[]\n",
    "l=[]\n",
    "for i in range(0,n):\n",
    "    if list[i]==0:\n",
    "        r.append(0)\n",
    "    else:\n",
    "        l.append(list[i])\n",
    "ans=l+r\n",
    "print(\"Required list will be:\")\n",
    "print(ans)"
   ]
  },
  {
   "cell_type": "markdown",
   "metadata": {},
   "source": [
    "<h1> 9. WAP to add two matrices"
   ]
  },
  {
   "cell_type": "code",
   "execution_count": 1,
   "metadata": {},
   "outputs": [
    {
     "name": "stdout",
     "output_type": "stream",
     "text": [
      "[17, 15, 4]\n",
      "[10, 12, 9]\n",
      "[11, 13, 18]\n"
     ]
    }
   ],
   "source": [
    "X = [[12,7,3],\n",
    "    [4 ,5,6],\n",
    "    [7 ,8,9]]\n",
    "\n",
    "Y = [[5,8,1],\n",
    "    [6,7,3],\n",
    "    [4,5,9]]\n",
    "\n",
    "result = [[0,0,0],\n",
    "         [0,0,0],\n",
    "         [0,0,0]]\n",
    "\n",
    "for i in range(len(X)):\n",
    "    for j in range(len(X[0])):\n",
    "        result[i][j] = X[i][j] + Y[i][j]\n",
    "\n",
    "for r in result:\n",
    "    print(r)\n"
   ]
  },
  {
   "cell_type": "markdown",
   "metadata": {},
   "source": [
    "<h1> 10.WAP to multiply two matrices"
   ]
  },
  {
   "cell_type": "code",
   "execution_count": 2,
   "metadata": {},
   "outputs": [
    {
     "name": "stdout",
     "output_type": "stream",
     "text": [
      "[114, 160, 60, 27]\n",
      "[74, 97, 73, 14]\n",
      "[119, 157, 112, 23]\n"
     ]
    }
   ],
   "source": [
    "# 3x3 matrix\n",
    "X = [[12,7,3],\n",
    "    [4 ,5,6],\n",
    "    [7 ,8,9]]\n",
    "# 3x4 matrix\n",
    "Y = [[5,8,1,2],\n",
    "    [6,7,3,0],\n",
    "    [4,5,9,1]]\n",
    "# result is 3x4\n",
    "result = [[0,0,0,0],\n",
    "         [0,0,0,0],\n",
    "         [0,0,0,0]]\n",
    "\n",
    "\n",
    "for i in range(len(X)):\n",
    "    for j in range(len(Y[0])):\n",
    "        for k in range(len(Y)):\n",
    "            result[i][j] += X[i][k] * Y[k][j]\n",
    "\n",
    "for r in result:\n",
    "    print(r)\n"
   ]
  },
  {
   "cell_type": "markdown",
   "metadata": {},
   "source": [
    "<h1>11.WAP to print transpose of a matrix"
   ]
  },
  {
   "cell_type": "code",
   "execution_count": 3,
   "metadata": {},
   "outputs": [
    {
     "name": "stdout",
     "output_type": "stream",
     "text": [
      "[12, 4, 3]\n",
      "[7, 5, 8]\n"
     ]
    }
   ],
   "source": [
    "\n",
    "\n",
    "X = [[12,7],\n",
    "    [4 ,5],\n",
    "    [3 ,8]]\n",
    "\n",
    "result = [[0,0,0],\n",
    "         [0,0,0]]\n",
    "\n",
    "for i in range(len(X)):\n",
    "\n",
    "    for j in range(len(X[0])):\n",
    "        result[j][i] = X[i][j]\n",
    "\n",
    "for r in result:\n",
    "    print(r)\n"
   ]
  },
  {
   "cell_type": "markdown",
   "metadata": {},
   "source": [
    "<h1> 12.WAP to add elements of diagonal of a matrix"
   ]
  },
  {
   "cell_type": "code",
   "execution_count": 6,
   "metadata": {},
   "outputs": [
    {
     "name": "stdout",
     "output_type": "stream",
     "text": [
      "The Sum of all Diagonal elements of a given Matix =  16\n"
     ]
    }
   ],
   "source": [
    "#sum of diagonal elements from upper left to lower right\n",
    "mtrx = [[3, 1, 2], \n",
    "        [4, 11, 5], \n",
    "        [8, 0, 2]]\n",
    "mtrxrows = len(mtrx)\n",
    "mtrxcols = len(mtrx[0])\n",
    "diagnl_sum = 0\n",
    "for n in range(mtrxrows):\n",
    "    for m in range(mtrxcols):\n",
    "        if n == m:\n",
    "            diagnl_sum += mtrx[n][m]\n",
    "print(\"The Sum of all Diagonal elements of a given Matix = \", diagnl_sum)"
   ]
  },
  {
   "cell_type": "markdown",
   "metadata": {},
   "source": [
    "<h1>13.WAP to find an element in a matrix"
   ]
  },
  {
   "cell_type": "code",
   "execution_count": 4,
   "metadata": {},
   "outputs": [
    {
     "name": "stdout",
     "output_type": "stream",
     "text": [
      "Enter the number of rows:2\n",
      "Enter the number of columns:2\n",
      "Enter the entries rowwise:\n",
      "1\n",
      "2\n",
      "4\n",
      "2\n",
      "1 2 \n",
      "4 2 \n",
      "Enter element to be searched:2\n",
      "2  is present in matrix in row  [1, 2]\n",
      "2  is present in matrix in row  [4, 2]\n"
     ]
    }
   ],
   "source": [
    "R = int(input(\"Enter the number of rows:\")) \n",
    "C = int(input(\"Enter the number of columns:\")) \n",
    "  \n",
    "# Initialize matrix \n",
    "matrix = [] \n",
    "print(\"Enter the entries rowwise:\") \n",
    "  \n",
    "# For user input \n",
    "for i in range(R):          # A for loop for row entries \n",
    "    a =[] \n",
    "    for j in range(C):      # A for loop for column entries \n",
    "        a.append(int(input())) \n",
    "    matrix.append(a) \n",
    "    \n",
    "    \n",
    "#For printing the matrix \n",
    "for i in range(R): \n",
    "    for j in range(C): \n",
    "        print(matrix[i][j], end = \" \") \n",
    "    print() \n",
    "\n",
    "\n",
    "value=int(input(\"Enter element to be searched:\"))\n",
    "flag= False\n",
    "for row in matrix:\n",
    "    for element in row:\n",
    "        if element == value:\n",
    "            print(value,' is present in matrix in row ',row )\n",
    "            flag=True\n",
    "if flag==False:\n",
    "    print(\"Entered element is not present\")\n",
    "            \n",
    "\n",
    "\n"
   ]
  },
  {
   "cell_type": "markdown",
   "metadata": {},
   "source": [
    "<h1>14.WAP to find inverse of a matrix"
   ]
  },
  {
   "cell_type": "code",
   "execution_count": 1,
   "metadata": {},
   "outputs": [
    {
     "name": "stdout",
     "output_type": "stream",
     "text": [
      "Inverse array is \n",
      "[[-15.07692308   4.9         -0.8         -0.42307692]\n",
      " [ 32.48717949 -10.9          1.8          1.01282051]\n",
      " [-20.84615385   7.1         -1.2         -0.65384615]\n",
      " [  3.41025641  -1.1          0.2          0.08974359]]\n"
     ]
    }
   ],
   "source": [
    "# Importing Library\n",
    "import numpy as np\n",
    "\n",
    "# inverse of 4X4 matrix\n",
    "arr = np.array([[1, 2, 3, 4],\n",
    "                [10, 11, 14, 25],\n",
    "                [20, 8, 7, 55],\n",
    "                [40, 41, 42, 43]])\n",
    "\n",
    "inverse_array = np.linalg.inv(arr)\n",
    "print(\"Inverse array is \")\n",
    "print(inverse_array)\n"
   ]
  },
  {
   "cell_type": "code",
   "execution_count": null,
   "metadata": {},
   "outputs": [],
   "source": []
  }
 ],
 "metadata": {
  "kernelspec": {
   "display_name": "Python 3 (ipykernel)",
   "language": "python",
   "name": "python3"
  },
  "language_info": {
   "codemirror_mode": {
    "name": "ipython",
    "version": 3
   },
   "file_extension": ".py",
   "mimetype": "text/x-python",
   "name": "python",
   "nbconvert_exporter": "python",
   "pygments_lexer": "ipython3",
   "version": "3.9.7"
  }
 },
 "nbformat": 4,
 "nbformat_minor": 2
}

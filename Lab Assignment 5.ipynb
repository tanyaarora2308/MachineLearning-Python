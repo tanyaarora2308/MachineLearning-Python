{
 "cells": [
  {
   "cell_type": "markdown",
   "metadata": {},
   "source": [
    "<h1>Lab Assignment 5"
   ]
  },
  {
   "cell_type": "code",
   "execution_count": 1,
   "metadata": {},
   "outputs": [],
   "source": [
    "def fuct(f):\n",
    "    r=1\n",
    "    for i in range(f,0,-1):\n",
    "        r=r*i\n",
    "    return r"
   ]
  },
  {
   "cell_type": "code",
   "execution_count": 5,
   "metadata": {},
   "outputs": [
    {
     "name": "stdout",
     "output_type": "stream",
     "text": [
      "93326215443944152681699238856266700490715968264381621468592963895217599993229915608941463976156518286253697920827223758251185210916864000000000000000000000000\n"
     ]
    }
   ],
   "source": [
    "print(fuct(100))"
   ]
  },
  {
   "cell_type": "code",
   "execution_count": 6,
   "metadata": {},
   "outputs": [],
   "source": [
    "def rfun(f):\n",
    "    if f==0:\n",
    "        return 1\n",
    "    else:\n",
    "        return(f*rfun(f-1))"
   ]
  },
  {
   "cell_type": "markdown",
   "metadata": {},
   "source": [
    "f       stack\n",
    "4       4*6\n",
    "3       3*2\n",
    "2       2*1\n",
    "1       1*1\n",
    "0       1"
   ]
  },
  {
   "cell_type": "code",
   "execution_count": 7,
   "metadata": {},
   "outputs": [
    {
     "name": "stdout",
     "output_type": "stream",
     "text": [
      "24\n"
     ]
    }
   ],
   "source": [
    "print(rfun(4))"
   ]
  },
  {
   "cell_type": "code",
   "execution_count": 8,
   "metadata": {},
   "outputs": [],
   "source": [
    "def fab(a,b,n):\n",
    "    for i in range(n,0,-1):\n",
    "        c=a+b\n",
    "        print(a,end=\" \")\n",
    "        a=b\n",
    "        b=c"
   ]
  },
  {
   "cell_type": "code",
   "execution_count": 10,
   "metadata": {},
   "outputs": [
    {
     "name": "stdout",
     "output_type": "stream",
     "text": [
      "0 1 1 2 3 5 8 13 21 34 55 89 144 233 377 610 987 1597 2584 4181 6765 10946 17711 28657 46368 "
     ]
    }
   ],
   "source": [
    "fab(0,1,25)"
   ]
  },
  {
   "cell_type": "code",
   "execution_count": 11,
   "metadata": {},
   "outputs": [],
   "source": [
    "def rfab(a,b,n):\n",
    "    if n>0:\n",
    "        print(a, end=\" \")\n",
    "        rfab(b,a+b,n-1)"
   ]
  },
  {
   "cell_type": "code",
   "execution_count": 13,
   "metadata": {},
   "outputs": [
    {
     "name": "stdout",
     "output_type": "stream",
     "text": [
      "0 1 1 2 3 5 8 13 21 34 55 89 144 233 377 610 987 1597 2584 4181 6765 10946 17711 28657 46368 "
     ]
    }
   ],
   "source": [
    "rfab(0,1,25)"
   ]
  },
  {
   "cell_type": "code",
   "execution_count": 15,
   "metadata": {},
   "outputs": [],
   "source": [
    "def pl(l):\n",
    "    s=0\n",
    "    for i in l:\n",
    "        s=s+i\n",
    "    return s"
   ]
  },
  {
   "cell_type": "code",
   "execution_count": 16,
   "metadata": {},
   "outputs": [
    {
     "name": "stdout",
     "output_type": "stream",
     "text": [
      "15\n"
     ]
    }
   ],
   "source": [
    "lst=[1,2,3,4,5]\n",
    "print(pl(lst))"
   ]
  },
  {
   "cell_type": "code",
   "execution_count": 18,
   "metadata": {},
   "outputs": [],
   "source": [
    "def pstr(s):\n",
    "    ls=s.split()\n",
    "    return ls"
   ]
  },
  {
   "cell_type": "code",
   "execution_count": 19,
   "metadata": {},
   "outputs": [
    {
     "name": "stdout",
     "output_type": "stream",
     "text": [
      "['This', 'is', 'Banasthali', 'Vidyapith']\n"
     ]
    }
   ],
   "source": [
    "lst=pstr(\"This is Banasthali Vidyapith\")\n",
    "print(lst)"
   ]
  },
  {
   "cell_type": "code",
   "execution_count": 20,
   "metadata": {},
   "outputs": [],
   "source": [
    "def ps(a,b):\n",
    "    if a>b:\n",
    "        return a,b\n",
    "    else:\n",
    "        return b,a"
   ]
  },
  {
   "cell_type": "code",
   "execution_count": 23,
   "metadata": {},
   "outputs": [
    {
     "name": "stdout",
     "output_type": "stream",
     "text": [
      "7 5\n"
     ]
    }
   ],
   "source": [
    "g,l=ps(7,5)\n",
    "print(g,l)"
   ]
  },
  {
   "cell_type": "code",
   "execution_count": 27,
   "metadata": {},
   "outputs": [
    {
     "name": "stdout",
     "output_type": "stream",
     "text": [
      "Enter a stringThis is an example\n",
      "['example', 'an', 'is', 'This'] \t ['example', 'an', 'is', 'This']\n"
     ]
    }
   ],
   "source": [
    "str=input(\"Enter a string\")\n",
    "lst=str.split()\n",
    "dlst = lst\n",
    "dlst.reverse()\n",
    "print(lst,\"\\t\",dlst)"
   ]
  },
  {
   "cell_type": "markdown",
   "metadata": {},
   "source": [
    "# Lab 5\n",
    "1. Write a function in python to find max of three numbers\n",
    "2. Write a function in python to sum all the numbers in a list\n",
    "3. Write a function in python to multiply all the numbrers in a list\n",
    "4. Write a function in python to reverse a string\n",
    "5. Write a function in python that takes a list and returns a new list with unique elements of the first list\n",
    "6. Write a function in python that checks whether a passed string is palindrome or not\n",
    "7. Write a function in python to access a function inside a function\n",
    "8. Write a function in python to generate even series upto the nth term\n",
    "9. Write a function in python to check if a number is prime or not\n",
    "10. Write a function in python to generate prime series between range inputted by a user.\n",
    "11. Write a recursive function in python to sum all the numbers in a list\n",
    "12. Write a recursive function in python to multiply all the numbrers in a list\n",
    "13. Write a recursive function in python to reverse a string\n",
    "14. Write a recursive function in python that takes a list and returns a new list with unique elements of the first list\n",
    "15. Write a recursive function in python that checks whether a passed string is palindrome or not\n",
    "16. Write a recursive function in python to generate even series upto the nth term\n",
    "17. Write a recursive function in python to check if a number is prime or not\n",
    "18. Write a recursive function in python to generate prime series between range inputted by a user."
   ]
  },
  {
   "cell_type": "markdown",
   "metadata": {},
   "source": [
    "<h1>1. Write a function in python to find max of three numbers"
   ]
  },
  {
   "cell_type": "code",
   "execution_count": 1,
   "metadata": {},
   "outputs": [
    {
     "name": "stdout",
     "output_type": "stream",
     "text": [
      "16\n"
     ]
    }
   ],
   "source": [
    "\n",
    "def maximum(a, b, c):\n",
    "\n",
    "    if (a >= b) and (a >= c):\n",
    "        largest = a\n",
    "\n",
    "    elif (b >= a) and (b >= c):\n",
    "        largest = b\n",
    "    else:\n",
    "        largest = c\n",
    "        \n",
    "    return largest\n",
    "\n",
    "\n",
    "a = 10\n",
    "b = 14\n",
    "c = 16\n",
    "print(maximum(a, b, c))\n"
   ]
  },
  {
   "cell_type": "markdown",
   "metadata": {},
   "source": [
    "<h1>2. Write a function in python to sum all the numbers in a list"
   ]
  },
  {
   "cell_type": "code",
   "execution_count": 5,
   "metadata": {},
   "outputs": [
    {
     "name": "stdout",
     "output_type": "stream",
     "text": [
      "Sum of all elements in given list:  20\n"
     ]
    }
   ],
   "source": [
    "\n",
    "list1 = [1, 2, 1, 10, 6]\n",
    "\n",
    "def sumOfList(list, size):\n",
    "    if (size == 0):\n",
    "        return 0\n",
    "    else:\n",
    "        return list[size - 1] + sumOfList(list, size - 1)\n",
    "\n",
    "total = sumOfList(list1, len(list1))\n",
    "\n",
    "print(\"Sum of all elements in given list: \", total)\n"
   ]
  },
  {
   "cell_type": "markdown",
   "metadata": {},
   "source": [
    "<h1>3.Write a function in python to multiply all the numbrers in a list"
   ]
  },
  {
   "cell_type": "code",
   "execution_count": 6,
   "metadata": {},
   "outputs": [
    {
     "name": "stdout",
     "output_type": "stream",
     "text": [
      "6\n"
     ]
    }
   ],
   "source": [
    "\n",
    "\n",
    "def multiplyList(myList) :\n",
    "\n",
    "    result = 1\n",
    "    for x in myList:\n",
    "        result = result * x\n",
    "    return result\n",
    "\n",
    "list1 = [1, 2, 3]\n",
    "\n",
    "print(multiplyList(list1))\n",
    "\n"
   ]
  },
  {
   "cell_type": "markdown",
   "metadata": {},
   "source": [
    "<h1>4.Write a function in python to reverse a string"
   ]
  },
  {
   "cell_type": "code",
   "execution_count": 13,
   "metadata": {},
   "outputs": [
    {
     "name": "stdout",
     "output_type": "stream",
     "text": [
      "The original string is : This is a String\n",
      "The reversed string is : gnirtS a si sihT\n"
     ]
    }
   ],
   "source": [
    "def reverse(s):\n",
    "    str =\"\"\n",
    "    for i in s:\n",
    "        str = i + str\n",
    "    return str\n",
    "\n",
    "s = \"This is a String\"\n",
    "\n",
    "print (\"The original string is : \",end=\"\")\n",
    "print (s)\n",
    "\n",
    "print (\"The reversed string is : \",end=\"\")\n",
    "print (reverse(s))\n"
   ]
  },
  {
   "cell_type": "markdown",
   "metadata": {},
   "source": [
    "<h1>5.Write a function in python that takes a list and returns a new list with unique elements of the first list"
   ]
  },
  {
   "cell_type": "code",
   "execution_count": 14,
   "metadata": {},
   "outputs": [
    {
     "name": "stdout",
     "output_type": "stream",
     "text": [
      "[1, 2, 3, 4, 5, 6, 7, 8]\n"
     ]
    }
   ],
   "source": [
    "def unique_list(l):\n",
    "    x = []\n",
    "    for a in l:\n",
    "        if a not in x:\n",
    "            x.append(a)\n",
    "    return x\n",
    "\n",
    "print(unique_list([1,2,3,3,3,3,4,5,6,6,6,6,6,6,6,7,7,7,8,8,8]))"
   ]
  },
  {
   "cell_type": "markdown",
   "metadata": {},
   "source": [
    "<h1>6.Write a function in python that checks whether a passed string is palindrome or not"
   ]
  },
  {
   "cell_type": "code",
   "execution_count": 16,
   "metadata": {},
   "outputs": [
    {
     "name": "stdout",
     "output_type": "stream",
     "text": [
      "True\n"
     ]
    }
   ],
   "source": [
    "def isPalindrome(string):\n",
    "    left_pos = 0\n",
    "    right_pos = len(string) - 1\n",
    "    \n",
    "    while right_pos >= left_pos:\n",
    "        if not string[left_pos] == string[right_pos]:\n",
    "            return False\n",
    "        left_pos += 1\n",
    "        right_pos -= 1\n",
    "    return True\n",
    "print(isPalindrome('popop')) \n"
   ]
  },
  {
   "cell_type": "markdown",
   "metadata": {},
   "source": [
    "<h1> 7.Write a function in python to access a function inside a function"
   ]
  },
  {
   "cell_type": "code",
   "execution_count": 18,
   "metadata": {},
   "outputs": [
    {
     "name": "stdout",
     "output_type": "stream",
     "text": [
      "9\n"
     ]
    }
   ],
   "source": [
    "def test(a):\n",
    "    def add(b):\n",
    "        nonlocal a\n",
    "        a += 1\n",
    "        return a+b\n",
    "    return add\n",
    "func= test(4)\n",
    "print(func(4))\n"
   ]
  },
  {
   "cell_type": "markdown",
   "metadata": {},
   "source": [
    "<h1> 8.Write a function in python to generate even series upto the nth term"
   ]
  },
  {
   "cell_type": "code",
   "execution_count": 19,
   "metadata": {},
   "outputs": [
    {
     "name": "stdout",
     "output_type": "stream",
     "text": [
      "0 2 4 6 8 "
     ]
    }
   ],
   "source": [
    "def even_series_upto(n):\n",
    "    for i in range(0,n):\n",
    "        if i%2 ==0:\n",
    "            print(i, end=\" \")\n",
    "\n",
    "a=even_series_upto(10)    "
   ]
  },
  {
   "cell_type": "markdown",
   "metadata": {},
   "source": [
    "<h1>9.Write a function in python to check if a number is prime or not"
   ]
  },
  {
   "cell_type": "code",
   "execution_count": 20,
   "metadata": {},
   "outputs": [
    {
     "name": "stdout",
     "output_type": "stream",
     "text": [
      "False\n",
      "True\n"
     ]
    }
   ],
   "source": [
    "def isprime(num):\n",
    "    if num> 1:  \n",
    "        for n in range(2,num):  \n",
    "            if (num % n) == 0:  \n",
    "                return False\n",
    "        return True\n",
    "    else:\n",
    "        return False\n",
    "print(isprime(64))\n",
    "print(isprime(5))"
   ]
  },
  {
   "cell_type": "markdown",
   "metadata": {},
   "source": [
    "<h1>10. Write a function in python to generate prime series between range inputted by a user"
   ]
  },
  {
   "cell_type": "code",
   "execution_count": 29,
   "metadata": {},
   "outputs": [
    {
     "name": "stdout",
     "output_type": "stream",
     "text": [
      "Please, Enter the Lowest Range Value: 10\n",
      "Please, Enter the Upper Range Value: 20\n",
      "11\n",
      "13\n",
      "17\n",
      "19\n"
     ]
    }
   ],
   "source": [
    "def prime_range(lv,uv):\n",
    "    ll=lv\n",
    "    ul=uv\n",
    "    for number in range (ll, ul + 1):  \n",
    "        if number > 1:  \n",
    "            for i in range (2, number):  \n",
    "                if (number % i) == 0:  \n",
    "                    break  \n",
    "            else:  \n",
    "                print(number) \n",
    "\n",
    "\n",
    "l = int(input (\"Please, Enter the Lowest Range Value: \"))  \n",
    "u = int(input (\"Please, Enter the Upper Range Value: \"))  \n",
    "  \n",
    "prime_range(l,u)\n",
    "\n"
   ]
  },
  {
   "cell_type": "markdown",
   "metadata": {},
   "source": [
    "<h1>11.Write a recursive function in python to sum all the numbers in a list"
   ]
  },
  {
   "cell_type": "code",
   "execution_count": 30,
   "metadata": {},
   "outputs": [
    {
     "name": "stdout",
     "output_type": "stream",
     "text": [
      "25\n"
     ]
    }
   ],
   "source": [
    "def listsum(numList):\n",
    "    if len(numList) == 1:\n",
    "        return numList[0]\n",
    "    else:\n",
    "        return numList[0] + listsum(numList[1:])\n",
    "\n",
    "print(listsum([1,3,5,7,9]))"
   ]
  },
  {
   "cell_type": "markdown",
   "metadata": {},
   "source": [
    "<h1>12.Write a recursive function in python to multiply all the numbrers in a list"
   ]
  },
  {
   "cell_type": "code",
   "execution_count": 31,
   "metadata": {},
   "outputs": [
    {
     "name": "stdout",
     "output_type": "stream",
     "text": [
      "3 * 2 =  6\n"
     ]
    }
   ],
   "source": [
    "def multiply(x,y):\n",
    "    if  y == 0 :\n",
    "        return 0\n",
    "    elif y < 0:\n",
    "        return -(x - multiply(x,y+1))\n",
    "    else:\n",
    "        return x + multiply(x,y-1)\n",
    "    \n",
    "print(\"3 * 2 = \" ,multiply(3,2))"
   ]
  },
  {
   "cell_type": "markdown",
   "metadata": {},
   "source": [
    "<h1>13.Write a recursive function in python to reverse a string"
   ]
  },
  {
   "cell_type": "code",
   "execution_count": 33,
   "metadata": {},
   "outputs": [
    {
     "name": "stdout",
     "output_type": "stream",
     "text": [
      "Enter the string to be reversed: prerna taneja\n",
      "ajenat anrerp\n"
     ]
    }
   ],
   "source": [
    "def reverse(string):\n",
    "    if len(string) == 0:\n",
    "        return string\n",
    "    else:\n",
    "        return reverse(string[1:]) + string[0]\n",
    "a = str(input(\"Enter the string to be reversed: \"))\n",
    "print(reverse(a))"
   ]
  },
  {
   "cell_type": "markdown",
   "metadata": {},
   "source": [
    "<h1>14.Write a recursive function in python that takes a list and returns a new list with unique elements of the first list"
   ]
  },
  {
   "cell_type": "code",
   "execution_count": 8,
   "metadata": {},
   "outputs": [
    {
     "name": "stdout",
     "output_type": "stream",
     "text": [
      "[1, 2, 3, 4, 5]\n"
     ]
    }
   ],
   "source": [
    "#Using Recursion\n",
    "def unique_list(l):\n",
    "    x = []\n",
    "    for a in l:\n",
    "        if a not in x:\n",
    "            x.append(a)\n",
    "    return x\n",
    "\n",
    "print(unique_list([1,2,3,3,3,3,4,5])) \n"
   ]
  },
  {
   "cell_type": "markdown",
   "metadata": {},
   "source": [
    "<h1>15.Write a recursive function in python that checks whether a passed string is palindrome or not"
   ]
  },
  {
   "cell_type": "code",
   "execution_count": 9,
   "metadata": {},
   "outputs": [
    {
     "name": "stdout",
     "output_type": "stream",
     "text": [
      "Yes\n"
     ]
    }
   ],
   "source": [
    "\n",
    "def isPalRec(st, s, e) :\n",
    "    if (s == e):\n",
    "        return True\n",
    "\n",
    "\n",
    "    if (st[s] != st[e]) :\n",
    "        return False\n",
    "\n",
    "\n",
    "    if (s < e + 1) :\n",
    "        return isPalRec(st, s + 1, e - 1);\n",
    "\n",
    "    return True\n",
    "\n",
    "def isPalindrome(st) :\n",
    "    n = len(st)\n",
    "\n",
    "    if (n == 0) :\n",
    "        return True\n",
    "    return isPalRec(st, 0, n - 1);\n",
    "\n",
    "st = \"malayalam\"\n",
    "if (isPalindrome(st)) :\n",
    "    print (\"Yes\")\n",
    "else :\n",
    "    print (\"No\")\n"
   ]
  },
  {
   "cell_type": "markdown",
   "metadata": {},
   "source": [
    "<h1>16.Write a recursive function in python to generate even series upto the nth term"
   ]
  },
  {
   "cell_type": "code",
   "execution_count": 12,
   "metadata": {},
   "outputs": [
    {
     "name": "stdout",
     "output_type": "stream",
     "text": [
      "2\n",
      "4\n",
      "6\n",
      "8\n",
      "10\n"
     ]
    }
   ],
   "source": [
    "def printeven(i,N): \n",
    "    if(i<=N):\n",
    "        if i%2==0:\n",
    "            print(i) \n",
    "        printeven(i+1,N) \n",
    "        \n",
    "printeven(1,10)"
   ]
  },
  {
   "cell_type": "markdown",
   "metadata": {},
   "source": [
    "<h1>17.Write a recursive function in python to check if a number is prime or not"
   ]
  },
  {
   "cell_type": "code",
   "execution_count": 13,
   "metadata": {},
   "outputs": [
    {
     "name": "stdout",
     "output_type": "stream",
     "text": [
      "Enter a number to check if it is prime:121\n",
      "No\n"
     ]
    }
   ],
   "source": [
    "\n",
    "def isPrime(n, i = 2):\n",
    "\n",
    "    if (n <= 2):\n",
    "        return True if(n == 2) else False\n",
    "    if (n % i == 0):\n",
    "        return False\n",
    "    if (i * i > n):\n",
    "        return true\n",
    "    return isPrime(n, i + 1)\n",
    "\n",
    "n = int(input(\"Enter a number to check if it is prime:\"))\n",
    "if (isPrime(n)):\n",
    "    print(\"Yes\")\n",
    "else:\n",
    "    print(\"No\")\n",
    "\n"
   ]
  },
  {
   "cell_type": "markdown",
   "metadata": {},
   "source": [
    "<h1>18.Write a recursive function in python to generate prime series between range inputted by a user"
   ]
  },
  {
   "cell_type": "code",
   "execution_count": 14,
   "metadata": {},
   "outputs": [
    {
     "name": "stdout",
     "output_type": "stream",
     "text": [
      "Enter Number upto which you want to generate primes:15\n",
      "Prime Number Between 1 to n are: \n",
      "2 3 5 7 11 13 "
     ]
    }
   ],
   "source": [
    "def CheckPrime(i,num):\n",
    "    if num==i:\n",
    "        return 0\n",
    "    else:\n",
    "        if(num%i==0):\n",
    "            return 1\n",
    "        else:\n",
    "            return CheckPrime(i+1,num)\n",
    "n=int(input(\"Enter Number upto which you want to generate primes:\"))\n",
    "print(\"Prime Number Between 1 to n are: \")\n",
    "for i in range(2,n+1):\n",
    "    if(CheckPrime(2,i)==0):\n",
    "        print(i,end=\" \")"
   ]
  },
  {
   "cell_type": "code",
   "execution_count": null,
   "metadata": {},
   "outputs": [],
   "source": []
  }
 ],
 "metadata": {
  "kernelspec": {
   "display_name": "Python 3 (ipykernel)",
   "language": "python",
   "name": "python3"
  },
  "language_info": {
   "codemirror_mode": {
    "name": "ipython",
    "version": 3
   },
   "file_extension": ".py",
   "mimetype": "text/x-python",
   "name": "python",
   "nbconvert_exporter": "python",
   "pygments_lexer": "ipython3",
   "version": "3.9.7"
  }
 },
 "nbformat": 4,
 "nbformat_minor": 2
}

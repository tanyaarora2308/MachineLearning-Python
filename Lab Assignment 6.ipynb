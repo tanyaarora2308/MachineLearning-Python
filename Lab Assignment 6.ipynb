{
 "cells": [
  {
   "cell_type": "markdown",
   "metadata": {},
   "source": [
    "<h1>Lab Assignment 6"
   ]
  },
  {
   "cell_type": "code",
   "execution_count": 4,
   "metadata": {},
   "outputs": [
    {
     "data": {
      "text/plain": [
       "35"
      ]
     },
     "execution_count": 4,
     "metadata": {},
     "output_type": "execute_result"
    }
   ],
   "source": [
    "f = open(\"Hello.txt\",\"w\")  #Open a file in a write mode\n",
    "f.write(\"This is my first line of the file\\n\")\n",
    "f.write(\"This is the second line of the file\")"
   ]
  },
  {
   "cell_type": "code",
   "execution_count": 5,
   "metadata": {},
   "outputs": [],
   "source": [
    "f.close()"
   ]
  },
  {
   "cell_type": "code",
   "execution_count": 8,
   "metadata": {},
   "outputs": [
    {
     "name": "stdout",
     "output_type": "stream",
     "text": [
      "This is my first line of the file\n",
      "\n",
      "This is the second line of the file\n"
     ]
    }
   ],
   "source": [
    "f = open(\"Hello.txt\",\"r\")  #Open a file in a read mode\n",
    "for line in f:\n",
    "    print(line)\n",
    "f.close()"
   ]
  },
  {
   "cell_type": "code",
   "execution_count": 14,
   "metadata": {},
   "outputs": [
    {
     "name": "stdout",
     "output_type": "stream",
     "text": [
      "T\n",
      "h\n",
      "i\n",
      "s\n",
      " \n",
      "i\n",
      "s\n",
      " \n",
      "m\n",
      "y\n",
      " \n",
      "f\n",
      "i\n",
      "r\n",
      "s\n",
      "t\n",
      " \n",
      "l\n",
      "i\n",
      "n\n",
      "e\n",
      " \n",
      "o\n",
      "f\n",
      " \n",
      "t\n",
      "h\n",
      "e\n",
      " \n",
      "f\n",
      "i\n",
      "l\n",
      "e\n",
      "\n",
      "\n",
      "T\n",
      "h\n",
      "i\n",
      "s\n",
      " \n",
      "i\n",
      "s\n",
      " \n",
      "t\n",
      "h\n",
      "e\n",
      " \n",
      "s\n",
      "e\n",
      "c\n",
      "o\n",
      "n\n",
      "d\n",
      " \n",
      "l\n",
      "i\n",
      "n\n",
      "e\n",
      " \n",
      "o\n",
      "f\n",
      " \n",
      "t\n",
      "h\n",
      "e\n",
      " \n",
      "f\n",
      "i\n",
      "l\n",
      "e\n"
     ]
    }
   ],
   "source": [
    "f = open(\"Hello.txt\",\"r\")\n",
    "fo = f.read()    #Reads the entire file in one go\n",
    "for i in fo:\n",
    "    print(i)\n",
    "f.close()"
   ]
  },
  {
   "cell_type": "code",
   "execution_count": 13,
   "metadata": {},
   "outputs": [
    {
     "name": "stdout",
     "output_type": "stream",
     "text": [
      "This is my first line of the file\n",
      "\n"
     ]
    }
   ],
   "source": [
    "f = open(\"Hello.txt\",\"r\")\n",
    "print(f.readline())    #Reads the one line at a time\n",
    "f.close()"
   ]
  },
  {
   "cell_type": "code",
   "execution_count": 15,
   "metadata": {},
   "outputs": [
    {
     "name": "stdout",
     "output_type": "stream",
     "text": [
      "T\n",
      "h\n",
      "i\n",
      "s\n",
      " \n",
      "i\n",
      "s\n",
      " \n",
      "m\n",
      "y\n",
      " \n",
      "f\n",
      "i\n",
      "r\n",
      "s\n",
      "t\n",
      " \n",
      "l\n",
      "i\n",
      "n\n",
      "e\n",
      " \n",
      "o\n",
      "f\n",
      " \n",
      "t\n",
      "h\n",
      "e\n",
      " \n",
      "f\n",
      "i\n",
      "l\n",
      "e\n",
      "\n",
      "\n",
      "T\n",
      "h\n",
      "i\n",
      "s\n",
      " \n",
      "i\n",
      "s\n",
      " \n",
      "t\n",
      "h\n",
      "e\n",
      " \n",
      "s\n",
      "e\n",
      "c\n",
      "o\n",
      "n\n",
      "d\n",
      " \n",
      "l\n",
      "i\n",
      "n\n",
      "e\n",
      " \n",
      "o\n",
      "f\n",
      " \n",
      "t\n",
      "h\n",
      "e\n",
      " \n",
      "f\n",
      "i\n",
      "l\n",
      "e\n"
     ]
    }
   ],
   "source": [
    "f = open(\"Hello.txt\",\"r\")\n",
    "for i in f.read():\n",
    "    print(i)\n",
    "f.close()"
   ]
  },
  {
   "cell_type": "code",
   "execution_count": 16,
   "metadata": {},
   "outputs": [],
   "source": [
    "f = open(\"Hello.txt\",\"a\")   #Open a file in a append mode\n",
    "f.write(\"This is a text written by append\")\n",
    "f.close()"
   ]
  },
  {
   "cell_type": "code",
   "execution_count": 18,
   "metadata": {},
   "outputs": [],
   "source": [
    "f = open(\"Hello.txt\",\"a\")\n",
    "f.write(\"\\nThis is a text written by append\\n\")\n",
    "f.close()"
   ]
  },
  {
   "cell_type": "code",
   "execution_count": 19,
   "metadata": {},
   "outputs": [
    {
     "name": "stdout",
     "output_type": "stream",
     "text": [
      "This is my first line of the file\n",
      "\n"
     ]
    }
   ],
   "source": [
    "f = open(\"Hello.txt\",\"r+\")   #Open a file in a read/write mode\n",
    "print(f.readline())\n",
    "f.write(\"\\nThis is a text written by read+write\\n\")\n",
    "f.close()"
   ]
  },
  {
   "cell_type": "markdown",
   "metadata": {},
   "source": [
    "# Lab 6\n",
    "1. WAP to read a file and print the number of characters, words and lines it has\n",
    "2. WAP to copy contents of one file into another file\n",
    "3. WAP to read a file and count the number of vowels it has\n",
    "4. WAP to read a file and count the number of articles it has\n",
    "5. WAP to read a file reverse the contents of file (last line of the file should become the first line of the file)"
   ]
  },
  {
   "cell_type": "markdown",
   "metadata": {},
   "source": [
    "<h1> 1. WAP to read a file and print the number of characters, words and lines it has"
   ]
  },
  {
   "cell_type": "code",
   "execution_count": 2,
   "metadata": {},
   "outputs": [
    {
     "name": "stdout",
     "output_type": "stream",
     "text": [
      "lines: 12 \n",
      "words: 24 \n",
      "characters: 131\n"
     ]
    }
   ],
   "source": [
    "file = open(\"sample.txt\", \"r\")\n",
    "\n",
    "number_of_lines = 0\n",
    "number_of_words = 0\n",
    "number_of_characters = 0\n",
    "for line in file:\n",
    "    line = line.strip(\"\\n\")\n",
    "##won't count \\n as character\n",
    "    words = line.split()\n",
    "    number_of_lines += 1\n",
    "    number_of_words += len(words)\n",
    "    number_of_characters += len(line)\n",
    "\n",
    "file.close()\n",
    "\n",
    "print(\"lines:\", number_of_lines, \"\\nwords:\", number_of_words, \"\\ncharacters:\", number_of_characters)"
   ]
  },
  {
   "cell_type": "markdown",
   "metadata": {},
   "source": [
    "<h1> 2.WAP to copy contents of one file into another file"
   ]
  },
  {
   "cell_type": "code",
   "execution_count": 4,
   "metadata": {},
   "outputs": [
    {
     "name": "stdout",
     "output_type": "stream",
     "text": [
      "\n",
      "File Copied Successfully!\n"
     ]
    }
   ],
   "source": [
    "fileHandle = open(\"sample.txt\", \"r\")\n",
    "texts = fileHandle.readlines()\n",
    "fileHandle.close()\n",
    "\n",
    "fileHandle = open(\"sample2.txt\", \"w\")\n",
    "for s in texts:\n",
    "    fileHandle.write(s)\n",
    "fileHandle.close()\n",
    "\n",
    "print(\"\\nFile Copied Successfully!\")"
   ]
  },
  {
   "cell_type": "markdown",
   "metadata": {},
   "source": [
    "<h1> 3.WAP to read a file and count the number of vowels it has"
   ]
  },
  {
   "cell_type": "code",
   "execution_count": 5,
   "metadata": {},
   "outputs": [
    {
     "name": "stdout",
     "output_type": "stream",
     "text": [
      "Enter the Name of File: \n",
      "sample.txt\n",
      "\n",
      "Total Vowels are:\n",
      "53\n"
     ]
    }
   ],
   "source": [
    "print(\"Enter the Name of File: \")\n",
    "fileName = str(input())\n",
    "fileHandle = open(fileName, \"r\")\n",
    "tot = 0\n",
    "vowels = ['a', 'e', 'i', 'o', 'u', 'A', 'E', 'I', 'O', 'U']\n",
    "\n",
    "for char in fileHandle.read():\n",
    "    if char in vowels:\n",
    "        tot= tot+1\n",
    "fileHandle.close()\n",
    "\n",
    "print(\"\\nTotal Vowels are:\")\n",
    "print(tot)"
   ]
  },
  {
   "cell_type": "markdown",
   "metadata": {},
   "source": [
    "<h1>4.WAP to read a file and count the number of articles it has"
   ]
  },
  {
   "cell_type": "code",
   "execution_count": 24,
   "metadata": {},
   "outputs": [
    {
     "name": "stdout",
     "output_type": "stream",
     "text": [
      "\n",
      "Total no. of Articles in file are:\n",
      "3\n"
     ]
    }
   ],
   "source": [
    "\n",
    "\n",
    "fileHandle = open(\"sample.txt\", \"r\")\n",
    "tot=0\n",
    "articles = ['a', 'A', 'an', 'An', 'the', 'The']\n",
    "\n",
    "\n",
    "data=fileHandle.read()\n",
    "\n",
    "for char in data.split(\" \") :\n",
    "    if char in articles:\n",
    "        tot= tot+1\n",
    "\n",
    "fileHandle.close()\n",
    "print(\"\\nTotal no. of Articles in file are:\")\n",
    "\n",
    "print(tot)\n"
   ]
  },
  {
   "cell_type": "markdown",
   "metadata": {},
   "source": [
    "<h1> 5.WAP to read a file reverse the contents of file (last line of the file should become the first line of the file)`\n"
   ]
  },
  {
   "cell_type": "code",
   "execution_count": 14,
   "metadata": {},
   "outputs": [
    {
     "name": "stdout",
     "output_type": "stream",
     "text": [
      "Goodbye :)\n",
      "\n",
      "Hello Again\n",
      "\n",
      "Hello World\n",
      "\n",
      "Hello World\n",
      "\n",
      "Hello World\n",
      "\n",
      "Hello World\n",
      "\n",
      "Hello World\n",
      "\n",
      "Hello World\n",
      "\n",
      "Hello World\n",
      "\n",
      "Hello World\n",
      "\n",
      "Hello World\n",
      "\n",
      "Hello World\n",
      "\n"
     ]
    }
   ],
   "source": [
    "#reversing line wise\n",
    "textfile = open(\"sample2.txt\")\n",
    "lines = textfile.readlines()\n",
    "for line in reversed(lines):\n",
    "    print(line)\n",
    "textfile.close()"
   ]
  },
  {
   "cell_type": "code",
   "execution_count": null,
   "metadata": {},
   "outputs": [],
   "source": []
  }
 ],
 "metadata": {
  "kernelspec": {
   "display_name": "Python 3 (ipykernel)",
   "language": "python",
   "name": "python3"
  },
  "language_info": {
   "codemirror_mode": {
    "name": "ipython",
    "version": 3
   },
   "file_extension": ".py",
   "mimetype": "text/x-python",
   "name": "python",
   "nbconvert_exporter": "python",
   "pygments_lexer": "ipython3",
   "version": "3.9.7"
  }
 },
 "nbformat": 4,
 "nbformat_minor": 4
}

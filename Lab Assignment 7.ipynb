{
 "cells": [
  {
   "cell_type": "markdown",
   "metadata": {},
   "source": [
    "<h1>Lab Assignment 7"
   ]
  },
  {
   "cell_type": "code",
   "execution_count": 2,
   "metadata": {},
   "outputs": [],
   "source": [
    "teachers = {\"Nisheeth\" : \"AIML\", \"Saurabh\" : \"SE\", \"Monika\" : \"DCN\", \"Dipanwita\" : \"AIML\", \"Vibhav\" : \"SE\"}"
   ]
  },
  {
   "cell_type": "code",
   "execution_count": 3,
   "metadata": {},
   "outputs": [],
   "source": [
    "DayMonths = {\"Januray\" : 31, \"February\" : 28, \"March\" : 31, \"April\" : 30, \"May\" : 31, \"June\" : 30, \"July\" : 31, \"August\" : 31, \"September\" : 30, \"October\" : 31, \"November\" : 30, \"December\" : 31}"
   ]
  },
  {
   "cell_type": "code",
   "execution_count": 4,
   "metadata": {},
   "outputs": [
    {
     "data": {
      "text/plain": [
       "'AIML'"
      ]
     },
     "execution_count": 4,
     "metadata": {},
     "output_type": "execute_result"
    }
   ],
   "source": [
    "teachers[\"Nisheeth\"]"
   ]
  },
  {
   "cell_type": "code",
   "execution_count": 5,
   "metadata": {},
   "outputs": [
    {
     "name": "stdout",
     "output_type": "stream",
     "text": [
      "Nisheeth teachs  AIML\n"
     ]
    }
   ],
   "source": [
    "print(\"Nisheeth teachs \", teachers[\"Nisheeth\"])"
   ]
  },
  {
   "cell_type": "code",
   "execution_count": 6,
   "metadata": {},
   "outputs": [],
   "source": [
    "vow = {\"V1\":\"a\", \"V2\":\"e\", \"V3\":\"i\", \"V4\":\"o\", \"V5\":\"u\"}"
   ]
  },
  {
   "cell_type": "code",
   "execution_count": 7,
   "metadata": {},
   "outputs": [
    {
     "data": {
      "text/plain": [
       "'a'"
      ]
     },
     "execution_count": 7,
     "metadata": {},
     "output_type": "execute_result"
    }
   ],
   "source": [
    "vow[\"V1\"]"
   ]
  },
  {
   "cell_type": "code",
   "execution_count": 8,
   "metadata": {},
   "outputs": [
    {
     "ename": "KeyError",
     "evalue": "'a'",
     "output_type": "error",
     "traceback": [
      "\u001b[0;31m---------------------------------------------------------------------------\u001b[0m",
      "\u001b[0;31mKeyError\u001b[0m                                  Traceback (most recent call last)",
      "\u001b[0;32m<ipython-input-8-8577a4e8797b>\u001b[0m in \u001b[0;36m<module>\u001b[0;34m\u001b[0m\n\u001b[0;32m----> 1\u001b[0;31m \u001b[0mvow\u001b[0m\u001b[0;34m[\u001b[0m\u001b[0;34m\"a\"\u001b[0m\u001b[0;34m]\u001b[0m\u001b[0;34m\u001b[0m\u001b[0;34m\u001b[0m\u001b[0m\n\u001b[0m",
      "\u001b[0;31mKeyError\u001b[0m: 'a'"
     ]
    }
   ],
   "source": [
    "vow[\"a\"]"
   ]
  },
  {
   "cell_type": "code",
   "execution_count": 9,
   "metadata": {},
   "outputs": [
    {
     "name": "stdout",
     "output_type": "stream",
     "text": [
      "V1 : a\n",
      "V2 : e\n",
      "V3 : i\n",
      "V4 : o\n",
      "V5 : u\n"
     ]
    }
   ],
   "source": [
    "for key in vow:\n",
    "    print(key, \":\", vow[key])"
   ]
  },
  {
   "cell_type": "code",
   "execution_count": 10,
   "metadata": {},
   "outputs": [
    {
     "data": {
      "text/plain": [
       "dict_keys(['V1', 'V2', 'V3', 'V4', 'V5'])"
      ]
     },
     "execution_count": 10,
     "metadata": {},
     "output_type": "execute_result"
    }
   ],
   "source": [
    "vow.keys()"
   ]
  },
  {
   "cell_type": "code",
   "execution_count": 11,
   "metadata": {},
   "outputs": [
    {
     "data": {
      "text/plain": [
       "dict_values(['a', 'e', 'i', 'o', 'u'])"
      ]
     },
     "execution_count": 11,
     "metadata": {},
     "output_type": "execute_result"
    }
   ],
   "source": [
    "vow.values()"
   ]
  },
  {
   "cell_type": "code",
   "execution_count": 12,
   "metadata": {},
   "outputs": [],
   "source": [
    "Emp = {}"
   ]
  },
  {
   "cell_type": "code",
   "execution_count": 13,
   "metadata": {},
   "outputs": [],
   "source": [
    "Em = dict()"
   ]
  },
  {
   "cell_type": "code",
   "execution_count": 14,
   "metadata": {},
   "outputs": [
    {
     "data": {
      "text/plain": [
       "dict"
      ]
     },
     "execution_count": 14,
     "metadata": {},
     "output_type": "execute_result"
    }
   ],
   "source": [
    "type(Emp)"
   ]
  },
  {
   "cell_type": "code",
   "execution_count": 15,
   "metadata": {},
   "outputs": [
    {
     "data": {
      "text/plain": [
       "dict"
      ]
     },
     "execution_count": 15,
     "metadata": {},
     "output_type": "execute_result"
    }
   ],
   "source": [
    "type(Em)"
   ]
  },
  {
   "cell_type": "code",
   "execution_count": 16,
   "metadata": {},
   "outputs": [],
   "source": [
    "Stud = dict(name=\"Karishma\", course=\"AIML\", marks=90)"
   ]
  },
  {
   "cell_type": "code",
   "execution_count": 17,
   "metadata": {},
   "outputs": [
    {
     "data": {
      "text/plain": [
       "{'name': 'Karishma', 'course': 'AIML', 'marks': 90}"
      ]
     },
     "execution_count": 17,
     "metadata": {},
     "output_type": "execute_result"
    }
   ],
   "source": [
    "Stud"
   ]
  },
  {
   "cell_type": "code",
   "execution_count": 19,
   "metadata": {},
   "outputs": [],
   "source": [
    "Stud['Stream']=\"CS\""
   ]
  },
  {
   "cell_type": "code",
   "execution_count": 20,
   "metadata": {},
   "outputs": [
    {
     "data": {
      "text/plain": [
       "{'name': 'Karishma', 'course': 'AIML', 'marks': 90, 'Stream': 'CS'}"
      ]
     },
     "execution_count": 20,
     "metadata": {},
     "output_type": "execute_result"
    }
   ],
   "source": [
    "Stud"
   ]
  },
  {
   "cell_type": "code",
   "execution_count": 22,
   "metadata": {},
   "outputs": [],
   "source": [
    "Stud[\"marks\"] = 95"
   ]
  },
  {
   "cell_type": "code",
   "execution_count": 23,
   "metadata": {},
   "outputs": [
    {
     "data": {
      "text/plain": [
       "{'name': 'Karishma', 'course': 'AIML', 'marks': 95, 'Stream': 'CS'}"
      ]
     },
     "execution_count": 23,
     "metadata": {},
     "output_type": "execute_result"
    }
   ],
   "source": [
    "Stud"
   ]
  },
  {
   "cell_type": "code",
   "execution_count": 24,
   "metadata": {},
   "outputs": [],
   "source": [
    "del Stud[\"course\"]"
   ]
  },
  {
   "cell_type": "code",
   "execution_count": 25,
   "metadata": {},
   "outputs": [
    {
     "data": {
      "text/plain": [
       "{'name': 'Karishma', 'marks': 95, 'Stream': 'CS'}"
      ]
     },
     "execution_count": 25,
     "metadata": {},
     "output_type": "execute_result"
    }
   ],
   "source": [
    "Stud"
   ]
  },
  {
   "cell_type": "code",
   "execution_count": 27,
   "metadata": {},
   "outputs": [
    {
     "data": {
      "text/plain": [
       "True"
      ]
     },
     "execution_count": 27,
     "metadata": {},
     "output_type": "execute_result"
    }
   ],
   "source": [
    "\"marks\" in Stud"
   ]
  },
  {
   "cell_type": "code",
   "execution_count": 28,
   "metadata": {},
   "outputs": [
    {
     "data": {
      "text/plain": [
       "False"
      ]
     },
     "execution_count": 28,
     "metadata": {},
     "output_type": "execute_result"
    }
   ],
   "source": [
    "\"marks\" not in Stud"
   ]
  },
  {
   "cell_type": "code",
   "execution_count": 29,
   "metadata": {},
   "outputs": [
    {
     "data": {
      "text/plain": [
       "True"
      ]
     },
     "execution_count": 29,
     "metadata": {},
     "output_type": "execute_result"
    }
   ],
   "source": [
    "\"CS\" in Stud.values()"
   ]
  },
  {
   "cell_type": "code",
   "execution_count": 30,
   "metadata": {},
   "outputs": [
    {
     "name": "stdout",
     "output_type": "stream",
     "text": [
      "{'name': 'Karishma', 'marks': 95, 'Stream': 'CS'}\n"
     ]
    }
   ],
   "source": [
    "print(Stud)"
   ]
  },
  {
   "cell_type": "code",
   "execution_count": 31,
   "metadata": {},
   "outputs": [
    {
     "data": {
      "text/plain": [
       "3"
      ]
     },
     "execution_count": 31,
     "metadata": {},
     "output_type": "execute_result"
    }
   ],
   "source": [
    "len(Stud)"
   ]
  },
  {
   "cell_type": "code",
   "execution_count": 32,
   "metadata": {},
   "outputs": [
    {
     "data": {
      "text/plain": [
       "{'marks': 95}"
      ]
     },
     "execution_count": 32,
     "metadata": {},
     "output_type": "execute_result"
    }
   ],
   "source": [
    "Emp"
   ]
  },
  {
   "cell_type": "code",
   "execution_count": 33,
   "metadata": {},
   "outputs": [],
   "source": [
    "Emp.clear()"
   ]
  },
  {
   "cell_type": "code",
   "execution_count": 34,
   "metadata": {},
   "outputs": [
    {
     "data": {
      "text/plain": [
       "{}"
      ]
     },
     "execution_count": 34,
     "metadata": {},
     "output_type": "execute_result"
    }
   ],
   "source": [
    "Emp"
   ]
  },
  {
   "cell_type": "code",
   "execution_count": 35,
   "metadata": {},
   "outputs": [
    {
     "data": {
      "text/plain": [
       "'CS'"
      ]
     },
     "execution_count": 35,
     "metadata": {},
     "output_type": "execute_result"
    }
   ],
   "source": [
    "Stud.get(\"Stream\")"
   ]
  },
  {
   "cell_type": "code",
   "execution_count": 36,
   "metadata": {},
   "outputs": [],
   "source": [
    "Stud.get(\"Course\")"
   ]
  },
  {
   "cell_type": "code",
   "execution_count": 37,
   "metadata": {},
   "outputs": [
    {
     "data": {
      "text/plain": [
       "'Not Available'"
      ]
     },
     "execution_count": 37,
     "metadata": {},
     "output_type": "execute_result"
    }
   ],
   "source": [
    "Stud.get(\"Course\",\"Not Available\")"
   ]
  },
  {
   "cell_type": "code",
   "execution_count": 38,
   "metadata": {},
   "outputs": [
    {
     "data": {
      "text/plain": [
       "dict_items([('name', 'Karishma'), ('marks', 95), ('Stream', 'CS')])"
      ]
     },
     "execution_count": 38,
     "metadata": {},
     "output_type": "execute_result"
    }
   ],
   "source": [
    "Stud.items()"
   ]
  },
  {
   "cell_type": "code",
   "execution_count": 39,
   "metadata": {},
   "outputs": [],
   "source": [
    "lst = Stud.items()"
   ]
  },
  {
   "cell_type": "code",
   "execution_count": 40,
   "metadata": {},
   "outputs": [
    {
     "data": {
      "text/plain": [
       "dict_items([('name', 'Karishma'), ('marks', 95), ('Stream', 'CS')])"
      ]
     },
     "execution_count": 40,
     "metadata": {},
     "output_type": "execute_result"
    }
   ],
   "source": [
    "lst"
   ]
  },
  {
   "cell_type": "code",
   "execution_count": 41,
   "metadata": {},
   "outputs": [
    {
     "name": "stdout",
     "output_type": "stream",
     "text": [
      "('name', 'Karishma')\n",
      "('marks', 95)\n",
      "('Stream', 'CS')\n"
     ]
    }
   ],
   "source": [
    "for i in lst:\n",
    "    print(i)"
   ]
  },
  {
   "cell_type": "code",
   "execution_count": 42,
   "metadata": {},
   "outputs": [],
   "source": [
    "St=dict()"
   ]
  },
  {
   "cell_type": "code",
   "execution_count": 43,
   "metadata": {},
   "outputs": [
    {
     "data": {
      "text/plain": [
       "{}"
      ]
     },
     "execution_count": 43,
     "metadata": {},
     "output_type": "execute_result"
    }
   ],
   "source": [
    "St"
   ]
  },
  {
   "cell_type": "code",
   "execution_count": 44,
   "metadata": {},
   "outputs": [],
   "source": [
    "St.update(Stud)"
   ]
  },
  {
   "cell_type": "code",
   "execution_count": 45,
   "metadata": {},
   "outputs": [
    {
     "data": {
      "text/plain": [
       "{'name': 'Karishma', 'marks': 95, 'Stream': 'CS'}"
      ]
     },
     "execution_count": 45,
     "metadata": {},
     "output_type": "execute_result"
    }
   ],
   "source": [
    "St"
   ]
  },
  {
   "cell_type": "markdown",
   "metadata": {},
   "source": [
    "## Lab 7\n",
    "1. WAP to create a dictionary containing names of your friends as keys and their surnames as values\n",
    "2. WAP to create marks of five students in tree subjects in five saperate dictionaries then create a nested dictionary which stores these five dictionaries and prints results of all the students\n",
    "3. WAP to create marks of five students in tree subjects in five saperate dictionaries, add their marks and store it in their respective dictionaries.\n",
    "4. WAP to create marks of five students in tree subjects in five saperate dictionaries, add find who got highest marks in which subject.\n",
    "5. WAP to repeatitively asks a user for student name and marks. Store all of these in a dictionary whose keys are student names and values are marks\n",
    "6. WAP to create a dictionary with month names as keys and no. of days as values. \n",
    "    a. Ask user to input month name and print the no. of days it has\n",
    "    b. Print all the months with 30 days\n",
    "7. WAP to store details of 10 students in a dictionary with keys RollNo, Name, Marks, CGPA\n",
    "8. You have a dictioanry d1 = {\"k1\":\"v1\",\"k2\":\"v2\",\"k3\":\"v3\",\"k4\":\"v4\",\"k5\":\"v5\"}. WAP to reverse this i.e keys should become values and values should become keys. The result should be d2 = {\"v5\":\"k5\",\"v4\":\"k4\",\"v3\":\"k3\",\"v2\":\"k2\",\"v1\":\"k1\"}\n",
    "9. WAP to input two dictionaries and print the overlapping keys in them.\n",
    "10. WAP to check if two same values in a dictionary has different keys."
   ]
  },
  {
   "cell_type": "markdown",
   "metadata": {},
   "source": [
    "<h1> 1. WAP to create a dictionary containing names of your friends as keys and their surnames as values"
   ]
  },
  {
   "cell_type": "code",
   "execution_count": 2,
   "metadata": {},
   "outputs": [
    {
     "name": "stdout",
     "output_type": "stream",
     "text": [
      "{'Priya': 'Singh', 'Vertika': 'Garg', 'Simran': 'Sachdeva'}\n"
     ]
    }
   ],
   "source": [
    "friends = {\"Priya\" : \"Singh\", \"Vertika\" : \"Garg\", \"Simran\" : \"Sachdeva\"}\n",
    "print(friends)"
   ]
  },
  {
   "cell_type": "markdown",
   "metadata": {},
   "source": [
    "<h1> 2. WAP to create marks of five students in tree subjects in five saperate dictionaries then create a nested dictionary which stores these five dictionaries and prints results of all the students"
   ]
  },
  {
   "cell_type": "code",
   "execution_count": 2,
   "metadata": {},
   "outputs": [
    {
     "name": "stdout",
     "output_type": "stream",
     "text": [
      "{'student1': {'English': 84, 'Maths': 84, 'Science': 50}, 'student2': {'English': 74, 'Maths': 44, 'Science': 60}, 'student3': {'English': 55, 'Maths': 14, 'Science': 60}, 'student4': {'English': 64, 'Maths': 24, 'Science': 10}, 'student5': {'English': 44, 'Maths': 84, 'Science': 20}}\n"
     ]
    }
   ],
   "source": [
    "dict1={\"English\":84, \"Maths\":84, \"Science\":50}\n",
    "dict2={\"English\":74, \"Maths\":44, \"Science\":60}\n",
    "dict3={\"English\":55, \"Maths\":14, \"Science\":60}\n",
    "dict4={\"English\":64, \"Maths\":24, \"Science\":10}\n",
    "dict5={\"English\":44, \"Maths\":84, \"Science\":20}\n",
    "Final={\"student1\":dict1, \"student2\":dict2, \"student3\":dict3,\"student4\":dict4,\"student5\":dict5}\n",
    "print(Final)"
   ]
  },
  {
   "cell_type": "markdown",
   "metadata": {},
   "source": [
    "<h1>3.WAP to create marks of five students in tree subjects in five saperate dictionaries, add their marks and store it in their respective dictionaries."
   ]
  },
  {
   "cell_type": "code",
   "execution_count": 3,
   "metadata": {},
   "outputs": [],
   "source": [
    "dict1={\"English\":84, \"Maths\":84, \"Science\":50}\n",
    "dict2={\"English\":74, \"Maths\":44, \"Science\":60}\n",
    "dict3={\"English\":55, \"Maths\":14, \"Science\":60}\n",
    "dict4={\"English\":64, \"Maths\":24, \"Science\":10}\n",
    "dict5={\"English\":44, \"Maths\":84, \"Science\":20} \n"
   ]
  },
  {
   "cell_type": "markdown",
   "metadata": {},
   "source": [
    "<h1> 4.WAP to create marks of five students in tree subjects in five saperate dictionaries, add find who got highest marks in which subject."
   ]
  },
  {
   "cell_type": "code",
   "execution_count": null,
   "metadata": {},
   "outputs": [],
   "source": []
  },
  {
   "cell_type": "markdown",
   "metadata": {},
   "source": [
    "<h1>5.WAP to repeatitively asks a user for student name and marks. Store all of these in a dictionary whose keys are student names and values are marks"
   ]
  },
  {
   "cell_type": "code",
   "execution_count": 8,
   "metadata": {},
   "outputs": [
    {
     "name": "stdout",
     "output_type": "stream",
     "text": [
      "enter name of student (enter q for quit )= Prerna\n",
      "enter your marks = 100\n",
      "enter name of student (enter q for quit )= AbcXyz\n",
      "enter your marks = 54\n",
      "enter name of student (enter q for quit )= q\n",
      "{'Prerna': 100, 'AbcXyz': 54}\n"
     ]
    }
   ],
   "source": [
    "dic = { }\n",
    "\n",
    "while True :\n",
    "    name = input(\"enter name of student (enter q for quit )= \")\n",
    "    if name == \"q\" or name == \"Q\" :\n",
    "        break\n",
    "    else :\n",
    "        marks = int(input(\"enter your marks = \"))\n",
    "        dic [ name ] = marks\n",
    "\n",
    "print(dic)\n",
    "\n"
   ]
  },
  {
   "cell_type": "markdown",
   "metadata": {},
   "source": [
    "<h1>6.WAP to create a dictionary with month names as keys and no. of days as values. a. Ask user to input month name and print the no. of days it has b. Print all the months with 30 days"
   ]
  },
  {
   "cell_type": "code",
   "execution_count": 9,
   "metadata": {},
   "outputs": [
    {
     "name": "stdout",
     "output_type": "stream",
     "text": [
      "Enter the month name in short form :- feb\n",
      "Number of days in  feb = 28\n"
     ]
    }
   ],
   "source": [
    "month = { \"jan\" : 31 , \"feb\" : 28 , \"march\" : 31 , \"april\" : 30 , \"may\" : 31 , \"june\" : 30 , \"july\" : 31 , \"aug\" : 31 , \"sept\" : 30 , \"oct\" : 31 , \"nov\" : 30 , \"dec\" : 31}\n",
    "\n",
    "mon = input(\"Enter the month name in short form :- \")\n",
    "print(\"Number of days in \",mon,\"=\",month [ mon ])"
   ]
  },
  {
   "cell_type": "code",
   "execution_count": 10,
   "metadata": {},
   "outputs": [
    {
     "name": "stdout",
     "output_type": "stream",
     "text": [
      "Month which have 30 days !!-- \n",
      "april\n",
      "june\n",
      "sept\n",
      "nov\n"
     ]
    }
   ],
   "source": [
    "month = { \"jan\" : 31 , \"feb\" : 28 , \"march\" : 31 , \"april\" : 30 , \"may\" : 31 , \"june\" : 30 , \"july\" : 31 , \"aug\" : 31 , \"sept\" : 30 , \"oct\" : 31 , \"nov\" : 30 , \"dec\" : 31}\n",
    "\n",
    "print( \"Month which have 30 days !!-- \")\n",
    "for i in month :\n",
    "    if month [ i ] == 30 :\n",
    "        print( i )"
   ]
  },
  {
   "cell_type": "markdown",
   "metadata": {},
   "source": [
    "<h1>7.WAP to store details of 10 students in a dictionary with keys RollNo, Name, Marks, CGPA"
   ]
  },
  {
   "cell_type": "code",
   "execution_count": 1,
   "metadata": {},
   "outputs": [
    {
     "name": "stdout",
     "output_type": "stream",
     "text": [
      "Enter Roll No.:1913612\n",
      "Enter name:Prerna\n",
      "Enter marks:100\n",
      "Enter CGPA:10\n",
      "Enter Roll No.:2\n",
      "Enter name:abs\n",
      "Enter marks:10\n",
      "Enter CGPA:10\n",
      "Enter Roll No.:3\n",
      "Enter name:pefreo\n",
      "Enter marks:20\n",
      "Enter CGPA:10\n",
      "Enter Roll No.:4\n",
      "Enter name:efe\n",
      "Enter marks:50\n",
      "Enter CGPA:10\n",
      "Enter Roll No.:5\n",
      "Enter name:prrnea\n",
      "Enter marks:100\n",
      "Enter CGPA:9\n",
      "Enter Roll No.:6\n",
      "Enter name:wfewf\n",
      "Enter marks:80\n",
      "Enter CGPA:8\n",
      "Enter Roll No.:7\n",
      "Enter name:ewfwf\n",
      "Enter marks:50\n",
      "Enter CGPA:7\n",
      "Enter Roll No.:8\n",
      "Enter name:ewgf,ekrp\n",
      "Enter marks:50\n",
      "Enter CGPA:8\n",
      "Enter Roll No.:9\n",
      "Enter name:prewq\n",
      "Enter marks:100\n",
      "Enter CGPA:9\n",
      "Enter Roll No.:10\n",
      "Enter name:egwe\n",
      "Enter marks:100\n",
      "Enter CGPA:10\n",
      "{'Prerna': [1913612, 100.0, 10.0], 'abs': [2, 10.0, 10.0], 'pefreo': [3, 20.0, 10.0], 'efe': [4, 50.0, 10.0], 'prrnea': [5, 100.0, 9.0], 'wfewf': [6, 80.0, 8.0], 'ewfwf': [7, 50.0, 7.0], 'ewgf,ekrp': [8, 50.0, 8.0], 'prewq': [9, 100.0, 9.0], 'egwe': [10, 100.0, 10.0]}\n"
     ]
    }
   ],
   "source": [
    "details={}\n",
    "for i in range(10):\n",
    "    r=int(input(\"Enter Roll No.:\"))\n",
    "    n=input(\"Enter name:\")\n",
    "    m=float(input(\"Enter marks:\"))\n",
    "    g=float(input(\"Enter CGPA:\"))\n",
    "    details[n]=[r,m,g]\n",
    "print(details)"
   ]
  },
  {
   "cell_type": "markdown",
   "metadata": {},
   "source": [
    "<h1>8.You have a dictioanry d1 = {\"k1\":\"v1\",\"k2\":\"v2\",\"k3\":\"v3\",\"k4\":\"v4\",\"k5\":\"v5\"}. WAP to reverse this i.e keys should become values and values should become keys. The result should be d2 = {\"v5\":\"k5\",\"v4\":\"k4\",\"v3\":\"k3\",\"v2\":\"k2\",\"v1\":\"k1\"}"
   ]
  },
  {
   "cell_type": "code",
   "execution_count": null,
   "metadata": {},
   "outputs": [],
   "source": []
  },
  {
   "cell_type": "markdown",
   "metadata": {},
   "source": [
    "<h1>9.WAP to input two dictionaries and print the overlapping keys in them."
   ]
  },
  {
   "cell_type": "code",
   "execution_count": 1,
   "metadata": {},
   "outputs": [
    {
     "name": "stdout",
     "output_type": "stream",
     "text": [
      "Enter no. of enteries of d12\n",
      "Enter no. of enteries of d22\n",
      "k1\n",
      "v1\n",
      "k2\n",
      "v2\n",
      "Dict 1: {'k1': 'v1', 'k2': 'v2'}\n",
      "k1\n",
      "v3\n",
      "k1\n",
      "v2\n",
      "Dict 2: {'k1': 'v2'}\n",
      "keys common in both in dictionaries: ['k1']\n"
     ]
    }
   ],
   "source": [
    "D1={}\n",
    "D2={}\n",
    "n1=int(input(\"Enter no. of enteries of d1\"))\n",
    "n2=int(input(\"Enter no. of enteries of d2\"))\n",
    "for i in range(n1):\n",
    "    k=input()\n",
    "    v=input()\n",
    "    D1[k]=v\n",
    "print(\"Dict 1:\", D1)\n",
    "\n",
    "for i in range(n2):\n",
    "    k=input()\n",
    "    v=input()\n",
    "    D2[k]=v\n",
    "print(\"Dict 2:\", D2)\n",
    "l=[]\n",
    "\n",
    "for i in D1:\n",
    "    if i in D2:\n",
    "        l.append(i)\n",
    "print(\"keys common in both in dictionaries:\",l)"
   ]
  },
  {
   "cell_type": "markdown",
   "metadata": {},
   "source": [
    "<h1>10.WAP to check if two same values in a dictionary has different keys"
   ]
  },
  {
   "cell_type": "code",
   "execution_count": 12,
   "metadata": {},
   "outputs": [
    {
     "name": "stdout",
     "output_type": "stream",
     "text": [
      "The original list is : [{'eee': 5, 'ddd': 8, 'ppp': 0}, {'eee': 5, 'ddd': 1, 'ppp': 0}, {'eee': 5, 'ddd': 0, 'ppp': 0}]\n",
      "Similar values keys : ['eee', 'ppp']\n"
     ]
    }
   ],
   "source": []
  },
  {
   "cell_type": "code",
   "execution_count": null,
   "metadata": {},
   "outputs": [],
   "source": []
  },
  {
   "cell_type": "code",
   "execution_count": null,
   "metadata": {},
   "outputs": [],
   "source": []
  }
 ],
 "metadata": {
  "kernelspec": {
   "display_name": "Python 3 (ipykernel)",
   "language": "python",
   "name": "python3"
  },
  "language_info": {
   "codemirror_mode": {
    "name": "ipython",
    "version": 3
   },
   "file_extension": ".py",
   "mimetype": "text/x-python",
   "name": "python",
   "nbconvert_exporter": "python",
   "pygments_lexer": "ipython3",
   "version": "3.9.7"
  }
 },
 "nbformat": 4,
 "nbformat_minor": 2
}

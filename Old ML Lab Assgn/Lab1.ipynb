{
 "cells": [
  {
   "cell_type": "code",
   "execution_count": null,
   "id": "9cf2cd37",
   "metadata": {},
   "outputs": [],
   "source": [
    "num = input(\"Enter a number \")\n",
    "num = int(num)\n",
    "if(num % 5 == 0):\n",
    "    print(\"Number is Divisible by 5\")\n",
    "else:\n",
    "    print(\"Number is not Divisible by 5\")"
   ]
  },
  {
   "cell_type": "code",
   "execution_count": null,
   "id": "b21cd06b",
   "metadata": {},
   "outputs": [],
   "source": [
    "num = input(\"Enter a number: \")\n",
    "num = int(num)\n",
    "if(num % 2 == 0):\n",
    "    print(\"Number is Even\")\n",
    "else:\n",
    "    print(\"Number is odd\")"
   ]
  },
  {
   "cell_type": "code",
   "execution_count": null,
   "id": "25051f99",
   "metadata": {},
   "outputs": [],
   "source": [
    "import math\n",
    "a = input(\"Please Enter a Value of a Quadratic Equation : \")\n",
    "a = int(a)\n",
    "b = input(\"Please Enter b Value of a Quadratic Equation : \")\n",
    "b = int(b)\n",
    "c = input(\"Please Enter c Value of a Quadratic Equation : \")\n",
    "c = int(c)\n",
    "\n",
    "discriminant = (b * b) - (4 * a * c)\n",
    "\n",
    "if(discriminant > 0):\n",
    "    root1 = (-b + math.sqrt(discriminant) / (2 * a))\n",
    "    root2 = (-b - math.sqrt(discriminant) / (2 * a))\n",
    "    print(\"Real Roots: root1 = %.2f and root2 = %.2f\" %(root1, root2))\n",
    "elif(discriminant == 0):\n",
    "    root1 = root2 = -b / (2 * a)\n",
    "    print(\"Two Equal and Real Roots: root1 = %.2f and root2 = %.2f\" %(root1, root2))\n",
    "elif(discriminant < 0):\n",
    "    root1 = root2 = -b / (2 * a)\n",
    "    imaginary = math.sqrt(-discriminant) / (2 * a)\n",
    "    print(\"Complex Roots: root1 = %.2f+%.2f and root2 = %.2f-%.2f\" %(root1, imaginary, root2, imaginary))"
   ]
  },
  {
   "cell_type": "code",
   "execution_count": null,
   "id": "ad7cc549",
   "metadata": {},
   "outputs": [],
   "source": [
    "marks = input(\"Enter marks: \")\n",
    "marks = int(marks)\n",
    "if(marks > 80):\n",
    "    print(\"Grade: O\")\n",
    "elif(marks > 70):\n",
    "    print(\"Grade: A\")\n",
    "elif(marks > 60):\n",
    "    print(\"Grade: B\")\n",
    "elif(marks > 50):\n",
    "    print(\"Grade: C\")\n",
    "elif(marks > 40):\n",
    "    print(\"Grade: D\")\n",
    "else:\n",
    "    print(\"NC\")"
   ]
  },
  {
   "cell_type": "code",
   "execution_count": null,
   "id": "e65e461f",
   "metadata": {},
   "outputs": [],
   "source": [
    "\n"
   ]
  }
 ],
 "metadata": {
  "kernelspec": {
   "display_name": "Python 3 (ipykernel)",
   "language": "python",
   "name": "python3"
  },
  "language_info": {
   "codemirror_mode": {
    "name": "ipython",
    "version": 3
   },
   "file_extension": ".py",
   "mimetype": "text/x-python",
   "name": "python",
   "nbconvert_exporter": "python",
   "pygments_lexer": "ipython3",
   "version": "3.10.1"
  }
 },
 "nbformat": 4,
 "nbformat_minor": 5
}

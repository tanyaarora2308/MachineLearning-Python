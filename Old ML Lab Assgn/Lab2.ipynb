{
 "cells": [
  {
   "cell_type": "code",
   "execution_count": null,
   "id": "9179d816",
   "metadata": {},
   "outputs": [],
   "source": [
    "n = input(\"enter n \")\n",
    "n=int(n)\n",
    "for i in range(0,n+1,+2):\n",
    "    print(i)"
   ]
  },
  {
   "cell_type": "code",
   "execution_count": null,
   "id": "b861c1f6",
   "metadata": {},
   "outputs": [],
   "source": [
    "num = int(input(\"Enter a number: \"))\n",
    "flag = False\n",
    "if num > 1:\n",
    "    for i in range(2, num):\n",
    "        if (num % i) == 0:\n",
    "            flag = True\n",
    "            break\n",
    "\n",
    "if flag:\n",
    "    print(num, \"is not a prime number\")\n",
    "else:\n",
    "    print(num, \"is a prime number\")"
   ]
  },
  {
   "cell_type": "code",
   "execution_count": null,
   "id": "27195bf1",
   "metadata": {},
   "outputs": [],
   "source": [
    "nterms = int(input(\"How many terms? \"))\n",
    "n1, n2 = 0, 1\n",
    "count = 0\n",
    "if nterms <= 0:\n",
    "   print(\"Please enter a positive integer\")\n",
    "elif nterms == 1:\n",
    "   print(\"Fibonacci sequence upto\",nterms,\":\")\n",
    "   print(n1)\n",
    "else:\n",
    "   print(\"Fibonacci sequence:\")\n",
    "   while count < nterms:\n",
    "       print(n1)\n",
    "       nth = n1 + n2\n",
    "       n1 = n2\n",
    "       n2 = nth\n",
    "       count += 1"
   ]
  },
  {
   "cell_type": "code",
   "execution_count": null,
   "id": "8836751b",
   "metadata": {},
   "outputs": [],
   "source": [
    "n=int(input(\"enter n \"))\n",
    "sum =0\n",
    "for i in range(1,n+1,+1):\n",
    "    sum+=i\n",
    "print(sum)"
   ]
  },
  {
   "cell_type": "code",
   "execution_count": null,
   "id": "d3e3ec54",
   "metadata": {},
   "outputs": [],
   "source": [
    "for Number in range (1, 101):\n",
    "    count = 0\n",
    "    for i in range(2, (Number//2 + 1)):\n",
    "        if(Number % i == 0):\n",
    "            count = count + 1\n",
    "            break\n",
    "\n",
    "    if (count == 0 and Number != 1):\n",
    "        print(\" %d\" %Number, end = '  ')"
   ]
  },
  {
   "cell_type": "code",
   "execution_count": null,
   "id": "56bfc246",
   "metadata": {},
   "outputs": [],
   "source": [
    "num = int(input(\"Enter a number: \"))\n",
    "sum = 0\n",
    "temp = num\n",
    "while temp > 0:\n",
    "   digit = temp % 10\n",
    "   sum += digit ** 3\n",
    "   temp //= 10\n",
    "if num == sum:\n",
    "   print(num,\"is an Armstrong number\")\n",
    "else:\n",
    "   print(num,\"is not an Armstrong number\")"
   ]
  },
  {
   "cell_type": "code",
   "execution_count": null,
   "id": "153bfb61",
   "metadata": {},
   "outputs": [],
   "source": [
    "import math\n",
    "number = int(input(\"Enter the Number\"))\n",
    "\n",
    "root = math.sqrt(number)\n",
    "if int(root + 0.5) ** 2 == number:\n",
    "    print(number, \"is a perfect square\")\n",
    "else:\n",
    "    print(number, \"is not a perfect square\")"
   ]
  },
  {
   "cell_type": "code",
   "execution_count": null,
   "id": "4cdf5e94",
   "metadata": {},
   "outputs": [],
   "source": [
    "n=int(input(\"Enter number:\"))\n",
    "temp=n\n",
    "rev=0\n",
    "while(n>0):\n",
    "    dig=n%10\n",
    "    rev=rev*10+dig\n",
    "    n=n//10\n",
    "if(temp==rev):\n",
    "    print(\"The number is a palindrome!\")\n",
    "else:\n",
    "    print(\"The number isn't a palindrome!\")"
   ]
  },
  {
   "cell_type": "code",
   "execution_count": null,
   "id": "8c770673",
   "metadata": {},
   "outputs": [],
   "source": [
    "n=int(input(\"Enter number:\"))\n",
    "fact=1\n",
    "while(n>0):\n",
    "    fact=fact*n\n",
    "    n=n-1\n",
    "fact"
   ]
  },
  {
   "cell_type": "code",
   "execution_count": null,
   "id": "8f7dc367",
   "metadata": {},
   "outputs": [],
   "source": [
    "n=int(input(\"Enter number:\"))\n",
    "if(n%4==0):\n",
    "    print(\"it is leap year\")\n",
    "else:\n",
    "    print(\"it isnt leap year\")"
   ]
  },
  {
   "cell_type": "code",
   "execution_count": null,
   "id": "658b7383",
   "metadata": {},
   "outputs": [],
   "source": [
    "rows = int(input(\"Enter the number of rows : \"))\n",
    "for i in range(0, rows):\n",
    "    coff = 1\n",
    "\n",
    "    for j in range(1, rows-i):\n",
    "        print(\"  \", end=\"\")\n",
    "    \n",
    "    for k in range(0, i+1):\n",
    "        print(\"  \", coff, end=\"\")\n",
    "        coff = int(coff * (i - k) / (k + 1))\n",
    "\n",
    "    print()"
   ]
  },
  {
   "cell_type": "code",
   "execution_count": null,
   "id": "7ace582f",
   "metadata": {},
   "outputs": [],
   "source": []
  }
 ],
 "metadata": {
  "kernelspec": {
   "display_name": "Python 3 (ipykernel)",
   "language": "python",
   "name": "python3"
  },
  "language_info": {
   "codemirror_mode": {
    "name": "ipython",
    "version": 3
   },
   "file_extension": ".py",
   "mimetype": "text/x-python",
   "name": "python",
   "nbconvert_exporter": "python",
   "pygments_lexer": "ipython3",
   "version": "3.10.1"
  }
 },
 "nbformat": 4,
 "nbformat_minor": 5
}

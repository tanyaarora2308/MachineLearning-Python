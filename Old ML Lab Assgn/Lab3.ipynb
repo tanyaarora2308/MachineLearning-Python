{
 "cells": [
  {
   "cell_type": "code",
   "execution_count": 1,
   "id": "84b64d7a",
   "metadata": {},
   "outputs": [
    {
     "name": "stdout",
     "output_type": "stream",
     "text": [
      "It is not a palindrome\n"
     ]
    }
   ],
   "source": [
    "s = \"tanya\"\n",
    "length = len(s)\n",
    "for i in range(0, int(length/2)):\n",
    "    if s[i] != s[len(s)-i-1]:\n",
    "        print(\"It is not a palindrome\")\n",
    "        break\n",
    "    \n",
    "    print(\"It is a palindrome\")"
   ]
  },
  {
   "cell_type": "code",
   "execution_count": 2,
   "id": "099c1ec1",
   "metadata": {},
   "outputs": [
    {
     "name": "stdout",
     "output_type": "stream",
     "text": [
      "My Name Is Tanya\n"
     ]
    }
   ],
   "source": [
    "s=\"my name is tanya\"\n",
    "\n",
    "result = \"\"\n",
    "words = s.split()\n",
    "for elem in words:\n",
    "    if len(result) > 0:\n",
    "        result = result + \" \" + elem.strip().capitalize()\n",
    "    else:\n",
    "        result = elem.capitalize()\n",
    "print(result)"
   ]
  },
  {
   "cell_type": "code",
   "execution_count": 3,
   "id": "3a9faa97",
   "metadata": {},
   "outputs": [
    {
     "name": "stdout",
     "output_type": "stream",
     "text": [
      "hElLoWoRlD\n"
     ]
    }
   ],
   "source": [
    "s=\"helloworld\"\n",
    "res=\"\"\n",
    "n=len(s)\n",
    "for i in range(n):\n",
    "    if(i % 2):\n",
    "        res += s[i].capitalize()\n",
    "    else: res += s[i]\n",
    "    \n",
    "print(res)"
   ]
  },
  {
   "cell_type": "code",
   "execution_count": null,
   "id": "c87d9382",
   "metadata": {},
   "outputs": [],
   "source": [
    "s = input(\"Enter email ID : \")\n",
    "ss=\"@banasthali.in\"\n",
    "res = s.find(ss)\n",
    "if(res == -1):\n",
    "    print(\"Doesn't belong to Banasthali Domain\")\n",
    "else:\n",
    "    print(\"Belongs to Banasthali Domain\")"
   ]
  },
  {
   "cell_type": "code",
   "execution_count": null,
   "id": "add5c706",
   "metadata": {},
   "outputs": [],
   "source": [
    "vowels = ['a', 'e', 'i', 'o', 'u']\n",
    "\n",
    "s = input(\"Enter a string: \").lower()\n",
    "\n",
    "v=0\n",
    "c=0\n",
    "\n",
    "for i in s:\n",
    "    if i in vowels:\n",
    "        v+=1\n",
    "    else:\n",
    "        c+=1\n",
    "\n",
    "print(\"Vowels: \", v)\n",
    "print(\"Consonants: \", c)"
   ]
  },
  {
   "cell_type": "code",
   "execution_count": null,
   "id": "a34fed0b",
   "metadata": {},
   "outputs": [],
   "source": [
    "articles = [\"a\", \"an\", \"the\"]\n",
    "\n",
    "s = input(\"Enter a string: \").lower()\n",
    "count=0\n",
    "\n",
    "for i in s:\n",
    "    if i in articles:\n",
    "        count+=1\n",
    "\n",
    "print(\"Number of articles: \", count)"
   ]
  },
  {
   "cell_type": "code",
   "execution_count": null,
   "id": "80ac9ae2",
   "metadata": {},
   "outputs": [],
   "source": [
    "s = input(\"Enter string: \")\n",
    "ss=\"good\"\n",
    "res = s.find(ss)\n",
    "if(res != -1):\n",
    "    print(\"Has 'good'\")\n",
    "else:\n",
    "    print(\"Doesnt have 'good'\")"
   ]
  },
  {
   "cell_type": "code",
   "execution_count": null,
   "id": "2de08710",
   "metadata": {},
   "outputs": [],
   "source": []
  }
 ],
 "metadata": {
  "kernelspec": {
   "display_name": "Python 3 (ipykernel)",
   "language": "python",
   "name": "python3"
  },
  "language_info": {
   "codemirror_mode": {
    "name": "ipython",
    "version": 3
   },
   "file_extension": ".py",
   "mimetype": "text/x-python",
   "name": "python",
   "nbconvert_exporter": "python",
   "pygments_lexer": "ipython3",
   "version": "3.10.1"
  }
 },
 "nbformat": 4,
 "nbformat_minor": 5
}

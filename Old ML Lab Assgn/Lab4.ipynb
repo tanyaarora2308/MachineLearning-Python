{
 "cells": [
  {
   "cell_type": "code",
   "execution_count": 8,
   "id": "aa3ca78e",
   "metadata": {},
   "outputs": [
    {
     "name": "stdout",
     "output_type": "stream",
     "text": [
      "Minimum Element in the list [8, 1, 7, 10, 5] is 1\n"
     ]
    }
   ],
   "source": [
    "listValues=[8,1,7,10,5]\n",
    "\n",
    "minn = listValues[0]\n",
    "index = 0\n",
    "\n",
    "for i in range(1,len(listValues)):\n",
    "    if listValues[i]<minn:\n",
    "        minn=listValues[i]\n",
    "        index = i\n",
    "        \n",
    "print('Minimum Element in the list',listValues,'is',minn)"
   ]
  },
  {
   "cell_type": "code",
   "execution_count": null,
   "id": "3bb0e5f9",
   "metadata": {},
   "outputs": [],
   "source": [
    "n=int(input(\"Enter the number of elements to be inserted: \"))\n",
    "a=[]\n",
    "for i in range(0,n):\n",
    "    elem=int(input(\"Enter element: \"))\n",
    "    a.append(elem)\n",
    "avg=sum(a)/n\n",
    "print(\"Average of elements in the list\",round(avg,2))"
   ]
  },
  {
   "cell_type": "code",
   "execution_count": null,
   "id": "632212aa",
   "metadata": {},
   "outputs": [],
   "source": [
    "listValues = [ 1, 6, 3, 5, 3, 4 ]\n",
    "n=int(input(\"Enter the number to be searched: \"))\n",
    "\n",
    "print(\"Checking if it exists in list : \")\n",
    " \n",
    "for i in listValues:\n",
    "    if(i == n) :\n",
    "        print (\"Element Exists\")\n",
    " "
   ]
  },
  {
   "cell_type": "code",
   "execution_count": null,
   "id": "1107a131",
   "metadata": {},
   "outputs": [],
   "source": [
    "listValues = ['A', 'A', 'B', 'C', 'B', 'D', 'D', 'A', 'B']\n",
    "frequency = {}\n",
    "\n",
    "for item in listValues:\n",
    "   # checking the element in dictionary\n",
    "   if item in frequency:\n",
    "      frequency[item] += 1\n",
    "   else:\n",
    "      frequency[item] = 1\n",
    "\n",
    "print(frequency)"
   ]
  },
  {
   "cell_type": "code",
   "execution_count": null,
   "id": "bedfbafd",
   "metadata": {},
   "outputs": [],
   "source": [
    "list1 = [10, 20, 4, 45, 99]\n",
    " \n",
    "mx=max(list1[0],list1[1])\n",
    "\n",
    "secondmax=min(list1[0],list1[1])\n",
    "\n",
    "n =len(list1)\n",
    "for i in range(2,n):\n",
    "    if list1[i]>mx:\n",
    "        secondmax=mx\n",
    "        mx=list1[i]\n",
    "    elif list1[i]>secondmax and \\\n",
    "        mx != list1[i]:\n",
    "        secondmax=list1[i]\n",
    " \n",
    "print(\"Second highest number is : \",\\\n",
    "      str(secondmax))"
   ]
  },
  {
   "cell_type": "code",
   "execution_count": null,
   "id": "53fd1731",
   "metadata": {},
   "outputs": [],
   "source": [
    "arr = [1, 9, 8, 4, 0, 0, 2, 7, 0, 6, 0, 9]\n",
    "n = len(arr)\n",
    "for i in range(n):\n",
    "    if arr[i] != 0:\n",
    "        arr[count] = arr[i]\n",
    "        count+=1\n",
    "while count < n:\n",
    "        arr[count] = 0\n",
    "        count += 1\n",
    "        \n",
    "print(\"Array after pushing all zeros to end of array:\")\n",
    "print(arr)\n",
    "    "
   ]
  },
  {
   "cell_type": "code",
   "execution_count": null,
   "id": "9182cf15",
   "metadata": {},
   "outputs": [],
   "source": [
    "X = [[1,2,3],\n",
    "    [4 ,5,6],\n",
    "    [7 ,8,9]]\n",
    " \n",
    "Y = [[9,8,7],\n",
    "    [6,5,4],\n",
    "    [3,2,1]]\n",
    " \n",
    " \n",
    "result = [[0,0,0],\n",
    "        [0,0,0],\n",
    "        [0,0,0]]\n",
    " \n",
    "for i in range(len(X)):  \n",
    "    for j in range(len(X[0])):\n",
    "        result[i][j] = X[i][j] + Y[i][j]\n",
    " \n",
    "for r in result:\n",
    "    print(r)"
   ]
  },
  {
   "cell_type": "code",
   "execution_count": null,
   "id": "4474a52b",
   "metadata": {},
   "outputs": [],
   "source": [
    "A = [[12, 7, 3],\n",
    "    [4, 5, 6],\n",
    "    [7, 8, 9]]\n",
    "  \n",
    "B = [[5, 8, 1, 2],\n",
    "    [6, 7, 3, 0],\n",
    "    [4, 5, 9, 1]]\n",
    "     \n",
    "result = [[0, 0, 0, 0],\n",
    "        [0, 0, 0, 0],\n",
    "        [0, 0, 0, 0]]\n",
    " \n",
    "for i in range(len(A)):\n",
    " \n",
    "    for j in range(len(B[0])):\n",
    " \n",
    "        for k in range(len(B)):\n",
    "            result[i][j] += A[i][k] * B[k][j]\n",
    " \n",
    "for r in result:\n",
    "    print(r)"
   ]
  },
  {
   "cell_type": "code",
   "execution_count": null,
   "id": "be66f416",
   "metadata": {},
   "outputs": [],
   "source": [
    "matrix = [[10,5,9,6],[8,15,3,2],[3,8,12,3],[2,11,7,3],]\n",
    "count = 0\n",
    "for i in range(m):\n",
    "  count += matrix[i][i]\n",
    "  count += matrix[i][-1 - i]\n",
    "\n",
    "if m % 2 == 1: count -= matrix[m // 2][m // 2]"
   ]
  },
  {
   "cell_type": "code",
   "execution_count": null,
   "id": "cf8bfa23",
   "metadata": {},
   "outputs": [],
   "source": [
    "matrix = [[3, 4, 4, 6],[6, 8, 11, 12],[6, 8, 11, 15],[9, 11, 12, 17]]\n",
    "for i in range(len(matrix)):\n",
    "        for j in range(len(matrix[i])):\n",
    "            if matrix[i][j] == element:\n",
    "                print(Found)\n",
    "                break"
   ]
  }
 ],
 "metadata": {
  "kernelspec": {
   "display_name": "Python 3 (ipykernel)",
   "language": "python",
   "name": "python3"
  },
  "language_info": {
   "codemirror_mode": {
    "name": "ipython",
    "version": 3
   },
   "file_extension": ".py",
   "mimetype": "text/x-python",
   "name": "python",
   "nbconvert_exporter": "python",
   "pygments_lexer": "ipython3",
   "version": "3.10.1"
  }
 },
 "nbformat": 4,
 "nbformat_minor": 5
}

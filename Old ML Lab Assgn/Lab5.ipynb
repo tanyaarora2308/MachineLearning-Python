{
 "cells": [
  {
   "cell_type": "code",
   "execution_count": null,
   "id": "6ef7ac4b",
   "metadata": {},
   "outputs": [],
   "source": [
    "def max( x, y ):\n",
    "    if x > y:\n",
    "        return x\n",
    "    return y\n",
    "\n",
    "def maximumOf3numbers( x, y, z ):\n",
    "    return max( x, max( y, z ) )\n",
    "\n",
    "n1=int(input(\"Enter first number: \"));\n",
    "n2=int(input(\"Enter second number: \"));\n",
    "n3=int(input(\"Enter Third number: \"));\n",
    "print(\"max number is \",maximumOf3numbers(n1, n2, n3))"
   ]
  },
  {
   "cell_type": "code",
   "execution_count": null,
   "id": "096cc631",
   "metadata": {},
   "outputs": [],
   "source": [
    "def sum():\n",
    "for ele in range(0, len(list1)):\n",
    "    total = total + list1[ele]\n",
    "return total\n",
    "    \n",
    "total = 0\n",
    "list1 = [1,2,3,4,5]\n",
    "print(\"Sum of all elements in given list: \", sum())\n"
   ]
  },
  {
   "cell_type": "code",
   "execution_count": null,
   "id": "cfb3447e",
   "metadata": {},
   "outputs": [],
   "source": [
    "def multiply():\n",
    "for x in list1:\n",
    "    product = product * x\n",
    "return product\n",
    "\n",
    "product = 1\n",
    "list1 = [1,2,3,4,5]\n",
    "print(\"Product of all elements in given list: \", multiply())"
   ]
  },
  {
   "cell_type": "code",
   "execution_count": null,
   "id": "c308a94b",
   "metadata": {},
   "outputs": [],
   "source": [
    "def reverse(s):\n",
    "  str = \"\"\n",
    "  for i in s:\n",
    "    str = i + str\n",
    "  return str\n",
    "  \n",
    "s = \"BanasthaliVidyapith\"\n",
    "  \n",
    "print (\"The original string  is : \",end=\"\")\n",
    "print (s)\n",
    "  \n",
    "print (\"The reversed string is : \",end=\"\")\n",
    "print (reverse(s))"
   ]
  },
  {
   "cell_type": "code",
   "execution_count": null,
   "id": "f347b1e4",
   "metadata": {},
   "outputs": [],
   "source": [
    "def isPalindrome(str):\n",
    " \n",
    "    for i in range(0, int(len(str)/2)):\n",
    "        if str[i] != str[len(str)-i-1]:\n",
    "            return False\n",
    "    return True\n",
    " \n",
    "s = \"tanya\"\n",
    "ans = isPalindrome(s)\n",
    " \n",
    "if (ans):\n",
    "    print(\"Palindrome\")\n",
    "else:\n",
    "    print(\"Not Palindrome\")"
   ]
  },
  {
   "cell_type": "code",
   "execution_count": null,
   "id": "53e2e01e",
   "metadata": {},
   "outputs": [],
   "source": [
    "n = int(input(\" Please Enter the Maximum Value : \"))\n",
    "\n",
    "for number in range(1, n+1):\n",
    "    if(number % 2 == 0):\n",
    "        print(\"{0}\".format(number))"
   ]
  },
  {
   "cell_type": "code",
   "execution_count": null,
   "id": "9f6f2936",
   "metadata": {},
   "outputs": [],
   "source": [
    "num = 121\n",
    "  \n",
    "if num > 1:\n",
    "  \n",
    "    for i in range(2, int(num/2)+1):\n",
    "        if (num % i) == 0:\n",
    "            print(num, \"is not a prime number\")\n",
    "            break\n",
    "    else:\n",
    "        print(num, \"is a prime number\")\n",
    "  \n",
    "else:\n",
    "    print(num, \"is not a prime number\")"
   ]
  },
  {
   "cell_type": "code",
   "execution_count": null,
   "id": "69013eb0",
   "metadata": {},
   "outputs": [],
   "source": [
    "def prime(x, y):\n",
    "    prime_list = []\n",
    "    for i in range(x, y):\n",
    "        if i == 0 or i == 1:\n",
    "            continue\n",
    "        else:\n",
    "            for j in range(2, int(i/2)+1):\n",
    "                if i % j == 0:\n",
    "                    break\n",
    "            else:\n",
    "                prime_list.append(i)\n",
    "    return prime_list\n",
    " \n",
    "starting_range = 1\n",
    "ending_range = 10\n",
    "lst = prime(starting_range, ending_range)\n",
    "if len(lst) == 0:\n",
    "    print(\"There are no prime numbers in this range\")\n",
    "else:\n",
    "    print(\"The prime numbers in this range are: \", lst)"
   ]
  },
  {
   "cell_type": "code",
   "execution_count": null,
   "id": "142bb1f8",
   "metadata": {},
   "outputs": [],
   "source": [
    "def uniqueElements(list1):\n",
    " \n",
    "    res = []\n",
    "     \n",
    "    for x in list1:\n",
    "        if x not in res:\n",
    "            res.append(x)\n",
    "            \n",
    "    for x in res:\n",
    "        print(x),\n",
    "     \n",
    "   \n",
    " \n",
    "list1 = [10, 20, 10, 30, 40, 40]\n",
    "print(\"the unique values from 1st list is\")\n",
    "uniqueElements(list1)"
   ]
  },
  {
   "cell_type": "code",
   "execution_count": null,
   "id": "08cec266",
   "metadata": {},
   "outputs": [],
   "source": []
  }
 ],
 "metadata": {
  "kernelspec": {
   "display_name": "Python 3 (ipykernel)",
   "language": "python",
   "name": "python3"
  },
  "language_info": {
   "codemirror_mode": {
    "name": "ipython",
    "version": 3
   },
   "file_extension": ".py",
   "mimetype": "text/x-python",
   "name": "python",
   "nbconvert_exporter": "python",
   "pygments_lexer": "ipython3",
   "version": "3.10.1"
  }
 },
 "nbformat": 4,
 "nbformat_minor": 5
}

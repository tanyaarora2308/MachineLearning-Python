{
 "cells": [
  {
   "cell_type": "code",
   "execution_count": null,
   "id": "3c4544ce",
   "metadata": {},
   "outputs": [],
   "source": [
    "file = open(\"tanya.txt\", \"r\")\n",
    "\n",
    "number_of_lines = 0\n",
    "number_of_words = 0\n",
    "number_of_characters = 0\n",
    "for line in file:\n",
    "  line = line.strip(\"\\n\")\n",
    "\n",
    "  words = line.split()\n",
    "  number_of_lines += 1\n",
    "  number_of_words += len(words)\n",
    "  number_of_characters += len(line)\n",
    "\n",
    "file.close()\n",
    "\n",
    "print(\"lines:\", number_of_lines, \"words:\", number_of_words, \"characters:\", number_of_characters)"
   ]
  },
  {
   "cell_type": "code",
   "execution_count": null,
   "id": "ed321e29",
   "metadata": {},
   "outputs": [],
   "source": [
    "with open('tanya.txt','r') as firstfile, open('second.txt','a') as secondfile:\n",
    "      \n",
    "    for line in firstfile:\n",
    "               \n",
    "             secondfile.write(line)\n"
   ]
  },
  {
   "cell_type": "code",
   "execution_count": null,
   "id": "ae52defa",
   "metadata": {},
   "outputs": [],
   "source": [
    "print(\"Enter the Name of File: \")\n",
    "fileName = str(input())\n",
    "fileHandle = open(fileName, \"r\")\n",
    "tot = 0\n",
    "vowels = ['a', 'e', 'i', 'o', 'u', 'A', 'E', 'I', 'O', 'U']\n",
    "\n",
    "for char in fileHandle.read():\n",
    "  if char in vowels:\n",
    "    tot = tot+1\n",
    "fileHandle.close()\n",
    "\n",
    "print(\"\\nTotal Vowels are:\")\n",
    "print(tot)\n"
   ]
  },
  {
   "cell_type": "code",
   "execution_count": null,
   "id": "c21c8157",
   "metadata": {},
   "outputs": [],
   "source": [
    "print(\"Enter the Name of File: \")\n",
    "fileName = str(input())\n",
    "fileHandle = open(fileName, \"r\")\n",
    "tot = 0\n",
    "articles = [\"a\",\"an\",\"the\"]\n",
    "\n",
    "for char in fileHandle.read():\n",
    "  if char in articles:\n",
    "    tot = tot+1\n",
    "fileHandle.close()\n",
    "\n",
    "print(\"\\nTotal Vowels are:\")\n",
    "print(tot)"
   ]
  },
  {
   "cell_type": "code",
   "execution_count": null,
   "id": "0edbc6fd",
   "metadata": {},
   "outputs": [],
   "source": [
    "textfile = open(\"tanya.txt\")\n",
    "lines = textfile.readlines()\n",
    "for line in reversed(lines):\n",
    "    print(line)"
   ]
  }
 ],
 "metadata": {
  "kernelspec": {
   "display_name": "Python 3 (ipykernel)",
   "language": "python",
   "name": "python3"
  },
  "language_info": {
   "codemirror_mode": {
    "name": "ipython",
    "version": 3
   },
   "file_extension": ".py",
   "mimetype": "text/x-python",
   "name": "python",
   "nbconvert_exporter": "python",
   "pygments_lexer": "ipython3",
   "version": "3.10.1"
  }
 },
 "nbformat": 4,
 "nbformat_minor": 5
}
